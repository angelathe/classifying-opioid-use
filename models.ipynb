{
 "cells": [
  {
   "cell_type": "code",
   "execution_count": 1,
   "metadata": {},
   "outputs": [],
   "source": [
    "import numpy as np\n",
    "import pandas as pd\n",
    "from sklearn.pipeline import make_pipeline\n",
    "from sklearn.preprocessing import StandardScaler\n",
    "from sklearn.model_selection import train_test_split\n",
    "from statsmodels.stats.outliers_influence import variance_inflation_factor\n",
    "from sklearn import preprocessing\n",
    "from patsy import dmatrices\n",
    "from sklearn.linear_model import LogisticRegression\n",
    "from sklearn import tree\n",
    "from sklearn.metrics import accuracy_score, recall_score, precision_score, f1_score\n",
    "from sklearn.ensemble import RandomForestClassifier\n",
    "from sklearn.ensemble import AdaBoostClassifier\n",
    "from sklearn.neural_network import MLPClassifier\n",
    "from sklearn.datasets import make_classification\n",
    "from identification import vif_detection\n",
    "import time\n",
    "import matplotlib.pyplot as plt\n",
    "import csv"
   ]
  },
  {
   "cell_type": "code",
   "execution_count": 2,
   "metadata": {},
   "outputs": [],
   "source": [
    "### Load in Data ###\n",
    "data = pd.read_csv(\"data_cleaning/final_data.csv\")\n",
    "\n",
    "\n",
    "vars = [\"REGION_YEAR\",\"AGELAST\",\"SEX\",\"RACETHX\",\"MARRY_YEARX\",\"EDUCYR\",\n",
    "\"BORNUSA\",\"FOODST_YEAR\",\"TTLP_YEARX\",\"FAMINC_YEAR\",\"POVCAT_YEAR\",\"POVLEV_YEAR\",\"WAGEP_YEARX\",\n",
    "\"DIVDP_YEARX\",\"SALEP_YEARX\",\"PENSP_YEARX\",\"PUBP_YEARX\",\"ADHDADDX\",\"ACTDTY\",\n",
    "'UNINSURED_ONLY', 'PRIVATE_ONLY', 'MEDICAID_ONLY', 'MEDICARE_ANY', 'MEDICARE_ADV', 'MEDICARE_MEDICAID', 'MEDICARE_PRIVATE',\t\n",
    "\"RTHLTH\",\"MNHLTH\",\"EMPST\",\"non_opioid_prescriptions\",\"NUM_CONDITIONS\",\"INJURY\"]\n",
    "\n",
    "data = data.dropna()\n",
    "\n",
    "### Run identification ###\n",
    "y = pd.DataFrame(data, columns=['opioid_prescribed_at_all'])\n",
    "exog = pd.DataFrame(data, columns=vars)\n",
    "exog_vars = vif_detection(data,exog, y)\n",
    "\n",
    "### Data Normalization and Splitting ###\n",
    "X=pd.DataFrame(exog_vars).to_numpy()\n",
    "y=pd.DataFrame(y).to_numpy().reshape(len(y),)\n",
    "scaler = StandardScaler()\n",
    "X = scaler.fit_transform(X)\n",
    "X_scaled = scaler.transform(X)\n",
    "X_train, X_test_valid, y_train, y_test_valid = train_test_split(X_scaled, y, random_state=42, test_size = 0.2)\n",
    "X_valid, X_test, y_valid, y_test = train_test_split(X_test_valid, y_test_valid, random_state=42, test_size = 0.5)"
   ]
  },
  {
   "cell_type": "code",
   "execution_count": 8,
   "metadata": {},
   "outputs": [
    {
     "data": {
      "text/plain": [
       "Index(['REGION_YEAR', 'AGELAST', 'SEX', 'RACETHX', 'MARRY_YEARX', 'EDUCYR',\n",
       "       'BORNUSA', 'FOODST_YEAR', 'FAMINC_YEAR', 'POVCAT_YEAR', 'WAGEP_YEARX',\n",
       "       'DIVDP_YEARX', 'SALEP_YEARX', 'PENSP_YEARX', 'PUBP_YEARX', 'ADHDADDX',\n",
       "       'ACTDTY', 'UNINSURED_ONLY', 'PRIVATE_ONLY', 'MEDICAID_ONLY',\n",
       "       'MEDICARE_ANY', 'MEDICARE_ADV', 'MEDICARE_MEDICAID', 'MEDICARE_PRIVATE',\n",
       "       'RTHLTH', 'MNHLTH', 'EMPST', 'non_opioid_prescriptions',\n",
       "       'NUM_CONDITIONS', 'INJURY'],\n",
       "      dtype='object')"
      ]
     },
     "execution_count": 8,
     "metadata": {},
     "output_type": "execute_result"
    }
   ],
   "source": []
  },
  {
   "cell_type": "code",
   "execution_count": 3,
   "metadata": {},
   "outputs": [
    {
     "name": "stdout",
     "output_type": "stream",
     "text": [
      "baseline accuracy for valid 0.1841505996660088\n",
      "baseline accuracy for test 0.17789921068609593\n"
     ]
    }
   ],
   "source": [
    "baseline_majority_accuracy_valid = sum(y_valid) / len(y_valid)\n",
    "print(f'baseline accuracy for valid {baseline_majority_accuracy_valid}')\n",
    "baseline_majority_accuracy_test = sum(y_test) / len(y_test)\n",
    "print(f'baseline accuracy for test {baseline_majority_accuracy_test}')"
   ]
  },
  {
   "cell_type": "code",
   "execution_count": 4,
   "metadata": {
    "scrolled": true
   },
   "outputs": [
    {
     "name": "stdout",
     "output_type": "stream",
     "text": [
      "logistic model accuracy on valid: 82.2%\n",
      "logistic model precision on valid: 59.2%\n",
      "logistic model recall on valid: 10.3%\n",
      "logistic model f1 on valid: 17.6%\n",
      "logistic model time in seconds to predict valid: 2.5 seconds\n"
     ]
    },
    {
     "name": "stderr",
     "output_type": "stream",
     "text": [
      "c:\\Users\\matth\\anaconda3\\lib\\site-packages\\sklearn\\linear_model\\_logistic.py:763: ConvergenceWarning: lbfgs failed to converge (status=1):\n",
      "STOP: TOTAL NO. of ITERATIONS REACHED LIMIT.\n",
      "\n",
      "Increase the number of iterations (max_iter) or scale the data as shown in:\n",
      "    https://scikit-learn.org/stable/modules/preprocessing.html\n",
      "Please also refer to the documentation for alternative solver options:\n",
      "    https://scikit-learn.org/stable/modules/linear_model.html#logistic-regression\n",
      "  n_iter_i = _check_optimize_result(\n"
     ]
    }
   ],
   "source": [
    "### Model 1-Logistic Regression ###\n",
    "start_time = time.time()\n",
    "log_reg= LogisticRegression(max_iter = 1000).fit(X_train, y_train)  # apply scaling on training data\n",
    "y_predict = log_reg.predict(X_valid)\n",
    "log_reg_time = time.time() - start_time\n",
    "log_reg_accuracy = accuracy_score(y_valid, y_predict)\n",
    "log_reg_precision = precision_score(y_valid, y_predict)\n",
    "log_reg_recall = recall_score(y_valid, y_predict)\n",
    "log_reg_f1 = f1_score(y_valid, y_predict)\n",
    "print(f\"logistic model accuracy on valid: {log_reg_accuracy*100:.1f}%\")\n",
    "print(f\"logistic model precision on valid: {log_reg_precision*100:.1f}%\")\n",
    "print(f\"logistic model recall on valid: {log_reg_recall*100:.1f}%\")\n",
    "print(f\"logistic model f1 on valid: {log_reg_f1*100:.1f}%\")\n",
    "print(f'logistic model time in seconds to predict valid: {log_reg_time:.1f} seconds')"
   ]
  },
  {
   "cell_type": "code",
   "execution_count": 5,
   "metadata": {},
   "outputs": [
    {
     "name": "stdout",
     "output_type": "stream",
     "text": [
      "decision tree model accuracy on valid: 73.2%\n",
      "decision tree model precision on valid: 29.5%\n",
      "decision tree model recall on valid: 32.7%\n",
      "decision tree model f1 on valid: 31.1%\n",
      "decision tree model time in seconds to predict valid: 0.4 seconds\n"
     ]
    }
   ],
   "source": [
    "### Model 2-Decision Tree ###\n",
    "start_time = time.time()\n",
    "decision_tree = tree.DecisionTreeClassifier()\n",
    "decision_tree = decision_tree.fit(X_train, y_train)\n",
    "y_predict = decision_tree.predict(X_valid)\n",
    "decision_tree_time = time.time() - start_time\n",
    "decision_tree_accuracy = accuracy_score(y_valid, y_predict)\n",
    "decision_tree_precision = precision_score(y_valid, y_predict)\n",
    "decision_tree_recall = recall_score(y_valid, y_predict)\n",
    "decision_tree_f1 = f1_score(y_valid, y_predict)\n",
    "\n",
    "print(f\"decision tree model accuracy on valid: {decision_tree_accuracy*100:.1f}%\")\n",
    "print(f\"decision tree model precision on valid: {decision_tree_precision*100:.1f}%\")\n",
    "print(f\"decision tree model recall on valid: {decision_tree_recall*100:.1f}%\")\n",
    "print(f\"decision tree model f1 on valid: {decision_tree_f1*100:.1f}%\")\n",
    "print(f'decision tree model time in seconds to predict valid: {decision_tree_time:.1f} seconds')"
   ]
  },
  {
   "cell_type": "code",
   "execution_count": 18,
   "metadata": {},
   "outputs": [
    {
     "name": "stdout",
     "output_type": "stream",
     "text": [
      "\n",
      "random forest with 10 estimators\n",
      "\taccuracy on valid: 83.0%\n",
      "\tprecision on valid: 65.1%\n",
      "\trecall on valid: 16.9%\n",
      "\tf1 on valid: 26.8%\n",
      "\tseconds to predict valid: 0.6 seconds\n",
      "\n",
      "random forest with 50 estimators\n",
      "\taccuracy on valid: 83.4%\n",
      "\tprecision on valid: 71.6%\n",
      "\trecall on valid: 16.0%\n",
      "\tf1 on valid: 26.1%\n",
      "\tseconds to predict valid: 2.5 seconds\n",
      "\n",
      "random forest with 100 estimators\n",
      "\taccuracy on valid: 83.3%\n",
      "\tprecision on valid: 70.6%\n",
      "\trecall on valid: 15.8%\n",
      "\tf1 on valid: 25.9%\n",
      "\tseconds to predict valid: 4.9 seconds\n",
      "\n",
      "random forest with 250 estimators\n",
      "\taccuracy on valid: 83.3%\n",
      "\tprecision on valid: 72.9%\n",
      "\trecall on valid: 15.1%\n",
      "\tf1 on valid: 25.0%\n",
      "\tseconds to predict valid: 12.2 seconds\n",
      "\n",
      "random forest with 500 estimators\n",
      "\taccuracy on valid: 83.5%\n",
      "\tprecision on valid: 75.7%\n",
      "\trecall on valid: 15.4%\n",
      "\tf1 on valid: 25.6%\n",
      "\tseconds to predict valid: 24.3 seconds\n"
     ]
    },
    {
     "data": {
      "text/plain": [
       "Text(0.5, 0, 'Importance')"
      ]
     },
     "execution_count": 18,
     "metadata": {},
     "output_type": "execute_result"
    },
    {
     "data": {
      "image/png": "[encoded data removed]",
      "text/plain": [
       "<Figure size 432x288 with 1 Axes>"
      ]
     },
     "metadata": {
      "needs_background": "light"
     },
     "output_type": "display_data"
    }
   ],
   "source": [
    "### Model 3-Random Forest ###\n",
    "random_forest_times = []\n",
    "random_forest_accuracy_scores = []\n",
    "random_forest_precision_scores = []\n",
    "random_forest_recall_scores = []\n",
    "random_forest_f1_scores = []\n",
    "max_acc = 0\n",
    "for estimator in [10,50,100,250,500]:\n",
    "    start_time = time.time()\n",
    "    forest_model = RandomForestClassifier(random_state = 0, n_jobs = 1, n_estimators = estimator, class_weight = 'balanced')\n",
    "    forest_model = forest_model.fit(X_train, y_train)\n",
    "    y_predict = forest_model.predict(X_valid)\n",
    "\n",
    "    forest_model_time = time.time() - start_time\n",
    "    forest_model_accuracy = accuracy_score(y_valid, y_predict)\n",
    "    forest_model_precision = precision_score(y_valid, y_predict)\n",
    "    forest_model_recall = recall_score(y_valid, y_predict)\n",
    "    forest_model_f1 = f1_score(y_valid, y_predict)\n",
    "    if forest_model_accuracy > max_acc:\n",
    "        importances = forest_model.feature_importances_\n",
    "\n",
    "\n",
    "    random_forest_times.append(forest_model_time)\n",
    "    random_forest_accuracy_scores.append(forest_model_accuracy)\n",
    "    random_forest_precision_scores.append(forest_model_precision)\n",
    "    random_forest_recall_scores.append(forest_model_recall)\n",
    "    random_forest_f1_scores.append(forest_model_f1)\n",
    "\n",
    "    print(f'\\nrandom forest with {estimator} estimators')\n",
    "    print(f\"\\taccuracy on valid: {forest_model_accuracy*100:.1f}%\")\n",
    "    print(f\"\\tprecision on valid: {forest_model_precision*100:.1f}%\")\n",
    "    print(f\"\\trecall on valid: {forest_model_recall*100:.1f}%\")\n",
    "    print(f\"\\tf1 on valid: {forest_model_f1*100:.1f}%\")\n",
    "    print(f'\\tseconds to predict valid: {forest_model_time:.1f} seconds')\n",
    "\n",
    "indices = np.argsort(importances)\n",
    "fig, ax = plt.subplots()\n",
    "ax.barh(range(0,10), importances[indices[-10:]])\n",
    "ax.set_yticks(range(0,10))\n",
    "_ = ax.set_yticklabels(np.array(exog_vars.columns)[indices[-10:]])\n",
    "plt.title('10 Most Important Features')\n",
    "plt.xlabel('Importance')"
   ]
  },
  {
   "cell_type": "code",
   "execution_count": 7,
   "metadata": {},
   "outputs": [
    {
     "name": "stderr",
     "output_type": "stream",
     "text": [
      "c:\\Users\\matth\\anaconda3\\lib\\site-packages\\sklearn\\neural_network\\_multilayer_perceptron.py:614: ConvergenceWarning: Stochastic Optimizer: Maximum iterations (100) reached and the optimization hasn't converged yet.\n",
      "  warnings.warn(\n"
     ]
    },
    {
     "name": "stdout",
     "output_type": "stream",
     "text": [
      "\n",
      "neural net with (100, 50, 25) layers, relu activation, 0.0001 alpha, 100 max iternations, and sgd type of solver\n",
      "\taccuracy on valid: 81.9%\n",
      "\tprecision on valid: 57.3%\n",
      "\trecall on valid: 7.4%\n",
      "\tf1 on valid: 13.1%\n",
      "\tseconds to predict valid: 28.4 seconds\n"
     ]
    },
    {
     "name": "stderr",
     "output_type": "stream",
     "text": [
      "c:\\Users\\matth\\anaconda3\\lib\\site-packages\\sklearn\\neural_network\\_multilayer_perceptron.py:614: ConvergenceWarning: Stochastic Optimizer: Maximum iterations (100) reached and the optimization hasn't converged yet.\n",
      "  warnings.warn(\n"
     ]
    },
    {
     "name": "stdout",
     "output_type": "stream",
     "text": [
      "\n",
      "neural net with (100, 50, 25) layers, relu activation, 0.0001 alpha, 100 max iternations, and adam type of solver\n",
      "\taccuracy on valid: 81.0%\n",
      "\tprecision on valid: 44.7%\n",
      "\trecall on valid: 12.6%\n",
      "\tf1 on valid: 19.7%\n",
      "\tseconds to predict valid: 30.1 seconds\n"
     ]
    },
    {
     "name": "stderr",
     "output_type": "stream",
     "text": [
      "c:\\Users\\matth\\anaconda3\\lib\\site-packages\\sklearn\\neural_network\\_multilayer_perceptron.py:614: ConvergenceWarning: Stochastic Optimizer: Maximum iterations (200) reached and the optimization hasn't converged yet.\n",
      "  warnings.warn(\n"
     ]
    },
    {
     "name": "stdout",
     "output_type": "stream",
     "text": [
      "\n",
      "neural net with (100, 50, 25) layers, relu activation, 0.0001 alpha, 200 max iternations, and sgd type of solver\n",
      "\taccuracy on valid: 82.1%\n",
      "\tprecision on valid: 58.0%\n",
      "\trecall on valid: 10.1%\n",
      "\tf1 on valid: 17.3%\n",
      "\tseconds to predict valid: 54.9 seconds\n"
     ]
    },
    {
     "name": "stderr",
     "output_type": "stream",
     "text": [
      "c:\\Users\\matth\\anaconda3\\lib\\site-packages\\sklearn\\neural_network\\_multilayer_perceptron.py:614: ConvergenceWarning: Stochastic Optimizer: Maximum iterations (200) reached and the optimization hasn't converged yet.\n",
      "  warnings.warn(\n"
     ]
    },
    {
     "name": "stdout",
     "output_type": "stream",
     "text": [
      "\n",
      "neural net with (100, 50, 25) layers, relu activation, 0.0001 alpha, 200 max iternations, and adam type of solver\n",
      "\taccuracy on valid: 80.2%\n",
      "\tprecision on valid: 40.1%\n",
      "\trecall on valid: 14.9%\n",
      "\tf1 on valid: 21.8%\n",
      "\tseconds to predict valid: 67.6 seconds\n",
      "\n",
      "neural net with (100, 50, 25) layers, relu activation, 0.0001 alpha, 500 max iternations, and sgd type of solver\n",
      "\taccuracy on valid: 82.1%\n",
      "\tprecision on valid: 58.3%\n",
      "\trecall on valid: 10.1%\n",
      "\tf1 on valid: 17.3%\n",
      "\tseconds to predict valid: 64.5 seconds\n",
      "\n",
      "neural net with (100, 50, 25) layers, relu activation, 0.0001 alpha, 500 max iternations, and adam type of solver\n",
      "\taccuracy on valid: 79.4%\n",
      "\tprecision on valid: 37.5%\n",
      "\trecall on valid: 17.7%\n",
      "\tf1 on valid: 24.1%\n",
      "\tseconds to predict valid: 150.5 seconds\n"
     ]
    },
    {
     "name": "stderr",
     "output_type": "stream",
     "text": [
      "c:\\Users\\matth\\anaconda3\\lib\\site-packages\\sklearn\\neural_network\\_multilayer_perceptron.py:614: ConvergenceWarning: Stochastic Optimizer: Maximum iterations (100) reached and the optimization hasn't converged yet.\n",
      "  warnings.warn(\n"
     ]
    },
    {
     "name": "stdout",
     "output_type": "stream",
     "text": [
      "\n",
      "neural net with (100, 50, 25) layers, relu activation, 0.001 alpha, 100 max iternations, and sgd type of solver\n",
      "\taccuracy on valid: 82.0%\n",
      "\tprecision on valid: 59.1%\n",
      "\trecall on valid: 7.7%\n",
      "\tf1 on valid: 13.7%\n",
      "\tseconds to predict valid: 28.1 seconds\n"
     ]
    },
    {
     "name": "stderr",
     "output_type": "stream",
     "text": [
      "c:\\Users\\matth\\anaconda3\\lib\\site-packages\\sklearn\\neural_network\\_multilayer_perceptron.py:614: ConvergenceWarning: Stochastic Optimizer: Maximum iterations (100) reached and the optimization hasn't converged yet.\n",
      "  warnings.warn(\n"
     ]
    },
    {
     "name": "stdout",
     "output_type": "stream",
     "text": [
      "\n",
      "neural net with (100, 50, 25) layers, relu activation, 0.001 alpha, 100 max iternations, and adam type of solver\n",
      "\taccuracy on valid: 81.1%\n",
      "\tprecision on valid: 45.5%\n",
      "\trecall on valid: 13.4%\n",
      "\tf1 on valid: 20.8%\n",
      "\tseconds to predict valid: 33.7 seconds\n"
     ]
    },
    {
     "name": "stderr",
     "output_type": "stream",
     "text": [
      "c:\\Users\\matth\\anaconda3\\lib\\site-packages\\sklearn\\neural_network\\_multilayer_perceptron.py:614: ConvergenceWarning: Stochastic Optimizer: Maximum iterations (200) reached and the optimization hasn't converged yet.\n",
      "  warnings.warn(\n"
     ]
    },
    {
     "name": "stdout",
     "output_type": "stream",
     "text": [
      "\n",
      "neural net with (100, 50, 25) layers, relu activation, 0.001 alpha, 200 max iternations, and sgd type of solver\n",
      "\taccuracy on valid: 82.0%\n",
      "\tprecision on valid: 56.9%\n",
      "\trecall on valid: 9.8%\n",
      "\tf1 on valid: 16.7%\n",
      "\tseconds to predict valid: 55.4 seconds\n"
     ]
    },
    {
     "name": "stderr",
     "output_type": "stream",
     "text": [
      "c:\\Users\\matth\\anaconda3\\lib\\site-packages\\sklearn\\neural_network\\_multilayer_perceptron.py:614: ConvergenceWarning: Stochastic Optimizer: Maximum iterations (200) reached and the optimization hasn't converged yet.\n",
      "  warnings.warn(\n"
     ]
    },
    {
     "name": "stdout",
     "output_type": "stream",
     "text": [
      "\n",
      "neural net with (100, 50, 25) layers, relu activation, 0.001 alpha, 200 max iternations, and adam type of solver\n",
      "\taccuracy on valid: 80.2%\n",
      "\tprecision on valid: 40.2%\n",
      "\trecall on valid: 15.6%\n",
      "\tf1 on valid: 22.5%\n",
      "\tseconds to predict valid: 67.9 seconds\n",
      "\n",
      "neural net with (100, 50, 25) layers, relu activation, 0.001 alpha, 500 max iternations, and sgd type of solver\n",
      "\taccuracy on valid: 82.0%\n",
      "\tprecision on valid: 56.9%\n",
      "\trecall on valid: 9.8%\n",
      "\tf1 on valid: 16.7%\n",
      "\tseconds to predict valid: 59.1 seconds\n",
      "\n",
      "neural net with (100, 50, 25) layers, relu activation, 0.001 alpha, 500 max iternations, and adam type of solver\n",
      "\taccuracy on valid: 79.9%\n",
      "\tprecision on valid: 39.6%\n",
      "\trecall on valid: 17.8%\n",
      "\tf1 on valid: 24.6%\n",
      "\tseconds to predict valid: 90.9 seconds\n"
     ]
    },
    {
     "name": "stderr",
     "output_type": "stream",
     "text": [
      "c:\\Users\\matth\\anaconda3\\lib\\site-packages\\sklearn\\neural_network\\_multilayer_perceptron.py:614: ConvergenceWarning: Stochastic Optimizer: Maximum iterations (100) reached and the optimization hasn't converged yet.\n",
      "  warnings.warn(\n"
     ]
    },
    {
     "name": "stdout",
     "output_type": "stream",
     "text": [
      "\n",
      "neural net with (100, 50, 25) layers, relu activation, 0.01 alpha, 100 max iternations, and sgd type of solver\n",
      "\taccuracy on valid: 82.0%\n",
      "\tprecision on valid: 58.2%\n",
      "\trecall on valid: 7.6%\n",
      "\tf1 on valid: 13.4%\n",
      "\tseconds to predict valid: 28.3 seconds\n"
     ]
    },
    {
     "name": "stderr",
     "output_type": "stream",
     "text": [
      "c:\\Users\\matth\\anaconda3\\lib\\site-packages\\sklearn\\neural_network\\_multilayer_perceptron.py:614: ConvergenceWarning: Stochastic Optimizer: Maximum iterations (100) reached and the optimization hasn't converged yet.\n",
      "  warnings.warn(\n"
     ]
    },
    {
     "name": "stdout",
     "output_type": "stream",
     "text": [
      "\n",
      "neural net with (100, 50, 25) layers, relu activation, 0.01 alpha, 100 max iternations, and adam type of solver\n",
      "\taccuracy on valid: 81.4%\n",
      "\tprecision on valid: 48.2%\n",
      "\trecall on valid: 12.1%\n",
      "\tf1 on valid: 19.4%\n",
      "\tseconds to predict valid: 38.6 seconds\n",
      "\n",
      "neural net with (100, 50, 25) layers, relu activation, 0.01 alpha, 200 max iternations, and sgd type of solver\n",
      "\taccuracy on valid: 82.0%\n",
      "\tprecision on valid: 56.9%\n",
      "\trecall on valid: 10.1%\n",
      "\tf1 on valid: 17.2%\n",
      "\tseconds to predict valid: 55.6 seconds\n"
     ]
    },
    {
     "name": "stderr",
     "output_type": "stream",
     "text": [
      "c:\\Users\\matth\\anaconda3\\lib\\site-packages\\sklearn\\neural_network\\_multilayer_perceptron.py:614: ConvergenceWarning: Stochastic Optimizer: Maximum iterations (200) reached and the optimization hasn't converged yet.\n",
      "  warnings.warn(\n"
     ]
    },
    {
     "name": "stdout",
     "output_type": "stream",
     "text": [
      "\n",
      "neural net with (100, 50, 25) layers, relu activation, 0.01 alpha, 200 max iternations, and adam type of solver\n",
      "\taccuracy on valid: 80.6%\n",
      "\tprecision on valid: 41.7%\n",
      "\trecall on valid: 13.7%\n",
      "\tf1 on valid: 20.6%\n",
      "\tseconds to predict valid: 97.6 seconds\n",
      "\n",
      "neural net with (100, 50, 25) layers, relu activation, 0.01 alpha, 500 max iternations, and sgd type of solver\n",
      "\taccuracy on valid: 82.0%\n",
      "\tprecision on valid: 56.9%\n",
      "\trecall on valid: 10.1%\n",
      "\tf1 on valid: 17.2%\n",
      "\tseconds to predict valid: 54.9 seconds\n",
      "\n",
      "neural net with (100, 50, 25) layers, relu activation, 0.01 alpha, 500 max iternations, and adam type of solver\n",
      "\taccuracy on valid: 80.1%\n",
      "\tprecision on valid: 39.4%\n",
      "\trecall on valid: 14.8%\n",
      "\tf1 on valid: 21.5%\n",
      "\tseconds to predict valid: 179.5 seconds\n"
     ]
    },
    {
     "name": "stderr",
     "output_type": "stream",
     "text": [
      "c:\\Users\\matth\\anaconda3\\lib\\site-packages\\sklearn\\neural_network\\_multilayer_perceptron.py:614: ConvergenceWarning: Stochastic Optimizer: Maximum iterations (100) reached and the optimization hasn't converged yet.\n",
      "  warnings.warn(\n"
     ]
    },
    {
     "name": "stdout",
     "output_type": "stream",
     "text": [
      "\n",
      "neural net with (100, 50, 25) layers, tanh activation, 0.0001 alpha, 100 max iternations, and sgd type of solver\n",
      "\taccuracy on valid: 82.0%\n",
      "\tprecision on valid: 57.8%\n",
      "\trecall on valid: 7.9%\n",
      "\tf1 on valid: 13.9%\n",
      "\tseconds to predict valid: 35.0 seconds\n"
     ]
    },
    {
     "name": "stderr",
     "output_type": "stream",
     "text": [
      "c:\\Users\\matth\\anaconda3\\lib\\site-packages\\sklearn\\neural_network\\_multilayer_perceptron.py:614: ConvergenceWarning: Stochastic Optimizer: Maximum iterations (100) reached and the optimization hasn't converged yet.\n",
      "  warnings.warn(\n"
     ]
    },
    {
     "name": "stdout",
     "output_type": "stream",
     "text": [
      "\n",
      "neural net with (100, 50, 25) layers, tanh activation, 0.0001 alpha, 100 max iternations, and adam type of solver\n",
      "\taccuracy on valid: 81.3%\n",
      "\tprecision on valid: 47.7%\n",
      "\trecall on valid: 13.5%\n",
      "\tf1 on valid: 21.1%\n",
      "\tseconds to predict valid: 39.8 seconds\n",
      "\n",
      "neural net with (100, 50, 25) layers, tanh activation, 0.0001 alpha, 200 max iternations, and sgd type of solver\n",
      "\taccuracy on valid: 82.1%\n",
      "\tprecision on valid: 57.0%\n",
      "\trecall on valid: 10.4%\n",
      "\tf1 on valid: 17.6%\n",
      "\tseconds to predict valid: 68.0 seconds\n"
     ]
    },
    {
     "name": "stderr",
     "output_type": "stream",
     "text": [
      "c:\\Users\\matth\\anaconda3\\lib\\site-packages\\sklearn\\neural_network\\_multilayer_perceptron.py:614: ConvergenceWarning: Stochastic Optimizer: Maximum iterations (200) reached and the optimization hasn't converged yet.\n",
      "  warnings.warn(\n"
     ]
    },
    {
     "name": "stdout",
     "output_type": "stream",
     "text": [
      "\n",
      "neural net with (100, 50, 25) layers, tanh activation, 0.0001 alpha, 200 max iternations, and adam type of solver\n",
      "\taccuracy on valid: 79.8%\n",
      "\tprecision on valid: 38.0%\n",
      "\trecall on valid: 15.7%\n",
      "\tf1 on valid: 22.3%\n",
      "\tseconds to predict valid: 81.9 seconds\n",
      "\n",
      "neural net with (100, 50, 25) layers, tanh activation, 0.0001 alpha, 500 max iternations, and sgd type of solver\n",
      "\taccuracy on valid: 82.1%\n",
      "\tprecision on valid: 57.0%\n",
      "\trecall on valid: 10.4%\n",
      "\tf1 on valid: 17.6%\n",
      "\tseconds to predict valid: 69.2 seconds\n"
     ]
    },
    {
     "name": "stderr",
     "output_type": "stream",
     "text": [
      "c:\\Users\\matth\\anaconda3\\lib\\site-packages\\sklearn\\neural_network\\_multilayer_perceptron.py:614: ConvergenceWarning: Stochastic Optimizer: Maximum iterations (500) reached and the optimization hasn't converged yet.\n",
      "  warnings.warn(\n"
     ]
    },
    {
     "name": "stdout",
     "output_type": "stream",
     "text": [
      "\n",
      "neural net with (100, 50, 25) layers, tanh activation, 0.0001 alpha, 500 max iternations, and adam type of solver\n",
      "\taccuracy on valid: 77.9%\n",
      "\tprecision on valid: 35.0%\n",
      "\trecall on valid: 23.6%\n",
      "\tf1 on valid: 28.2%\n",
      "\tseconds to predict valid: 203.8 seconds\n"
     ]
    },
    {
     "name": "stderr",
     "output_type": "stream",
     "text": [
      "c:\\Users\\matth\\anaconda3\\lib\\site-packages\\sklearn\\neural_network\\_multilayer_perceptron.py:614: ConvergenceWarning: Stochastic Optimizer: Maximum iterations (100) reached and the optimization hasn't converged yet.\n",
      "  warnings.warn(\n"
     ]
    },
    {
     "name": "stdout",
     "output_type": "stream",
     "text": [
      "\n",
      "neural net with (100, 50, 25) layers, tanh activation, 0.001 alpha, 100 max iternations, and sgd type of solver\n",
      "\taccuracy on valid: 82.0%\n",
      "\tprecision on valid: 57.8%\n",
      "\trecall on valid: 7.9%\n",
      "\tf1 on valid: 13.9%\n",
      "\tseconds to predict valid: 34.5 seconds\n"
     ]
    },
    {
     "name": "stderr",
     "output_type": "stream",
     "text": [
      "c:\\Users\\matth\\anaconda3\\lib\\site-packages\\sklearn\\neural_network\\_multilayer_perceptron.py:614: ConvergenceWarning: Stochastic Optimizer: Maximum iterations (100) reached and the optimization hasn't converged yet.\n",
      "  warnings.warn(\n"
     ]
    },
    {
     "name": "stdout",
     "output_type": "stream",
     "text": [
      "\n",
      "neural net with (100, 50, 25) layers, tanh activation, 0.001 alpha, 100 max iternations, and adam type of solver\n",
      "\taccuracy on valid: 81.4%\n",
      "\tprecision on valid: 48.1%\n",
      "\trecall on valid: 13.3%\n",
      "\tf1 on valid: 20.8%\n",
      "\tseconds to predict valid: 40.3 seconds\n",
      "\n",
      "neural net with (100, 50, 25) layers, tanh activation, 0.001 alpha, 200 max iternations, and sgd type of solver\n",
      "\taccuracy on valid: 82.1%\n",
      "\tprecision on valid: 57.3%\n",
      "\trecall on valid: 10.4%\n",
      "\tf1 on valid: 17.6%\n",
      "\tseconds to predict valid: 69.9 seconds\n"
     ]
    },
    {
     "name": "stderr",
     "output_type": "stream",
     "text": [
      "c:\\Users\\matth\\anaconda3\\lib\\site-packages\\sklearn\\neural_network\\_multilayer_perceptron.py:614: ConvergenceWarning: Stochastic Optimizer: Maximum iterations (200) reached and the optimization hasn't converged yet.\n",
      "  warnings.warn(\n"
     ]
    },
    {
     "name": "stdout",
     "output_type": "stream",
     "text": [
      "\n",
      "neural net with (100, 50, 25) layers, tanh activation, 0.001 alpha, 200 max iternations, and adam type of solver\n",
      "\taccuracy on valid: 80.5%\n",
      "\tprecision on valid: 42.4%\n",
      "\trecall on valid: 15.7%\n",
      "\tf1 on valid: 23.0%\n",
      "\tseconds to predict valid: 91.2 seconds\n",
      "\n",
      "neural net with (100, 50, 25) layers, tanh activation, 0.001 alpha, 500 max iternations, and sgd type of solver\n",
      "\taccuracy on valid: 82.1%\n",
      "\tprecision on valid: 57.3%\n",
      "\trecall on valid: 10.4%\n",
      "\tf1 on valid: 17.6%\n",
      "\tseconds to predict valid: 78.0 seconds\n",
      "\n",
      "neural net with (100, 50, 25) layers, tanh activation, 0.001 alpha, 500 max iternations, and adam type of solver\n",
      "\taccuracy on valid: 78.4%\n",
      "\tprecision on valid: 36.6%\n",
      "\trecall on valid: 23.7%\n",
      "\tf1 on valid: 28.8%\n",
      "\tseconds to predict valid: 198.4 seconds\n"
     ]
    },
    {
     "name": "stderr",
     "output_type": "stream",
     "text": [
      "c:\\Users\\matth\\anaconda3\\lib\\site-packages\\sklearn\\neural_network\\_multilayer_perceptron.py:614: ConvergenceWarning: Stochastic Optimizer: Maximum iterations (100) reached and the optimization hasn't converged yet.\n",
      "  warnings.warn(\n"
     ]
    },
    {
     "name": "stdout",
     "output_type": "stream",
     "text": [
      "\n",
      "neural net with (100, 50, 25) layers, tanh activation, 0.01 alpha, 100 max iternations, and sgd type of solver\n",
      "\taccuracy on valid: 82.0%\n",
      "\tprecision on valid: 58.1%\n",
      "\trecall on valid: 8.0%\n",
      "\tf1 on valid: 14.1%\n",
      "\tseconds to predict valid: 44.1 seconds\n"
     ]
    },
    {
     "name": "stderr",
     "output_type": "stream",
     "text": [
      "c:\\Users\\matth\\anaconda3\\lib\\site-packages\\sklearn\\neural_network\\_multilayer_perceptron.py:614: ConvergenceWarning: Stochastic Optimizer: Maximum iterations (100) reached and the optimization hasn't converged yet.\n",
      "  warnings.warn(\n"
     ]
    },
    {
     "name": "stdout",
     "output_type": "stream",
     "text": [
      "\n",
      "neural net with (100, 50, 25) layers, tanh activation, 0.01 alpha, 100 max iternations, and adam type of solver\n",
      "\taccuracy on valid: 81.8%\n",
      "\tprecision on valid: 52.1%\n",
      "\trecall on valid: 13.0%\n",
      "\tf1 on valid: 20.8%\n",
      "\tseconds to predict valid: 48.0 seconds\n",
      "\n",
      "neural net with (100, 50, 25) layers, tanh activation, 0.01 alpha, 200 max iternations, and sgd type of solver\n",
      "\taccuracy on valid: 82.1%\n",
      "\tprecision on valid: 57.3%\n",
      "\trecall on valid: 10.3%\n",
      "\tf1 on valid: 17.5%\n",
      "\tseconds to predict valid: 78.1 seconds\n"
     ]
    },
    {
     "name": "stderr",
     "output_type": "stream",
     "text": [
      "c:\\Users\\matth\\anaconda3\\lib\\site-packages\\sklearn\\neural_network\\_multilayer_perceptron.py:614: ConvergenceWarning: Stochastic Optimizer: Maximum iterations (200) reached and the optimization hasn't converged yet.\n",
      "  warnings.warn(\n"
     ]
    },
    {
     "name": "stdout",
     "output_type": "stream",
     "text": [
      "\n",
      "neural net with (100, 50, 25) layers, tanh activation, 0.01 alpha, 200 max iternations, and adam type of solver\n",
      "\taccuracy on valid: 81.0%\n",
      "\tprecision on valid: 44.9%\n",
      "\trecall on valid: 14.1%\n",
      "\tf1 on valid: 21.5%\n",
      "\tseconds to predict valid: 86.5 seconds\n",
      "\n",
      "neural net with (100, 50, 25) layers, tanh activation, 0.01 alpha, 500 max iternations, and sgd type of solver\n",
      "\taccuracy on valid: 82.1%\n",
      "\tprecision on valid: 57.3%\n",
      "\trecall on valid: 10.3%\n",
      "\tf1 on valid: 17.5%\n",
      "\tseconds to predict valid: 75.5 seconds\n",
      "\n",
      "neural net with (100, 50, 25) layers, tanh activation, 0.01 alpha, 500 max iternations, and adam type of solver\n",
      "\taccuracy on valid: 78.6%\n",
      "\tprecision on valid: 35.3%\n",
      "\trecall on valid: 19.5%\n",
      "\tf1 on valid: 25.1%\n",
      "\tseconds to predict valid: 159.0 seconds\n"
     ]
    },
    {
     "name": "stderr",
     "output_type": "stream",
     "text": [
      "c:\\Users\\matth\\anaconda3\\lib\\site-packages\\sklearn\\metrics\\_classification.py:1248: UndefinedMetricWarning: Precision is ill-defined and being set to 0.0 due to no predicted samples. Use `zero_division` parameter to control this behavior.\n",
      "  _warn_prf(average, modifier, msg_start, len(result))\n"
     ]
    },
    {
     "name": "stdout",
     "output_type": "stream",
     "text": [
      "\n",
      "neural net with (100, 50, 25) layers, logistic activation, 0.0001 alpha, 100 max iternations, and sgd type of solver\n",
      "\taccuracy on valid: 81.6%\n",
      "\tprecision on valid: 0.0%\n",
      "\trecall on valid: 0.0%\n",
      "\tf1 on valid: 0.0%\n",
      "\tseconds to predict valid: 18.7 seconds\n"
     ]
    },
    {
     "name": "stderr",
     "output_type": "stream",
     "text": [
      "c:\\Users\\matth\\anaconda3\\lib\\site-packages\\sklearn\\neural_network\\_multilayer_perceptron.py:614: ConvergenceWarning: Stochastic Optimizer: Maximum iterations (100) reached and the optimization hasn't converged yet.\n",
      "  warnings.warn(\n"
     ]
    },
    {
     "name": "stdout",
     "output_type": "stream",
     "text": [
      "\n",
      "neural net with (100, 50, 25) layers, logistic activation, 0.0001 alpha, 100 max iternations, and adam type of solver\n",
      "\taccuracy on valid: 82.3%\n",
      "\tprecision on valid: 62.4%\n",
      "\trecall on valid: 9.3%\n",
      "\tf1 on valid: 16.2%\n",
      "\tseconds to predict valid: 28.6 seconds\n"
     ]
    },
    {
     "name": "stderr",
     "output_type": "stream",
     "text": [
      "c:\\Users\\matth\\anaconda3\\lib\\site-packages\\sklearn\\metrics\\_classification.py:1248: UndefinedMetricWarning: Precision is ill-defined and being set to 0.0 due to no predicted samples. Use `zero_division` parameter to control this behavior.\n",
      "  _warn_prf(average, modifier, msg_start, len(result))\n"
     ]
    },
    {
     "name": "stdout",
     "output_type": "stream",
     "text": [
      "\n",
      "neural net with (100, 50, 25) layers, logistic activation, 0.0001 alpha, 200 max iternations, and sgd type of solver\n",
      "\taccuracy on valid: 81.6%\n",
      "\tprecision on valid: 0.0%\n",
      "\trecall on valid: 0.0%\n",
      "\tf1 on valid: 0.0%\n",
      "\tseconds to predict valid: 18.4 seconds\n"
     ]
    },
    {
     "name": "stderr",
     "output_type": "stream",
     "text": [
      "c:\\Users\\matth\\anaconda3\\lib\\site-packages\\sklearn\\neural_network\\_multilayer_perceptron.py:614: ConvergenceWarning: Stochastic Optimizer: Maximum iterations (200) reached and the optimization hasn't converged yet.\n",
      "  warnings.warn(\n"
     ]
    },
    {
     "name": "stdout",
     "output_type": "stream",
     "text": [
      "\n",
      "neural net with (100, 50, 25) layers, logistic activation, 0.0001 alpha, 200 max iternations, and adam type of solver\n",
      "\taccuracy on valid: 82.0%\n",
      "\tprecision on valid: 57.7%\n",
      "\trecall on valid: 8.7%\n",
      "\tf1 on valid: 15.1%\n",
      "\tseconds to predict valid: 915.7 seconds\n"
     ]
    },
    {
     "name": "stderr",
     "output_type": "stream",
     "text": [
      "c:\\Users\\matth\\anaconda3\\lib\\site-packages\\sklearn\\metrics\\_classification.py:1248: UndefinedMetricWarning: Precision is ill-defined and being set to 0.0 due to no predicted samples. Use `zero_division` parameter to control this behavior.\n",
      "  _warn_prf(average, modifier, msg_start, len(result))\n"
     ]
    },
    {
     "name": "stdout",
     "output_type": "stream",
     "text": [
      "\n",
      "neural net with (100, 50, 25) layers, logistic activation, 0.0001 alpha, 500 max iternations, and sgd type of solver\n",
      "\taccuracy on valid: 81.6%\n",
      "\tprecision on valid: 0.0%\n",
      "\trecall on valid: 0.0%\n",
      "\tf1 on valid: 0.0%\n",
      "\tseconds to predict valid: 20.6 seconds\n",
      "\n",
      "neural net with (100, 50, 25) layers, logistic activation, 0.0001 alpha, 500 max iternations, and adam type of solver\n",
      "\taccuracy on valid: 81.9%\n",
      "\tprecision on valid: 55.0%\n",
      "\trecall on valid: 9.5%\n",
      "\tf1 on valid: 16.2%\n",
      "\tseconds to predict valid: 208.8 seconds\n"
     ]
    },
    {
     "name": "stderr",
     "output_type": "stream",
     "text": [
      "c:\\Users\\matth\\anaconda3\\lib\\site-packages\\sklearn\\metrics\\_classification.py:1248: UndefinedMetricWarning: Precision is ill-defined and being set to 0.0 due to no predicted samples. Use `zero_division` parameter to control this behavior.\n",
      "  _warn_prf(average, modifier, msg_start, len(result))\n"
     ]
    },
    {
     "name": "stdout",
     "output_type": "stream",
     "text": [
      "\n",
      "neural net with (100, 50, 25) layers, logistic activation, 0.001 alpha, 100 max iternations, and sgd type of solver\n",
      "\taccuracy on valid: 81.6%\n",
      "\tprecision on valid: 0.0%\n",
      "\trecall on valid: 0.0%\n",
      "\tf1 on valid: 0.0%\n",
      "\tseconds to predict valid: 63.3 seconds\n"
     ]
    },
    {
     "name": "stderr",
     "output_type": "stream",
     "text": [
      "c:\\Users\\matth\\anaconda3\\lib\\site-packages\\sklearn\\neural_network\\_multilayer_perceptron.py:614: ConvergenceWarning: Stochastic Optimizer: Maximum iterations (100) reached and the optimization hasn't converged yet.\n",
      "  warnings.warn(\n"
     ]
    },
    {
     "name": "stdout",
     "output_type": "stream",
     "text": [
      "\n",
      "neural net with (100, 50, 25) layers, logistic activation, 0.001 alpha, 100 max iternations, and adam type of solver\n",
      "\taccuracy on valid: 82.1%\n",
      "\tprecision on valid: 60.2%\n",
      "\trecall on valid: 8.2%\n",
      "\tf1 on valid: 14.5%\n",
      "\tseconds to predict valid: 100.8 seconds\n"
     ]
    },
    {
     "name": "stderr",
     "output_type": "stream",
     "text": [
      "c:\\Users\\matth\\anaconda3\\lib\\site-packages\\sklearn\\metrics\\_classification.py:1248: UndefinedMetricWarning: Precision is ill-defined and being set to 0.0 due to no predicted samples. Use `zero_division` parameter to control this behavior.\n",
      "  _warn_prf(average, modifier, msg_start, len(result))\n"
     ]
    },
    {
     "name": "stdout",
     "output_type": "stream",
     "text": [
      "\n",
      "neural net with (100, 50, 25) layers, logistic activation, 0.001 alpha, 200 max iternations, and sgd type of solver\n",
      "\taccuracy on valid: 81.6%\n",
      "\tprecision on valid: 0.0%\n",
      "\trecall on valid: 0.0%\n",
      "\tf1 on valid: 0.0%\n",
      "\tseconds to predict valid: 78.5 seconds\n",
      "\n",
      "neural net with (100, 50, 25) layers, logistic activation, 0.001 alpha, 200 max iternations, and adam type of solver\n",
      "\taccuracy on valid: 82.1%\n",
      "\tprecision on valid: 57.4%\n",
      "\trecall on valid: 11.5%\n",
      "\tf1 on valid: 19.1%\n",
      "\tseconds to predict valid: 55.8 seconds\n"
     ]
    },
    {
     "name": "stderr",
     "output_type": "stream",
     "text": [
      "c:\\Users\\matth\\anaconda3\\lib\\site-packages\\sklearn\\metrics\\_classification.py:1248: UndefinedMetricWarning: Precision is ill-defined and being set to 0.0 due to no predicted samples. Use `zero_division` parameter to control this behavior.\n",
      "  _warn_prf(average, modifier, msg_start, len(result))\n"
     ]
    },
    {
     "name": "stdout",
     "output_type": "stream",
     "text": [
      "\n",
      "neural net with (100, 50, 25) layers, logistic activation, 0.001 alpha, 500 max iternations, and sgd type of solver\n",
      "\taccuracy on valid: 81.6%\n",
      "\tprecision on valid: 0.0%\n",
      "\trecall on valid: 0.0%\n",
      "\tf1 on valid: 0.0%\n",
      "\tseconds to predict valid: 20.4 seconds\n",
      "\n",
      "neural net with (100, 50, 25) layers, logistic activation, 0.001 alpha, 500 max iternations, and adam type of solver\n",
      "\taccuracy on valid: 82.1%\n",
      "\tprecision on valid: 57.4%\n",
      "\trecall on valid: 11.5%\n",
      "\tf1 on valid: 19.1%\n",
      "\tseconds to predict valid: 118.4 seconds\n"
     ]
    },
    {
     "name": "stderr",
     "output_type": "stream",
     "text": [
      "c:\\Users\\matth\\anaconda3\\lib\\site-packages\\sklearn\\metrics\\_classification.py:1248: UndefinedMetricWarning: Precision is ill-defined and being set to 0.0 due to no predicted samples. Use `zero_division` parameter to control this behavior.\n",
      "  _warn_prf(average, modifier, msg_start, len(result))\n"
     ]
    },
    {
     "name": "stdout",
     "output_type": "stream",
     "text": [
      "\n",
      "neural net with (100, 50, 25) layers, logistic activation, 0.01 alpha, 100 max iternations, and sgd type of solver\n",
      "\taccuracy on valid: 81.6%\n",
      "\tprecision on valid: 0.0%\n",
      "\trecall on valid: 0.0%\n",
      "\tf1 on valid: 0.0%\n",
      "\tseconds to predict valid: 19.1 seconds\n",
      "\n",
      "neural net with (100, 50, 25) layers, logistic activation, 0.01 alpha, 100 max iternations, and adam type of solver\n",
      "\taccuracy on valid: 82.2%\n",
      "\tprecision on valid: 58.8%\n",
      "\trecall on valid: 11.0%\n",
      "\tf1 on valid: 18.6%\n",
      "\tseconds to predict valid: 15.4 seconds\n"
     ]
    },
    {
     "name": "stderr",
     "output_type": "stream",
     "text": [
      "c:\\Users\\matth\\anaconda3\\lib\\site-packages\\sklearn\\metrics\\_classification.py:1248: UndefinedMetricWarning: Precision is ill-defined and being set to 0.0 due to no predicted samples. Use `zero_division` parameter to control this behavior.\n",
      "  _warn_prf(average, modifier, msg_start, len(result))\n"
     ]
    },
    {
     "name": "stdout",
     "output_type": "stream",
     "text": [
      "\n",
      "neural net with (100, 50, 25) layers, logistic activation, 0.01 alpha, 200 max iternations, and sgd type of solver\n",
      "\taccuracy on valid: 81.6%\n",
      "\tprecision on valid: 0.0%\n",
      "\trecall on valid: 0.0%\n",
      "\tf1 on valid: 0.0%\n",
      "\tseconds to predict valid: 20.4 seconds\n",
      "\n",
      "neural net with (100, 50, 25) layers, logistic activation, 0.01 alpha, 200 max iternations, and adam type of solver\n",
      "\taccuracy on valid: 82.2%\n",
      "\tprecision on valid: 58.8%\n",
      "\trecall on valid: 11.0%\n",
      "\tf1 on valid: 18.6%\n",
      "\tseconds to predict valid: 14.6 seconds\n"
     ]
    },
    {
     "name": "stderr",
     "output_type": "stream",
     "text": [
      "c:\\Users\\matth\\anaconda3\\lib\\site-packages\\sklearn\\metrics\\_classification.py:1248: UndefinedMetricWarning: Precision is ill-defined and being set to 0.0 due to no predicted samples. Use `zero_division` parameter to control this behavior.\n",
      "  _warn_prf(average, modifier, msg_start, len(result))\n"
     ]
    },
    {
     "name": "stdout",
     "output_type": "stream",
     "text": [
      "\n",
      "neural net with (100, 50, 25) layers, logistic activation, 0.01 alpha, 500 max iternations, and sgd type of solver\n",
      "\taccuracy on valid: 81.6%\n",
      "\tprecision on valid: 0.0%\n",
      "\trecall on valid: 0.0%\n",
      "\tf1 on valid: 0.0%\n",
      "\tseconds to predict valid: 18.5 seconds\n",
      "\n",
      "neural net with (100, 50, 25) layers, logistic activation, 0.01 alpha, 500 max iternations, and adam type of solver\n",
      "\taccuracy on valid: 82.2%\n",
      "\tprecision on valid: 58.8%\n",
      "\trecall on valid: 11.0%\n",
      "\tf1 on valid: 18.6%\n",
      "\tseconds to predict valid: 13.6 seconds\n"
     ]
    },
    {
     "name": "stderr",
     "output_type": "stream",
     "text": [
      "c:\\Users\\matth\\anaconda3\\lib\\site-packages\\sklearn\\neural_network\\_multilayer_perceptron.py:614: ConvergenceWarning: Stochastic Optimizer: Maximum iterations (100) reached and the optimization hasn't converged yet.\n",
      "  warnings.warn(\n"
     ]
    },
    {
     "name": "stdout",
     "output_type": "stream",
     "text": [
      "\n",
      "neural net with (10, 5, 2) layers, relu activation, 0.0001 alpha, 100 max iternations, and sgd type of solver\n",
      "\taccuracy on valid: 81.6%\n",
      "\tprecision on valid: 51.8%\n",
      "\trecall on valid: 4.7%\n",
      "\tf1 on valid: 8.6%\n",
      "\tseconds to predict valid: 10.0 seconds\n",
      "\n",
      "neural net with (10, 5, 2) layers, relu activation, 0.0001 alpha, 100 max iternations, and adam type of solver\n",
      "\taccuracy on valid: 82.2%\n",
      "\tprecision on valid: 62.2%\n",
      "\trecall on valid: 8.0%\n",
      "\tf1 on valid: 14.2%\n",
      "\tseconds to predict valid: 7.5 seconds\n"
     ]
    },
    {
     "name": "stderr",
     "output_type": "stream",
     "text": [
      "c:\\Users\\matth\\anaconda3\\lib\\site-packages\\sklearn\\neural_network\\_multilayer_perceptron.py:614: ConvergenceWarning: Stochastic Optimizer: Maximum iterations (200) reached and the optimization hasn't converged yet.\n",
      "  warnings.warn(\n"
     ]
    },
    {
     "name": "stdout",
     "output_type": "stream",
     "text": [
      "\n",
      "neural net with (10, 5, 2) layers, relu activation, 0.0001 alpha, 200 max iternations, and sgd type of solver\n",
      "\taccuracy on valid: 82.2%\n",
      "\tprecision on valid: 60.0%\n",
      "\trecall on valid: 9.4%\n",
      "\tf1 on valid: 16.3%\n",
      "\tseconds to predict valid: 50.4 seconds\n",
      "\n",
      "neural net with (10, 5, 2) layers, relu activation, 0.0001 alpha, 200 max iternations, and adam type of solver\n",
      "\taccuracy on valid: 82.2%\n",
      "\tprecision on valid: 62.2%\n",
      "\trecall on valid: 8.0%\n",
      "\tf1 on valid: 14.2%\n",
      "\tseconds to predict valid: 26.2 seconds\n",
      "\n",
      "neural net with (10, 5, 2) layers, relu activation, 0.0001 alpha, 500 max iternations, and sgd type of solver\n",
      "\taccuracy on valid: 82.2%\n",
      "\tprecision on valid: 60.6%\n",
      "\trecall on valid: 9.0%\n",
      "\tf1 on valid: 15.6%\n",
      "\tseconds to predict valid: 90.6 seconds\n",
      "\n",
      "neural net with (10, 5, 2) layers, relu activation, 0.0001 alpha, 500 max iternations, and adam type of solver\n",
      "\taccuracy on valid: 82.2%\n",
      "\tprecision on valid: 62.2%\n",
      "\trecall on valid: 8.0%\n",
      "\tf1 on valid: 14.2%\n",
      "\tseconds to predict valid: 26.2 seconds\n"
     ]
    },
    {
     "name": "stderr",
     "output_type": "stream",
     "text": [
      "c:\\Users\\matth\\anaconda3\\lib\\site-packages\\sklearn\\neural_network\\_multilayer_perceptron.py:614: ConvergenceWarning: Stochastic Optimizer: Maximum iterations (100) reached and the optimization hasn't converged yet.\n",
      "  warnings.warn(\n"
     ]
    },
    {
     "name": "stdout",
     "output_type": "stream",
     "text": [
      "\n",
      "neural net with (10, 5, 2) layers, relu activation, 0.001 alpha, 100 max iternations, and sgd type of solver\n",
      "\taccuracy on valid: 81.7%\n",
      "\tprecision on valid: 53.4%\n",
      "\trecall on valid: 4.5%\n",
      "\tf1 on valid: 8.4%\n",
      "\tseconds to predict valid: 33.8 seconds\n",
      "\n",
      "neural net with (10, 5, 2) layers, relu activation, 0.001 alpha, 100 max iternations, and adam type of solver\n",
      "\taccuracy on valid: 82.1%\n",
      "\tprecision on valid: 59.6%\n",
      "\trecall on valid: 9.2%\n",
      "\tf1 on valid: 16.0%\n",
      "\tseconds to predict valid: 37.0 seconds\n"
     ]
    },
    {
     "name": "stderr",
     "output_type": "stream",
     "text": [
      "c:\\Users\\matth\\anaconda3\\lib\\site-packages\\sklearn\\neural_network\\_multilayer_perceptron.py:614: ConvergenceWarning: Stochastic Optimizer: Maximum iterations (200) reached and the optimization hasn't converged yet.\n",
      "  warnings.warn(\n"
     ]
    },
    {
     "name": "stdout",
     "output_type": "stream",
     "text": [
      "\n",
      "neural net with (10, 5, 2) layers, relu activation, 0.001 alpha, 200 max iternations, and sgd type of solver\n",
      "\taccuracy on valid: 82.2%\n",
      "\tprecision on valid: 60.2%\n",
      "\trecall on valid: 9.2%\n",
      "\tf1 on valid: 16.0%\n",
      "\tseconds to predict valid: 68.8 seconds\n",
      "\n",
      "neural net with (10, 5, 2) layers, relu activation, 0.001 alpha, 200 max iternations, and adam type of solver\n",
      "\taccuracy on valid: 82.1%\n",
      "\tprecision on valid: 59.6%\n",
      "\trecall on valid: 9.2%\n",
      "\tf1 on valid: 16.0%\n",
      "\tseconds to predict valid: 37.5 seconds\n",
      "\n",
      "neural net with (10, 5, 2) layers, relu activation, 0.001 alpha, 500 max iternations, and sgd type of solver\n",
      "\taccuracy on valid: 82.2%\n",
      "\tprecision on valid: 60.7%\n",
      "\trecall on valid: 8.9%\n",
      "\tf1 on valid: 15.5%\n",
      "\tseconds to predict valid: 89.8 seconds\n",
      "\n",
      "neural net with (10, 5, 2) layers, relu activation, 0.001 alpha, 500 max iternations, and adam type of solver\n",
      "\taccuracy on valid: 82.1%\n",
      "\tprecision on valid: 59.6%\n",
      "\trecall on valid: 9.2%\n",
      "\tf1 on valid: 16.0%\n",
      "\tseconds to predict valid: 37.8 seconds\n"
     ]
    },
    {
     "name": "stderr",
     "output_type": "stream",
     "text": [
      "c:\\Users\\matth\\anaconda3\\lib\\site-packages\\sklearn\\neural_network\\_multilayer_perceptron.py:614: ConvergenceWarning: Stochastic Optimizer: Maximum iterations (100) reached and the optimization hasn't converged yet.\n",
      "  warnings.warn(\n"
     ]
    },
    {
     "name": "stdout",
     "output_type": "stream",
     "text": [
      "\n",
      "neural net with (10, 5, 2) layers, relu activation, 0.01 alpha, 100 max iternations, and sgd type of solver\n",
      "\taccuracy on valid: 81.7%\n",
      "\tprecision on valid: 52.3%\n",
      "\trecall on valid: 4.6%\n",
      "\tf1 on valid: 8.5%\n",
      "\tseconds to predict valid: 37.7 seconds\n",
      "\n",
      "neural net with (10, 5, 2) layers, relu activation, 0.01 alpha, 100 max iternations, and adam type of solver\n",
      "\taccuracy on valid: 82.1%\n",
      "\tprecision on valid: 60.6%\n",
      "\trecall on valid: 8.0%\n",
      "\tf1 on valid: 14.1%\n",
      "\tseconds to predict valid: 28.9 seconds\n"
     ]
    },
    {
     "name": "stderr",
     "output_type": "stream",
     "text": [
      "c:\\Users\\matth\\anaconda3\\lib\\site-packages\\sklearn\\neural_network\\_multilayer_perceptron.py:614: ConvergenceWarning: Stochastic Optimizer: Maximum iterations (200) reached and the optimization hasn't converged yet.\n",
      "  warnings.warn(\n"
     ]
    },
    {
     "name": "stdout",
     "output_type": "stream",
     "text": [
      "\n",
      "neural net with (10, 5, 2) layers, relu activation, 0.01 alpha, 200 max iternations, and sgd type of solver\n",
      "\taccuracy on valid: 82.2%\n",
      "\tprecision on valid: 60.0%\n",
      "\trecall on valid: 9.4%\n",
      "\tf1 on valid: 16.3%\n",
      "\tseconds to predict valid: 73.7 seconds\n",
      "\n",
      "neural net with (10, 5, 2) layers, relu activation, 0.01 alpha, 200 max iternations, and adam type of solver\n",
      "\taccuracy on valid: 82.1%\n",
      "\tprecision on valid: 60.6%\n",
      "\trecall on valid: 8.0%\n",
      "\tf1 on valid: 14.1%\n",
      "\tseconds to predict valid: 28.2 seconds\n",
      "\n",
      "neural net with (10, 5, 2) layers, relu activation, 0.01 alpha, 500 max iternations, and sgd type of solver\n",
      "\taccuracy on valid: 82.2%\n",
      "\tprecision on valid: 60.6%\n",
      "\trecall on valid: 9.0%\n",
      "\tf1 on valid: 15.6%\n",
      "\tseconds to predict valid: 89.7 seconds\n",
      "\n",
      "neural net with (10, 5, 2) layers, relu activation, 0.01 alpha, 500 max iternations, and adam type of solver\n",
      "\taccuracy on valid: 82.1%\n",
      "\tprecision on valid: 60.6%\n",
      "\trecall on valid: 8.0%\n",
      "\tf1 on valid: 14.1%\n",
      "\tseconds to predict valid: 25.5 seconds\n"
     ]
    },
    {
     "name": "stderr",
     "output_type": "stream",
     "text": [
      "c:\\Users\\matth\\anaconda3\\lib\\site-packages\\sklearn\\neural_network\\_multilayer_perceptron.py:614: ConvergenceWarning: Stochastic Optimizer: Maximum iterations (100) reached and the optimization hasn't converged yet.\n",
      "  warnings.warn(\n"
     ]
    },
    {
     "name": "stdout",
     "output_type": "stream",
     "text": [
      "\n",
      "neural net with (10, 5, 2) layers, tanh activation, 0.0001 alpha, 100 max iternations, and sgd type of solver\n",
      "\taccuracy on valid: 81.7%\n",
      "\tprecision on valid: 63.2%\n",
      "\trecall on valid: 2.0%\n",
      "\tf1 on valid: 3.8%\n",
      "\tseconds to predict valid: 36.3 seconds\n",
      "\n",
      "neural net with (10, 5, 2) layers, tanh activation, 0.0001 alpha, 100 max iternations, and adam type of solver\n",
      "\taccuracy on valid: 82.2%\n",
      "\tprecision on valid: 61.5%\n",
      "\trecall on valid: 8.8%\n",
      "\tf1 on valid: 15.4%\n",
      "\tseconds to predict valid: 27.6 seconds\n"
     ]
    },
    {
     "name": "stderr",
     "output_type": "stream",
     "text": [
      "c:\\Users\\matth\\anaconda3\\lib\\site-packages\\sklearn\\neural_network\\_multilayer_perceptron.py:614: ConvergenceWarning: Stochastic Optimizer: Maximum iterations (200) reached and the optimization hasn't converged yet.\n",
      "  warnings.warn(\n"
     ]
    },
    {
     "name": "stdout",
     "output_type": "stream",
     "text": [
      "\n",
      "neural net with (10, 5, 2) layers, tanh activation, 0.0001 alpha, 200 max iternations, and sgd type of solver\n",
      "\taccuracy on valid: 81.8%\n",
      "\tprecision on valid: 53.2%\n",
      "\trecall on valid: 8.9%\n",
      "\tf1 on valid: 15.3%\n",
      "\tseconds to predict valid: 73.7 seconds\n",
      "\n",
      "neural net with (10, 5, 2) layers, tanh activation, 0.0001 alpha, 200 max iternations, and adam type of solver\n",
      "\taccuracy on valid: 82.2%\n",
      "\tprecision on valid: 61.5%\n",
      "\trecall on valid: 8.8%\n",
      "\tf1 on valid: 15.4%\n",
      "\tseconds to predict valid: 28.2 seconds\n",
      "\n",
      "neural net with (10, 5, 2) layers, tanh activation, 0.0001 alpha, 500 max iternations, and sgd type of solver\n",
      "\taccuracy on valid: 82.0%\n",
      "\tprecision on valid: 56.7%\n",
      "\trecall on valid: 9.1%\n",
      "\tf1 on valid: 15.6%\n",
      "\tseconds to predict valid: 103.4 seconds\n",
      "\n",
      "neural net with (10, 5, 2) layers, tanh activation, 0.0001 alpha, 500 max iternations, and adam type of solver\n",
      "\taccuracy on valid: 82.2%\n",
      "\tprecision on valid: 61.5%\n",
      "\trecall on valid: 8.8%\n",
      "\tf1 on valid: 15.4%\n",
      "\tseconds to predict valid: 27.9 seconds\n"
     ]
    },
    {
     "name": "stderr",
     "output_type": "stream",
     "text": [
      "c:\\Users\\matth\\anaconda3\\lib\\site-packages\\sklearn\\neural_network\\_multilayer_perceptron.py:614: ConvergenceWarning: Stochastic Optimizer: Maximum iterations (100) reached and the optimization hasn't converged yet.\n",
      "  warnings.warn(\n"
     ]
    },
    {
     "name": "stdout",
     "output_type": "stream",
     "text": [
      "\n",
      "neural net with (10, 5, 2) layers, tanh activation, 0.001 alpha, 100 max iternations, and sgd type of solver\n",
      "\taccuracy on valid: 81.7%\n",
      "\tprecision on valid: 63.2%\n",
      "\trecall on valid: 2.0%\n",
      "\tf1 on valid: 3.8%\n",
      "\tseconds to predict valid: 36.2 seconds\n",
      "\n",
      "neural net with (10, 5, 2) layers, tanh activation, 0.001 alpha, 100 max iternations, and adam type of solver\n",
      "\taccuracy on valid: 82.2%\n",
      "\tprecision on valid: 61.0%\n",
      "\trecall on valid: 8.9%\n",
      "\tf1 on valid: 15.5%\n",
      "\tseconds to predict valid: 27.7 seconds\n"
     ]
    },
    {
     "name": "stderr",
     "output_type": "stream",
     "text": [
      "c:\\Users\\matth\\anaconda3\\lib\\site-packages\\sklearn\\neural_network\\_multilayer_perceptron.py:614: ConvergenceWarning: Stochastic Optimizer: Maximum iterations (200) reached and the optimization hasn't converged yet.\n",
      "  warnings.warn(\n"
     ]
    },
    {
     "name": "stdout",
     "output_type": "stream",
     "text": [
      "\n",
      "neural net with (10, 5, 2) layers, tanh activation, 0.001 alpha, 200 max iternations, and sgd type of solver\n",
      "\taccuracy on valid: 81.8%\n",
      "\tprecision on valid: 53.5%\n",
      "\trecall on valid: 8.9%\n",
      "\tf1 on valid: 15.3%\n",
      "\tseconds to predict valid: 72.9 seconds\n",
      "\n",
      "neural net with (10, 5, 2) layers, tanh activation, 0.001 alpha, 200 max iternations, and adam type of solver\n",
      "\taccuracy on valid: 82.2%\n",
      "\tprecision on valid: 61.0%\n",
      "\trecall on valid: 8.9%\n",
      "\tf1 on valid: 15.5%\n",
      "\tseconds to predict valid: 27.0 seconds\n",
      "\n",
      "neural net with (10, 5, 2) layers, tanh activation, 0.001 alpha, 500 max iternations, and sgd type of solver\n",
      "\taccuracy on valid: 82.0%\n",
      "\tprecision on valid: 56.7%\n",
      "\trecall on valid: 9.1%\n",
      "\tf1 on valid: 15.6%\n",
      "\tseconds to predict valid: 88.8 seconds\n",
      "\n",
      "neural net with (10, 5, 2) layers, tanh activation, 0.001 alpha, 500 max iternations, and adam type of solver\n",
      "\taccuracy on valid: 82.2%\n",
      "\tprecision on valid: 61.0%\n",
      "\trecall on valid: 8.9%\n",
      "\tf1 on valid: 15.5%\n",
      "\tseconds to predict valid: 8.0 seconds\n"
     ]
    },
    {
     "name": "stderr",
     "output_type": "stream",
     "text": [
      "c:\\Users\\matth\\anaconda3\\lib\\site-packages\\sklearn\\neural_network\\_multilayer_perceptron.py:614: ConvergenceWarning: Stochastic Optimizer: Maximum iterations (100) reached and the optimization hasn't converged yet.\n",
      "  warnings.warn(\n"
     ]
    },
    {
     "name": "stdout",
     "output_type": "stream",
     "text": [
      "\n",
      "neural net with (10, 5, 2) layers, tanh activation, 0.01 alpha, 100 max iternations, and sgd type of solver\n",
      "\taccuracy on valid: 81.7%\n",
      "\tprecision on valid: 62.2%\n",
      "\trecall on valid: 1.9%\n",
      "\tf1 on valid: 3.7%\n",
      "\tseconds to predict valid: 10.6 seconds\n",
      "\n",
      "neural net with (10, 5, 2) layers, tanh activation, 0.01 alpha, 100 max iternations, and adam type of solver\n",
      "\taccuracy on valid: 82.1%\n",
      "\tprecision on valid: 60.7%\n",
      "\trecall on valid: 8.7%\n",
      "\tf1 on valid: 15.2%\n",
      "\tseconds to predict valid: 8.0 seconds\n"
     ]
    },
    {
     "name": "stderr",
     "output_type": "stream",
     "text": [
      "c:\\Users\\matth\\anaconda3\\lib\\site-packages\\sklearn\\neural_network\\_multilayer_perceptron.py:614: ConvergenceWarning: Stochastic Optimizer: Maximum iterations (200) reached and the optimization hasn't converged yet.\n",
      "  warnings.warn(\n"
     ]
    },
    {
     "name": "stdout",
     "output_type": "stream",
     "text": [
      "\n",
      "neural net with (10, 5, 2) layers, tanh activation, 0.01 alpha, 200 max iternations, and sgd type of solver\n",
      "\taccuracy on valid: 81.9%\n",
      "\tprecision on valid: 54.4%\n",
      "\trecall on valid: 9.2%\n",
      "\tf1 on valid: 15.7%\n",
      "\tseconds to predict valid: 21.1 seconds\n",
      "\n",
      "neural net with (10, 5, 2) layers, tanh activation, 0.01 alpha, 200 max iternations, and adam type of solver\n",
      "\taccuracy on valid: 82.1%\n",
      "\tprecision on valid: 60.7%\n",
      "\trecall on valid: 8.7%\n",
      "\tf1 on valid: 15.2%\n",
      "\tseconds to predict valid: 15.1 seconds\n",
      "\n",
      "neural net with (10, 5, 2) layers, tanh activation, 0.01 alpha, 500 max iternations, and sgd type of solver\n",
      "\taccuracy on valid: 81.9%\n",
      "\tprecision on valid: 55.9%\n",
      "\trecall on valid: 9.0%\n",
      "\tf1 on valid: 15.5%\n",
      "\tseconds to predict valid: 98.5 seconds\n",
      "\n",
      "neural net with (10, 5, 2) layers, tanh activation, 0.01 alpha, 500 max iternations, and adam type of solver\n",
      "\taccuracy on valid: 82.1%\n",
      "\tprecision on valid: 60.7%\n",
      "\trecall on valid: 8.7%\n",
      "\tf1 on valid: 15.2%\n",
      "\tseconds to predict valid: 27.6 seconds\n"
     ]
    },
    {
     "name": "stderr",
     "output_type": "stream",
     "text": [
      "c:\\Users\\matth\\anaconda3\\lib\\site-packages\\sklearn\\metrics\\_classification.py:1248: UndefinedMetricWarning: Precision is ill-defined and being set to 0.0 due to no predicted samples. Use `zero_division` parameter to control this behavior.\n",
      "  _warn_prf(average, modifier, msg_start, len(result))\n"
     ]
    },
    {
     "name": "stdout",
     "output_type": "stream",
     "text": [
      "\n",
      "neural net with (10, 5, 2) layers, logistic activation, 0.0001 alpha, 100 max iternations, and sgd type of solver\n",
      "\taccuracy on valid: 81.6%\n",
      "\tprecision on valid: 0.0%\n",
      "\trecall on valid: 0.0%\n",
      "\tf1 on valid: 0.0%\n",
      "\tseconds to predict valid: 23.8 seconds\n"
     ]
    },
    {
     "name": "stderr",
     "output_type": "stream",
     "text": [
      "c:\\Users\\matth\\anaconda3\\lib\\site-packages\\sklearn\\metrics\\_classification.py:1248: UndefinedMetricWarning: Precision is ill-defined and being set to 0.0 due to no predicted samples. Use `zero_division` parameter to control this behavior.\n",
      "  _warn_prf(average, modifier, msg_start, len(result))\n"
     ]
    },
    {
     "name": "stdout",
     "output_type": "stream",
     "text": [
      "\n",
      "neural net with (10, 5, 2) layers, logistic activation, 0.0001 alpha, 100 max iternations, and adam type of solver\n",
      "\taccuracy on valid: 81.6%\n",
      "\tprecision on valid: 0.0%\n",
      "\trecall on valid: 0.0%\n",
      "\tf1 on valid: 0.0%\n",
      "\tseconds to predict valid: 24.8 seconds\n"
     ]
    },
    {
     "name": "stderr",
     "output_type": "stream",
     "text": [
      "c:\\Users\\matth\\anaconda3\\lib\\site-packages\\sklearn\\metrics\\_classification.py:1248: UndefinedMetricWarning: Precision is ill-defined and being set to 0.0 due to no predicted samples. Use `zero_division` parameter to control this behavior.\n",
      "  _warn_prf(average, modifier, msg_start, len(result))\n"
     ]
    },
    {
     "name": "stdout",
     "output_type": "stream",
     "text": [
      "\n",
      "neural net with (10, 5, 2) layers, logistic activation, 0.0001 alpha, 200 max iternations, and sgd type of solver\n",
      "\taccuracy on valid: 81.6%\n",
      "\tprecision on valid: 0.0%\n",
      "\trecall on valid: 0.0%\n",
      "\tf1 on valid: 0.0%\n",
      "\tseconds to predict valid: 23.6 seconds\n"
     ]
    },
    {
     "name": "stderr",
     "output_type": "stream",
     "text": [
      "c:\\Users\\matth\\anaconda3\\lib\\site-packages\\sklearn\\metrics\\_classification.py:1248: UndefinedMetricWarning: Precision is ill-defined and being set to 0.0 due to no predicted samples. Use `zero_division` parameter to control this behavior.\n",
      "  _warn_prf(average, modifier, msg_start, len(result))\n"
     ]
    },
    {
     "name": "stdout",
     "output_type": "stream",
     "text": [
      "\n",
      "neural net with (10, 5, 2) layers, logistic activation, 0.0001 alpha, 200 max iternations, and adam type of solver\n",
      "\taccuracy on valid: 81.6%\n",
      "\tprecision on valid: 0.0%\n",
      "\trecall on valid: 0.0%\n",
      "\tf1 on valid: 0.0%\n",
      "\tseconds to predict valid: 24.4 seconds\n"
     ]
    },
    {
     "name": "stderr",
     "output_type": "stream",
     "text": [
      "c:\\Users\\matth\\anaconda3\\lib\\site-packages\\sklearn\\metrics\\_classification.py:1248: UndefinedMetricWarning: Precision is ill-defined and being set to 0.0 due to no predicted samples. Use `zero_division` parameter to control this behavior.\n",
      "  _warn_prf(average, modifier, msg_start, len(result))\n"
     ]
    },
    {
     "name": "stdout",
     "output_type": "stream",
     "text": [
      "\n",
      "neural net with (10, 5, 2) layers, logistic activation, 0.0001 alpha, 500 max iternations, and sgd type of solver\n",
      "\taccuracy on valid: 81.6%\n",
      "\tprecision on valid: 0.0%\n",
      "\trecall on valid: 0.0%\n",
      "\tf1 on valid: 0.0%\n",
      "\tseconds to predict valid: 23.4 seconds\n"
     ]
    },
    {
     "name": "stderr",
     "output_type": "stream",
     "text": [
      "c:\\Users\\matth\\anaconda3\\lib\\site-packages\\sklearn\\metrics\\_classification.py:1248: UndefinedMetricWarning: Precision is ill-defined and being set to 0.0 due to no predicted samples. Use `zero_division` parameter to control this behavior.\n",
      "  _warn_prf(average, modifier, msg_start, len(result))\n"
     ]
    },
    {
     "name": "stdout",
     "output_type": "stream",
     "text": [
      "\n",
      "neural net with (10, 5, 2) layers, logistic activation, 0.0001 alpha, 500 max iternations, and adam type of solver\n",
      "\taccuracy on valid: 81.6%\n",
      "\tprecision on valid: 0.0%\n",
      "\trecall on valid: 0.0%\n",
      "\tf1 on valid: 0.0%\n",
      "\tseconds to predict valid: 25.2 seconds\n"
     ]
    },
    {
     "name": "stderr",
     "output_type": "stream",
     "text": [
      "c:\\Users\\matth\\anaconda3\\lib\\site-packages\\sklearn\\metrics\\_classification.py:1248: UndefinedMetricWarning: Precision is ill-defined and being set to 0.0 due to no predicted samples. Use `zero_division` parameter to control this behavior.\n",
      "  _warn_prf(average, modifier, msg_start, len(result))\n"
     ]
    },
    {
     "name": "stdout",
     "output_type": "stream",
     "text": [
      "\n",
      "neural net with (10, 5, 2) layers, logistic activation, 0.001 alpha, 100 max iternations, and sgd type of solver\n",
      "\taccuracy on valid: 81.6%\n",
      "\tprecision on valid: 0.0%\n",
      "\trecall on valid: 0.0%\n",
      "\tf1 on valid: 0.0%\n",
      "\tseconds to predict valid: 24.3 seconds\n"
     ]
    },
    {
     "name": "stderr",
     "output_type": "stream",
     "text": [
      "c:\\Users\\matth\\anaconda3\\lib\\site-packages\\sklearn\\metrics\\_classification.py:1248: UndefinedMetricWarning: Precision is ill-defined and being set to 0.0 due to no predicted samples. Use `zero_division` parameter to control this behavior.\n",
      "  _warn_prf(average, modifier, msg_start, len(result))\n"
     ]
    },
    {
     "name": "stdout",
     "output_type": "stream",
     "text": [
      "\n",
      "neural net with (10, 5, 2) layers, logistic activation, 0.001 alpha, 100 max iternations, and adam type of solver\n",
      "\taccuracy on valid: 81.6%\n",
      "\tprecision on valid: 0.0%\n",
      "\trecall on valid: 0.0%\n",
      "\tf1 on valid: 0.0%\n",
      "\tseconds to predict valid: 24.1 seconds\n"
     ]
    },
    {
     "name": "stderr",
     "output_type": "stream",
     "text": [
      "c:\\Users\\matth\\anaconda3\\lib\\site-packages\\sklearn\\metrics\\_classification.py:1248: UndefinedMetricWarning: Precision is ill-defined and being set to 0.0 due to no predicted samples. Use `zero_division` parameter to control this behavior.\n",
      "  _warn_prf(average, modifier, msg_start, len(result))\n"
     ]
    },
    {
     "name": "stdout",
     "output_type": "stream",
     "text": [
      "\n",
      "neural net with (10, 5, 2) layers, logistic activation, 0.001 alpha, 200 max iternations, and sgd type of solver\n",
      "\taccuracy on valid: 81.6%\n",
      "\tprecision on valid: 0.0%\n",
      "\trecall on valid: 0.0%\n",
      "\tf1 on valid: 0.0%\n",
      "\tseconds to predict valid: 23.0 seconds\n"
     ]
    },
    {
     "name": "stderr",
     "output_type": "stream",
     "text": [
      "c:\\Users\\matth\\anaconda3\\lib\\site-packages\\sklearn\\metrics\\_classification.py:1248: UndefinedMetricWarning: Precision is ill-defined and being set to 0.0 due to no predicted samples. Use `zero_division` parameter to control this behavior.\n",
      "  _warn_prf(average, modifier, msg_start, len(result))\n"
     ]
    },
    {
     "name": "stdout",
     "output_type": "stream",
     "text": [
      "\n",
      "neural net with (10, 5, 2) layers, logistic activation, 0.001 alpha, 200 max iternations, and adam type of solver\n",
      "\taccuracy on valid: 81.6%\n",
      "\tprecision on valid: 0.0%\n",
      "\trecall on valid: 0.0%\n",
      "\tf1 on valid: 0.0%\n",
      "\tseconds to predict valid: 25.1 seconds\n"
     ]
    },
    {
     "name": "stderr",
     "output_type": "stream",
     "text": [
      "c:\\Users\\matth\\anaconda3\\lib\\site-packages\\sklearn\\metrics\\_classification.py:1248: UndefinedMetricWarning: Precision is ill-defined and being set to 0.0 due to no predicted samples. Use `zero_division` parameter to control this behavior.\n",
      "  _warn_prf(average, modifier, msg_start, len(result))\n"
     ]
    },
    {
     "name": "stdout",
     "output_type": "stream",
     "text": [
      "\n",
      "neural net with (10, 5, 2) layers, logistic activation, 0.001 alpha, 500 max iternations, and sgd type of solver\n",
      "\taccuracy on valid: 81.6%\n",
      "\tprecision on valid: 0.0%\n",
      "\trecall on valid: 0.0%\n",
      "\tf1 on valid: 0.0%\n",
      "\tseconds to predict valid: 24.4 seconds\n"
     ]
    },
    {
     "name": "stderr",
     "output_type": "stream",
     "text": [
      "c:\\Users\\matth\\anaconda3\\lib\\site-packages\\sklearn\\metrics\\_classification.py:1248: UndefinedMetricWarning: Precision is ill-defined and being set to 0.0 due to no predicted samples. Use `zero_division` parameter to control this behavior.\n",
      "  _warn_prf(average, modifier, msg_start, len(result))\n"
     ]
    },
    {
     "name": "stdout",
     "output_type": "stream",
     "text": [
      "\n",
      "neural net with (10, 5, 2) layers, logistic activation, 0.001 alpha, 500 max iternations, and adam type of solver\n",
      "\taccuracy on valid: 81.6%\n",
      "\tprecision on valid: 0.0%\n",
      "\trecall on valid: 0.0%\n",
      "\tf1 on valid: 0.0%\n",
      "\tseconds to predict valid: 24.9 seconds\n"
     ]
    },
    {
     "name": "stderr",
     "output_type": "stream",
     "text": [
      "c:\\Users\\matth\\anaconda3\\lib\\site-packages\\sklearn\\metrics\\_classification.py:1248: UndefinedMetricWarning: Precision is ill-defined and being set to 0.0 due to no predicted samples. Use `zero_division` parameter to control this behavior.\n",
      "  _warn_prf(average, modifier, msg_start, len(result))\n"
     ]
    },
    {
     "name": "stdout",
     "output_type": "stream",
     "text": [
      "\n",
      "neural net with (10, 5, 2) layers, logistic activation, 0.01 alpha, 100 max iternations, and sgd type of solver\n",
      "\taccuracy on valid: 81.6%\n",
      "\tprecision on valid: 0.0%\n",
      "\trecall on valid: 0.0%\n",
      "\tf1 on valid: 0.0%\n",
      "\tseconds to predict valid: 24.0 seconds\n"
     ]
    },
    {
     "name": "stderr",
     "output_type": "stream",
     "text": [
      "c:\\Users\\matth\\anaconda3\\lib\\site-packages\\sklearn\\metrics\\_classification.py:1248: UndefinedMetricWarning: Precision is ill-defined and being set to 0.0 due to no predicted samples. Use `zero_division` parameter to control this behavior.\n",
      "  _warn_prf(average, modifier, msg_start, len(result))\n"
     ]
    },
    {
     "name": "stdout",
     "output_type": "stream",
     "text": [
      "\n",
      "neural net with (10, 5, 2) layers, logistic activation, 0.01 alpha, 100 max iternations, and adam type of solver\n",
      "\taccuracy on valid: 81.6%\n",
      "\tprecision on valid: 0.0%\n",
      "\trecall on valid: 0.0%\n",
      "\tf1 on valid: 0.0%\n",
      "\tseconds to predict valid: 25.2 seconds\n"
     ]
    },
    {
     "name": "stderr",
     "output_type": "stream",
     "text": [
      "c:\\Users\\matth\\anaconda3\\lib\\site-packages\\sklearn\\metrics\\_classification.py:1248: UndefinedMetricWarning: Precision is ill-defined and being set to 0.0 due to no predicted samples. Use `zero_division` parameter to control this behavior.\n",
      "  _warn_prf(average, modifier, msg_start, len(result))\n"
     ]
    },
    {
     "name": "stdout",
     "output_type": "stream",
     "text": [
      "\n",
      "neural net with (10, 5, 2) layers, logistic activation, 0.01 alpha, 200 max iternations, and sgd type of solver\n",
      "\taccuracy on valid: 81.6%\n",
      "\tprecision on valid: 0.0%\n",
      "\trecall on valid: 0.0%\n",
      "\tf1 on valid: 0.0%\n",
      "\tseconds to predict valid: 23.9 seconds\n"
     ]
    },
    {
     "name": "stderr",
     "output_type": "stream",
     "text": [
      "c:\\Users\\matth\\anaconda3\\lib\\site-packages\\sklearn\\metrics\\_classification.py:1248: UndefinedMetricWarning: Precision is ill-defined and being set to 0.0 due to no predicted samples. Use `zero_division` parameter to control this behavior.\n",
      "  _warn_prf(average, modifier, msg_start, len(result))\n"
     ]
    },
    {
     "name": "stdout",
     "output_type": "stream",
     "text": [
      "\n",
      "neural net with (10, 5, 2) layers, logistic activation, 0.01 alpha, 200 max iternations, and adam type of solver\n",
      "\taccuracy on valid: 81.6%\n",
      "\tprecision on valid: 0.0%\n",
      "\trecall on valid: 0.0%\n",
      "\tf1 on valid: 0.0%\n",
      "\tseconds to predict valid: 24.6 seconds\n"
     ]
    },
    {
     "name": "stderr",
     "output_type": "stream",
     "text": [
      "c:\\Users\\matth\\anaconda3\\lib\\site-packages\\sklearn\\metrics\\_classification.py:1248: UndefinedMetricWarning: Precision is ill-defined and being set to 0.0 due to no predicted samples. Use `zero_division` parameter to control this behavior.\n",
      "  _warn_prf(average, modifier, msg_start, len(result))\n"
     ]
    },
    {
     "name": "stdout",
     "output_type": "stream",
     "text": [
      "\n",
      "neural net with (10, 5, 2) layers, logistic activation, 0.01 alpha, 500 max iternations, and sgd type of solver\n",
      "\taccuracy on valid: 81.6%\n",
      "\tprecision on valid: 0.0%\n",
      "\trecall on valid: 0.0%\n",
      "\tf1 on valid: 0.0%\n",
      "\tseconds to predict valid: 23.7 seconds\n"
     ]
    },
    {
     "name": "stderr",
     "output_type": "stream",
     "text": [
      "c:\\Users\\matth\\anaconda3\\lib\\site-packages\\sklearn\\metrics\\_classification.py:1248: UndefinedMetricWarning: Precision is ill-defined and being set to 0.0 due to no predicted samples. Use `zero_division` parameter to control this behavior.\n",
      "  _warn_prf(average, modifier, msg_start, len(result))\n"
     ]
    },
    {
     "name": "stdout",
     "output_type": "stream",
     "text": [
      "\n",
      "neural net with (10, 5, 2) layers, logistic activation, 0.01 alpha, 500 max iternations, and adam type of solver\n",
      "\taccuracy on valid: 81.6%\n",
      "\tprecision on valid: 0.0%\n",
      "\trecall on valid: 0.0%\n",
      "\tf1 on valid: 0.0%\n",
      "\tseconds to predict valid: 25.3 seconds\n"
     ]
    },
    {
     "name": "stderr",
     "output_type": "stream",
     "text": [
      "c:\\Users\\matth\\anaconda3\\lib\\site-packages\\sklearn\\neural_network\\_multilayer_perceptron.py:614: ConvergenceWarning: Stochastic Optimizer: Maximum iterations (100) reached and the optimization hasn't converged yet.\n",
      "  warnings.warn(\n"
     ]
    },
    {
     "name": "stdout",
     "output_type": "stream",
     "text": [
      "\n",
      "neural net with (25, 25, 25) layers, relu activation, 0.0001 alpha, 100 max iternations, and sgd type of solver\n",
      "\taccuracy on valid: 81.8%\n",
      "\tprecision on valid: 53.0%\n",
      "\trecall on valid: 10.9%\n",
      "\tf1 on valid: 18.1%\n",
      "\tseconds to predict valid: 59.0 seconds\n"
     ]
    },
    {
     "name": "stderr",
     "output_type": "stream",
     "text": [
      "c:\\Users\\matth\\anaconda3\\lib\\site-packages\\sklearn\\neural_network\\_multilayer_perceptron.py:614: ConvergenceWarning: Stochastic Optimizer: Maximum iterations (100) reached and the optimization hasn't converged yet.\n",
      "  warnings.warn(\n"
     ]
    },
    {
     "name": "stdout",
     "output_type": "stream",
     "text": [
      "\n",
      "neural net with (25, 25, 25) layers, relu activation, 0.0001 alpha, 100 max iternations, and adam type of solver\n",
      "\taccuracy on valid: 81.8%\n",
      "\tprecision on valid: 52.5%\n",
      "\trecall on valid: 11.5%\n",
      "\tf1 on valid: 18.8%\n",
      "\tseconds to predict valid: 74.0 seconds\n"
     ]
    },
    {
     "name": "stderr",
     "output_type": "stream",
     "text": [
      "c:\\Users\\matth\\anaconda3\\lib\\site-packages\\sklearn\\neural_network\\_multilayer_perceptron.py:614: ConvergenceWarning: Stochastic Optimizer: Maximum iterations (200) reached and the optimization hasn't converged yet.\n",
      "  warnings.warn(\n"
     ]
    },
    {
     "name": "stdout",
     "output_type": "stream",
     "text": [
      "\n",
      "neural net with (25, 25, 25) layers, relu activation, 0.0001 alpha, 200 max iternations, and sgd type of solver\n",
      "\taccuracy on valid: 82.0%\n",
      "\tprecision on valid: 57.9%\n",
      "\trecall on valid: 8.7%\n",
      "\tf1 on valid: 15.2%\n",
      "\tseconds to predict valid: 114.9 seconds\n"
     ]
    },
    {
     "name": "stderr",
     "output_type": "stream",
     "text": [
      "c:\\Users\\matth\\anaconda3\\lib\\site-packages\\sklearn\\neural_network\\_multilayer_perceptron.py:614: ConvergenceWarning: Stochastic Optimizer: Maximum iterations (200) reached and the optimization hasn't converged yet.\n",
      "  warnings.warn(\n"
     ]
    },
    {
     "name": "stdout",
     "output_type": "stream",
     "text": [
      "\n",
      "neural net with (25, 25, 25) layers, relu activation, 0.0001 alpha, 200 max iternations, and adam type of solver\n",
      "\taccuracy on valid: 81.7%\n",
      "\tprecision on valid: 50.8%\n",
      "\trecall on valid: 12.7%\n",
      "\tf1 on valid: 20.3%\n",
      "\tseconds to predict valid: 170.1 seconds\n",
      "\n",
      "neural net with (25, 25, 25) layers, relu activation, 0.0001 alpha, 500 max iternations, and sgd type of solver\n",
      "\taccuracy on valid: 82.0%\n",
      "\tprecision on valid: 57.4%\n",
      "\trecall on valid: 9.6%\n",
      "\tf1 on valid: 16.4%\n",
      "\tseconds to predict valid: 152.0 seconds\n",
      "\n",
      "neural net with (25, 25, 25) layers, relu activation, 0.0001 alpha, 500 max iternations, and adam type of solver\n",
      "\taccuracy on valid: 81.8%\n",
      "\tprecision on valid: 52.7%\n",
      "\trecall on valid: 9.8%\n",
      "\tf1 on valid: 16.5%\n",
      "\tseconds to predict valid: 220.8 seconds\n"
     ]
    },
    {
     "name": "stderr",
     "output_type": "stream",
     "text": [
      "c:\\Users\\matth\\anaconda3\\lib\\site-packages\\sklearn\\neural_network\\_multilayer_perceptron.py:614: ConvergenceWarning: Stochastic Optimizer: Maximum iterations (100) reached and the optimization hasn't converged yet.\n",
      "  warnings.warn(\n"
     ]
    },
    {
     "name": "stdout",
     "output_type": "stream",
     "text": [
      "\n",
      "neural net with (25, 25, 25) layers, relu activation, 0.001 alpha, 100 max iternations, and sgd type of solver\n",
      "\taccuracy on valid: 81.7%\n",
      "\tprecision on valid: 51.8%\n",
      "\trecall on valid: 11.0%\n",
      "\tf1 on valid: 18.1%\n",
      "\tseconds to predict valid: 58.5 seconds\n"
     ]
    },
    {
     "name": "stderr",
     "output_type": "stream",
     "text": [
      "c:\\Users\\matth\\anaconda3\\lib\\site-packages\\sklearn\\neural_network\\_multilayer_perceptron.py:614: ConvergenceWarning: Stochastic Optimizer: Maximum iterations (100) reached and the optimization hasn't converged yet.\n",
      "  warnings.warn(\n"
     ]
    },
    {
     "name": "stdout",
     "output_type": "stream",
     "text": [
      "\n",
      "neural net with (25, 25, 25) layers, relu activation, 0.001 alpha, 100 max iternations, and adam type of solver\n",
      "\taccuracy on valid: 81.9%\n",
      "\tprecision on valid: 54.7%\n",
      "\trecall on valid: 10.1%\n",
      "\tf1 on valid: 17.1%\n",
      "\tseconds to predict valid: 75.5 seconds\n"
     ]
    },
    {
     "name": "stderr",
     "output_type": "stream",
     "text": [
      "c:\\Users\\matth\\anaconda3\\lib\\site-packages\\sklearn\\neural_network\\_multilayer_perceptron.py:614: ConvergenceWarning: Stochastic Optimizer: Maximum iterations (200) reached and the optimization hasn't converged yet.\n",
      "  warnings.warn(\n"
     ]
    },
    {
     "name": "stdout",
     "output_type": "stream",
     "text": [
      "\n",
      "neural net with (25, 25, 25) layers, relu activation, 0.001 alpha, 200 max iternations, and sgd type of solver\n",
      "\taccuracy on valid: 82.0%\n",
      "\tprecision on valid: 57.3%\n",
      "\trecall on valid: 9.4%\n",
      "\tf1 on valid: 16.1%\n",
      "\tseconds to predict valid: 118.6 seconds\n"
     ]
    },
    {
     "name": "stderr",
     "output_type": "stream",
     "text": [
      "c:\\Users\\matth\\anaconda3\\lib\\site-packages\\sklearn\\neural_network\\_multilayer_perceptron.py:614: ConvergenceWarning: Stochastic Optimizer: Maximum iterations (200) reached and the optimization hasn't converged yet.\n",
      "  warnings.warn(\n"
     ]
    },
    {
     "name": "stdout",
     "output_type": "stream",
     "text": [
      "\n",
      "neural net with (25, 25, 25) layers, relu activation, 0.001 alpha, 200 max iternations, and adam type of solver\n",
      "\taccuracy on valid: 81.6%\n",
      "\tprecision on valid: 50.7%\n",
      "\trecall on valid: 12.6%\n",
      "\tf1 on valid: 20.2%\n",
      "\tseconds to predict valid: 167.2 seconds\n",
      "\n",
      "neural net with (25, 25, 25) layers, relu activation, 0.001 alpha, 500 max iternations, and sgd type of solver\n",
      "\taccuracy on valid: 82.0%\n",
      "\tprecision on valid: 57.2%\n",
      "\trecall on valid: 9.5%\n",
      "\tf1 on valid: 16.3%\n",
      "\tseconds to predict valid: 114.3 seconds\n",
      "\n",
      "neural net with (25, 25, 25) layers, relu activation, 0.001 alpha, 500 max iternations, and adam type of solver\n",
      "\taccuracy on valid: 81.6%\n",
      "\tprecision on valid: 50.2%\n",
      "\trecall on valid: 13.5%\n",
      "\tf1 on valid: 21.3%\n",
      "\tseconds to predict valid: 144.3 seconds\n"
     ]
    },
    {
     "name": "stderr",
     "output_type": "stream",
     "text": [
      "c:\\Users\\matth\\anaconda3\\lib\\site-packages\\sklearn\\neural_network\\_multilayer_perceptron.py:614: ConvergenceWarning: Stochastic Optimizer: Maximum iterations (100) reached and the optimization hasn't converged yet.\n",
      "  warnings.warn(\n"
     ]
    },
    {
     "name": "stdout",
     "output_type": "stream",
     "text": [
      "\n",
      "neural net with (25, 25, 25) layers, relu activation, 0.01 alpha, 100 max iternations, and sgd type of solver\n",
      "\taccuracy on valid: 81.7%\n",
      "\tprecision on valid: 52.0%\n",
      "\trecall on valid: 10.7%\n",
      "\tf1 on valid: 17.8%\n",
      "\tseconds to predict valid: 17.6 seconds\n"
     ]
    },
    {
     "name": "stderr",
     "output_type": "stream",
     "text": [
      "c:\\Users\\matth\\anaconda3\\lib\\site-packages\\sklearn\\neural_network\\_multilayer_perceptron.py:614: ConvergenceWarning: Stochastic Optimizer: Maximum iterations (100) reached and the optimization hasn't converged yet.\n",
      "  warnings.warn(\n"
     ]
    },
    {
     "name": "stdout",
     "output_type": "stream",
     "text": [
      "\n",
      "neural net with (25, 25, 25) layers, relu activation, 0.01 alpha, 100 max iternations, and adam type of solver\n",
      "\taccuracy on valid: 82.1%\n",
      "\tprecision on valid: 55.4%\n",
      "\trecall on valid: 13.0%\n",
      "\tf1 on valid: 21.1%\n",
      "\tseconds to predict valid: 26.2 seconds\n"
     ]
    },
    {
     "name": "stderr",
     "output_type": "stream",
     "text": [
      "c:\\Users\\matth\\anaconda3\\lib\\site-packages\\sklearn\\neural_network\\_multilayer_perceptron.py:614: ConvergenceWarning: Stochastic Optimizer: Maximum iterations (200) reached and the optimization hasn't converged yet.\n",
      "  warnings.warn(\n"
     ]
    },
    {
     "name": "stdout",
     "output_type": "stream",
     "text": [
      "\n",
      "neural net with (25, 25, 25) layers, relu activation, 0.01 alpha, 200 max iternations, and sgd type of solver\n",
      "\taccuracy on valid: 82.0%\n",
      "\tprecision on valid: 57.8%\n",
      "\trecall on valid: 8.8%\n",
      "\tf1 on valid: 15.3%\n",
      "\tseconds to predict valid: 35.8 seconds\n",
      "\n",
      "neural net with (25, 25, 25) layers, relu activation, 0.01 alpha, 200 max iternations, and adam type of solver\n",
      "\taccuracy on valid: 81.9%\n",
      "\tprecision on valid: 54.7%\n",
      "\trecall on valid: 10.6%\n",
      "\tf1 on valid: 17.8%\n",
      "\tseconds to predict valid: 81.3 seconds\n",
      "\n",
      "neural net with (25, 25, 25) layers, relu activation, 0.01 alpha, 500 max iternations, and sgd type of solver\n",
      "\taccuracy on valid: 82.0%\n",
      "\tprecision on valid: 56.7%\n",
      "\trecall on valid: 9.5%\n",
      "\tf1 on valid: 16.2%\n",
      "\tseconds to predict valid: 85.3 seconds\n",
      "\n",
      "neural net with (25, 25, 25) layers, relu activation, 0.01 alpha, 500 max iternations, and adam type of solver\n",
      "\taccuracy on valid: 81.9%\n",
      "\tprecision on valid: 54.7%\n",
      "\trecall on valid: 10.6%\n",
      "\tf1 on valid: 17.8%\n",
      "\tseconds to predict valid: 94.5 seconds\n"
     ]
    },
    {
     "name": "stderr",
     "output_type": "stream",
     "text": [
      "c:\\Users\\matth\\anaconda3\\lib\\site-packages\\sklearn\\neural_network\\_multilayer_perceptron.py:614: ConvergenceWarning: Stochastic Optimizer: Maximum iterations (100) reached and the optimization hasn't converged yet.\n",
      "  warnings.warn(\n"
     ]
    },
    {
     "name": "stdout",
     "output_type": "stream",
     "text": [
      "\n",
      "neural net with (25, 25, 25) layers, tanh activation, 0.0001 alpha, 100 max iternations, and sgd type of solver\n",
      "\taccuracy on valid: 81.9%\n",
      "\tprecision on valid: 54.8%\n",
      "\trecall on valid: 8.5%\n",
      "\tf1 on valid: 14.7%\n",
      "\tseconds to predict valid: 1332.3 seconds\n"
     ]
    },
    {
     "name": "stderr",
     "output_type": "stream",
     "text": [
      "c:\\Users\\matth\\anaconda3\\lib\\site-packages\\sklearn\\neural_network\\_multilayer_perceptron.py:614: ConvergenceWarning: Stochastic Optimizer: Maximum iterations (100) reached and the optimization hasn't converged yet.\n",
      "  warnings.warn(\n"
     ]
    },
    {
     "name": "stdout",
     "output_type": "stream",
     "text": [
      "\n",
      "neural net with (25, 25, 25) layers, tanh activation, 0.0001 alpha, 100 max iternations, and adam type of solver\n",
      "\taccuracy on valid: 82.0%\n",
      "\tprecision on valid: 55.4%\n",
      "\trecall on valid: 10.6%\n",
      "\tf1 on valid: 17.7%\n",
      "\tseconds to predict valid: 30.3 seconds\n"
     ]
    },
    {
     "name": "stderr",
     "output_type": "stream",
     "text": [
      "c:\\Users\\matth\\anaconda3\\lib\\site-packages\\sklearn\\neural_network\\_multilayer_perceptron.py:614: ConvergenceWarning: Stochastic Optimizer: Maximum iterations (200) reached and the optimization hasn't converged yet.\n",
      "  warnings.warn(\n"
     ]
    },
    {
     "name": "stdout",
     "output_type": "stream",
     "text": [
      "\n",
      "neural net with (25, 25, 25) layers, tanh activation, 0.0001 alpha, 200 max iternations, and sgd type of solver\n",
      "\taccuracy on valid: 82.0%\n",
      "\tprecision on valid: 57.1%\n",
      "\trecall on valid: 10.0%\n",
      "\tf1 on valid: 17.0%\n",
      "\tseconds to predict valid: 41.2 seconds\n"
     ]
    },
    {
     "name": "stderr",
     "output_type": "stream",
     "text": [
      "c:\\Users\\matth\\anaconda3\\lib\\site-packages\\sklearn\\neural_network\\_multilayer_perceptron.py:614: ConvergenceWarning: Stochastic Optimizer: Maximum iterations (200) reached and the optimization hasn't converged yet.\n",
      "  warnings.warn(\n"
     ]
    },
    {
     "name": "stdout",
     "output_type": "stream",
     "text": [
      "\n",
      "neural net with (25, 25, 25) layers, tanh activation, 0.0001 alpha, 200 max iternations, and adam type of solver\n",
      "\taccuracy on valid: 81.9%\n",
      "\tprecision on valid: 53.4%\n",
      "\trecall on valid: 11.8%\n",
      "\tf1 on valid: 19.3%\n",
      "\tseconds to predict valid: 45.6 seconds\n",
      "\n",
      "neural net with (25, 25, 25) layers, tanh activation, 0.0001 alpha, 500 max iternations, and sgd type of solver\n",
      "\taccuracy on valid: 82.1%\n",
      "\tprecision on valid: 57.3%\n",
      "\trecall on valid: 10.0%\n",
      "\tf1 on valid: 17.0%\n",
      "\tseconds to predict valid: 47.6 seconds\n",
      "\n",
      "neural net with (25, 25, 25) layers, tanh activation, 0.0001 alpha, 500 max iternations, and adam type of solver\n",
      "\taccuracy on valid: 81.3%\n",
      "\tprecision on valid: 46.9%\n",
      "\trecall on valid: 12.3%\n",
      "\tf1 on valid: 19.5%\n",
      "\tseconds to predict valid: 115.2 seconds\n"
     ]
    },
    {
     "name": "stderr",
     "output_type": "stream",
     "text": [
      "c:\\Users\\matth\\anaconda3\\lib\\site-packages\\sklearn\\neural_network\\_multilayer_perceptron.py:614: ConvergenceWarning: Stochastic Optimizer: Maximum iterations (100) reached and the optimization hasn't converged yet.\n",
      "  warnings.warn(\n"
     ]
    },
    {
     "name": "stdout",
     "output_type": "stream",
     "text": [
      "\n",
      "neural net with (25, 25, 25) layers, tanh activation, 0.001 alpha, 100 max iternations, and sgd type of solver\n",
      "\taccuracy on valid: 81.9%\n",
      "\tprecision on valid: 54.8%\n",
      "\trecall on valid: 8.5%\n",
      "\tf1 on valid: 14.7%\n",
      "\tseconds to predict valid: 20.1 seconds\n"
     ]
    },
    {
     "name": "stderr",
     "output_type": "stream",
     "text": [
      "c:\\Users\\matth\\anaconda3\\lib\\site-packages\\sklearn\\neural_network\\_multilayer_perceptron.py:614: ConvergenceWarning: Stochastic Optimizer: Maximum iterations (100) reached and the optimization hasn't converged yet.\n",
      "  warnings.warn(\n"
     ]
    },
    {
     "name": "stdout",
     "output_type": "stream",
     "text": [
      "\n",
      "neural net with (25, 25, 25) layers, tanh activation, 0.001 alpha, 100 max iternations, and adam type of solver\n",
      "\taccuracy on valid: 81.9%\n",
      "\tprecision on valid: 54.0%\n",
      "\trecall on valid: 10.6%\n",
      "\tf1 on valid: 17.8%\n",
      "\tseconds to predict valid: 21.9 seconds\n"
     ]
    },
    {
     "name": "stderr",
     "output_type": "stream",
     "text": [
      "c:\\Users\\matth\\anaconda3\\lib\\site-packages\\sklearn\\neural_network\\_multilayer_perceptron.py:614: ConvergenceWarning: Stochastic Optimizer: Maximum iterations (200) reached and the optimization hasn't converged yet.\n",
      "  warnings.warn(\n"
     ]
    },
    {
     "name": "stdout",
     "output_type": "stream",
     "text": [
      "\n",
      "neural net with (25, 25, 25) layers, tanh activation, 0.001 alpha, 200 max iternations, and sgd type of solver\n",
      "\taccuracy on valid: 82.0%\n",
      "\tprecision on valid: 57.1%\n",
      "\trecall on valid: 10.0%\n",
      "\tf1 on valid: 17.0%\n",
      "\tseconds to predict valid: 39.0 seconds\n"
     ]
    },
    {
     "name": "stderr",
     "output_type": "stream",
     "text": [
      "c:\\Users\\matth\\anaconda3\\lib\\site-packages\\sklearn\\neural_network\\_multilayer_perceptron.py:614: ConvergenceWarning: Stochastic Optimizer: Maximum iterations (200) reached and the optimization hasn't converged yet.\n",
      "  warnings.warn(\n"
     ]
    },
    {
     "name": "stdout",
     "output_type": "stream",
     "text": [
      "\n",
      "neural net with (25, 25, 25) layers, tanh activation, 0.001 alpha, 200 max iternations, and adam type of solver\n",
      "\taccuracy on valid: 81.8%\n",
      "\tprecision on valid: 52.6%\n",
      "\trecall on valid: 10.1%\n",
      "\tf1 on valid: 17.0%\n",
      "\tseconds to predict valid: 44.4 seconds\n",
      "\n",
      "neural net with (25, 25, 25) layers, tanh activation, 0.001 alpha, 500 max iternations, and sgd type of solver\n",
      "\taccuracy on valid: 82.1%\n",
      "\tprecision on valid: 57.3%\n",
      "\trecall on valid: 10.0%\n",
      "\tf1 on valid: 17.0%\n",
      "\tseconds to predict valid: 45.4 seconds\n",
      "\n",
      "neural net with (25, 25, 25) layers, tanh activation, 0.001 alpha, 500 max iternations, and adam type of solver\n",
      "\taccuracy on valid: 81.6%\n",
      "\tprecision on valid: 50.0%\n",
      "\trecall on valid: 14.1%\n",
      "\tf1 on valid: 22.0%\n",
      "\tseconds to predict valid: 82.5 seconds\n"
     ]
    },
    {
     "name": "stderr",
     "output_type": "stream",
     "text": [
      "c:\\Users\\matth\\anaconda3\\lib\\site-packages\\sklearn\\neural_network\\_multilayer_perceptron.py:614: ConvergenceWarning: Stochastic Optimizer: Maximum iterations (100) reached and the optimization hasn't converged yet.\n",
      "  warnings.warn(\n"
     ]
    },
    {
     "name": "stdout",
     "output_type": "stream",
     "text": [
      "\n",
      "neural net with (25, 25, 25) layers, tanh activation, 0.01 alpha, 100 max iternations, and sgd type of solver\n",
      "\taccuracy on valid: 81.9%\n",
      "\tprecision on valid: 55.1%\n",
      "\trecall on valid: 8.5%\n",
      "\tf1 on valid: 14.7%\n",
      "\tseconds to predict valid: 19.4 seconds\n"
     ]
    },
    {
     "name": "stderr",
     "output_type": "stream",
     "text": [
      "c:\\Users\\matth\\anaconda3\\lib\\site-packages\\sklearn\\neural_network\\_multilayer_perceptron.py:614: ConvergenceWarning: Stochastic Optimizer: Maximum iterations (100) reached and the optimization hasn't converged yet.\n",
      "  warnings.warn(\n"
     ]
    },
    {
     "name": "stdout",
     "output_type": "stream",
     "text": [
      "\n",
      "neural net with (25, 25, 25) layers, tanh activation, 0.01 alpha, 100 max iternations, and adam type of solver\n",
      "\taccuracy on valid: 82.0%\n",
      "\tprecision on valid: 55.5%\n",
      "\trecall on valid: 10.5%\n",
      "\tf1 on valid: 17.6%\n",
      "\tseconds to predict valid: 25.8 seconds\n"
     ]
    },
    {
     "name": "stderr",
     "output_type": "stream",
     "text": [
      "c:\\Users\\matth\\anaconda3\\lib\\site-packages\\sklearn\\neural_network\\_multilayer_perceptron.py:614: ConvergenceWarning: Stochastic Optimizer: Maximum iterations (200) reached and the optimization hasn't converged yet.\n",
      "  warnings.warn(\n"
     ]
    },
    {
     "name": "stdout",
     "output_type": "stream",
     "text": [
      "\n",
      "neural net with (25, 25, 25) layers, tanh activation, 0.01 alpha, 200 max iternations, and sgd type of solver\n",
      "\taccuracy on valid: 82.1%\n",
      "\tprecision on valid: 57.3%\n",
      "\trecall on valid: 10.0%\n",
      "\tf1 on valid: 17.0%\n",
      "\tseconds to predict valid: 46.5 seconds\n",
      "\n",
      "neural net with (25, 25, 25) layers, tanh activation, 0.01 alpha, 200 max iternations, and adam type of solver\n",
      "\taccuracy on valid: 82.0%\n",
      "\tprecision on valid: 56.2%\n",
      "\trecall on valid: 10.5%\n",
      "\tf1 on valid: 17.7%\n",
      "\tseconds to predict valid: 31.8 seconds\n",
      "\n",
      "neural net with (25, 25, 25) layers, tanh activation, 0.01 alpha, 500 max iternations, and sgd type of solver\n",
      "\taccuracy on valid: 82.1%\n",
      "\tprecision on valid: 57.6%\n",
      "\trecall on valid: 10.0%\n",
      "\tf1 on valid: 17.0%\n",
      "\tseconds to predict valid: 52.1 seconds\n",
      "\n",
      "neural net with (25, 25, 25) layers, tanh activation, 0.01 alpha, 500 max iternations, and adam type of solver\n",
      "\taccuracy on valid: 82.0%\n",
      "\tprecision on valid: 56.2%\n",
      "\trecall on valid: 10.5%\n",
      "\tf1 on valid: 17.7%\n",
      "\tseconds to predict valid: 28.3 seconds\n"
     ]
    },
    {
     "name": "stderr",
     "output_type": "stream",
     "text": [
      "c:\\Users\\matth\\anaconda3\\lib\\site-packages\\sklearn\\metrics\\_classification.py:1248: UndefinedMetricWarning: Precision is ill-defined and being set to 0.0 due to no predicted samples. Use `zero_division` parameter to control this behavior.\n",
      "  _warn_prf(average, modifier, msg_start, len(result))\n"
     ]
    },
    {
     "name": "stdout",
     "output_type": "stream",
     "text": [
      "\n",
      "neural net with (25, 25, 25) layers, logistic activation, 0.0001 alpha, 100 max iternations, and sgd type of solver\n",
      "\taccuracy on valid: 81.6%\n",
      "\tprecision on valid: 0.0%\n",
      "\trecall on valid: 0.0%\n",
      "\tf1 on valid: 0.0%\n",
      "\tseconds to predict valid: 13.0 seconds\n"
     ]
    },
    {
     "name": "stderr",
     "output_type": "stream",
     "text": [
      "c:\\Users\\matth\\anaconda3\\lib\\site-packages\\sklearn\\neural_network\\_multilayer_perceptron.py:614: ConvergenceWarning: Stochastic Optimizer: Maximum iterations (100) reached and the optimization hasn't converged yet.\n",
      "  warnings.warn(\n"
     ]
    },
    {
     "name": "stdout",
     "output_type": "stream",
     "text": [
      "\n",
      "neural net with (25, 25, 25) layers, logistic activation, 0.0001 alpha, 100 max iternations, and adam type of solver\n",
      "\taccuracy on valid: 82.1%\n",
      "\tprecision on valid: 58.0%\n",
      "\trecall on valid: 10.1%\n",
      "\tf1 on valid: 17.3%\n",
      "\tseconds to predict valid: 23.5 seconds\n"
     ]
    },
    {
     "name": "stderr",
     "output_type": "stream",
     "text": [
      "c:\\Users\\matth\\anaconda3\\lib\\site-packages\\sklearn\\metrics\\_classification.py:1248: UndefinedMetricWarning: Precision is ill-defined and being set to 0.0 due to no predicted samples. Use `zero_division` parameter to control this behavior.\n",
      "  _warn_prf(average, modifier, msg_start, len(result))\n"
     ]
    },
    {
     "name": "stdout",
     "output_type": "stream",
     "text": [
      "\n",
      "neural net with (25, 25, 25) layers, logistic activation, 0.0001 alpha, 200 max iternations, and sgd type of solver\n",
      "\taccuracy on valid: 81.6%\n",
      "\tprecision on valid: 0.0%\n",
      "\trecall on valid: 0.0%\n",
      "\tf1 on valid: 0.0%\n",
      "\tseconds to predict valid: 14.2 seconds\n",
      "\n",
      "neural net with (25, 25, 25) layers, logistic activation, 0.0001 alpha, 200 max iternations, and adam type of solver\n",
      "\taccuracy on valid: 82.1%\n",
      "\tprecision on valid: 61.0%\n",
      "\trecall on valid: 7.7%\n",
      "\tf1 on valid: 13.8%\n",
      "\tseconds to predict valid: 28.6 seconds\n"
     ]
    },
    {
     "name": "stderr",
     "output_type": "stream",
     "text": [
      "c:\\Users\\matth\\anaconda3\\lib\\site-packages\\sklearn\\metrics\\_classification.py:1248: UndefinedMetricWarning: Precision is ill-defined and being set to 0.0 due to no predicted samples. Use `zero_division` parameter to control this behavior.\n",
      "  _warn_prf(average, modifier, msg_start, len(result))\n"
     ]
    },
    {
     "name": "stdout",
     "output_type": "stream",
     "text": [
      "\n",
      "neural net with (25, 25, 25) layers, logistic activation, 0.0001 alpha, 500 max iternations, and sgd type of solver\n",
      "\taccuracy on valid: 81.6%\n",
      "\tprecision on valid: 0.0%\n",
      "\trecall on valid: 0.0%\n",
      "\tf1 on valid: 0.0%\n",
      "\tseconds to predict valid: 15.3 seconds\n",
      "\n",
      "neural net with (25, 25, 25) layers, logistic activation, 0.0001 alpha, 500 max iternations, and adam type of solver\n",
      "\taccuracy on valid: 82.1%\n",
      "\tprecision on valid: 61.0%\n",
      "\trecall on valid: 7.7%\n",
      "\tf1 on valid: 13.8%\n",
      "\tseconds to predict valid: 29.6 seconds\n"
     ]
    },
    {
     "name": "stderr",
     "output_type": "stream",
     "text": [
      "c:\\Users\\matth\\anaconda3\\lib\\site-packages\\sklearn\\metrics\\_classification.py:1248: UndefinedMetricWarning: Precision is ill-defined and being set to 0.0 due to no predicted samples. Use `zero_division` parameter to control this behavior.\n",
      "  _warn_prf(average, modifier, msg_start, len(result))\n"
     ]
    },
    {
     "name": "stdout",
     "output_type": "stream",
     "text": [
      "\n",
      "neural net with (25, 25, 25) layers, logistic activation, 0.001 alpha, 100 max iternations, and sgd type of solver\n",
      "\taccuracy on valid: 81.6%\n",
      "\tprecision on valid: 0.0%\n",
      "\trecall on valid: 0.0%\n",
      "\tf1 on valid: 0.0%\n",
      "\tseconds to predict valid: 14.7 seconds\n"
     ]
    },
    {
     "name": "stderr",
     "output_type": "stream",
     "text": [
      "c:\\Users\\matth\\anaconda3\\lib\\site-packages\\sklearn\\neural_network\\_multilayer_perceptron.py:614: ConvergenceWarning: Stochastic Optimizer: Maximum iterations (100) reached and the optimization hasn't converged yet.\n",
      "  warnings.warn(\n"
     ]
    },
    {
     "name": "stdout",
     "output_type": "stream",
     "text": [
      "\n",
      "neural net with (25, 25, 25) layers, logistic activation, 0.001 alpha, 100 max iternations, and adam type of solver\n",
      "\taccuracy on valid: 82.0%\n",
      "\tprecision on valid: 56.8%\n",
      "\trecall on valid: 10.0%\n",
      "\tf1 on valid: 17.0%\n",
      "\tseconds to predict valid: 23.1 seconds\n"
     ]
    },
    {
     "name": "stderr",
     "output_type": "stream",
     "text": [
      "c:\\Users\\matth\\anaconda3\\lib\\site-packages\\sklearn\\metrics\\_classification.py:1248: UndefinedMetricWarning: Precision is ill-defined and being set to 0.0 due to no predicted samples. Use `zero_division` parameter to control this behavior.\n",
      "  _warn_prf(average, modifier, msg_start, len(result))\n"
     ]
    },
    {
     "name": "stdout",
     "output_type": "stream",
     "text": [
      "\n",
      "neural net with (25, 25, 25) layers, logistic activation, 0.001 alpha, 200 max iternations, and sgd type of solver\n",
      "\taccuracy on valid: 81.6%\n",
      "\tprecision on valid: 0.0%\n",
      "\trecall on valid: 0.0%\n",
      "\tf1 on valid: 0.0%\n",
      "\tseconds to predict valid: 14.7 seconds\n",
      "\n",
      "neural net with (25, 25, 25) layers, logistic activation, 0.001 alpha, 200 max iternations, and adam type of solver\n",
      "\taccuracy on valid: 82.1%\n",
      "\tprecision on valid: 61.4%\n",
      "\trecall on valid: 7.7%\n",
      "\tf1 on valid: 13.8%\n",
      "\tseconds to predict valid: 29.1 seconds\n"
     ]
    },
    {
     "name": "stderr",
     "output_type": "stream",
     "text": [
      "c:\\Users\\matth\\anaconda3\\lib\\site-packages\\sklearn\\metrics\\_classification.py:1248: UndefinedMetricWarning: Precision is ill-defined and being set to 0.0 due to no predicted samples. Use `zero_division` parameter to control this behavior.\n",
      "  _warn_prf(average, modifier, msg_start, len(result))\n"
     ]
    },
    {
     "name": "stdout",
     "output_type": "stream",
     "text": [
      "\n",
      "neural net with (25, 25, 25) layers, logistic activation, 0.001 alpha, 500 max iternations, and sgd type of solver\n",
      "\taccuracy on valid: 81.6%\n",
      "\tprecision on valid: 0.0%\n",
      "\trecall on valid: 0.0%\n",
      "\tf1 on valid: 0.0%\n",
      "\tseconds to predict valid: 14.6 seconds\n",
      "\n",
      "neural net with (25, 25, 25) layers, logistic activation, 0.001 alpha, 500 max iternations, and adam type of solver\n",
      "\taccuracy on valid: 82.1%\n",
      "\tprecision on valid: 61.4%\n",
      "\trecall on valid: 7.7%\n",
      "\tf1 on valid: 13.8%\n",
      "\tseconds to predict valid: 28.7 seconds\n"
     ]
    },
    {
     "name": "stderr",
     "output_type": "stream",
     "text": [
      "c:\\Users\\matth\\anaconda3\\lib\\site-packages\\sklearn\\metrics\\_classification.py:1248: UndefinedMetricWarning: Precision is ill-defined and being set to 0.0 due to no predicted samples. Use `zero_division` parameter to control this behavior.\n",
      "  _warn_prf(average, modifier, msg_start, len(result))\n"
     ]
    },
    {
     "name": "stdout",
     "output_type": "stream",
     "text": [
      "\n",
      "neural net with (25, 25, 25) layers, logistic activation, 0.01 alpha, 100 max iternations, and sgd type of solver\n",
      "\taccuracy on valid: 81.6%\n",
      "\tprecision on valid: 0.0%\n",
      "\trecall on valid: 0.0%\n",
      "\tf1 on valid: 0.0%\n",
      "\tseconds to predict valid: 15.0 seconds\n"
     ]
    },
    {
     "name": "stderr",
     "output_type": "stream",
     "text": [
      "c:\\Users\\matth\\anaconda3\\lib\\site-packages\\sklearn\\neural_network\\_multilayer_perceptron.py:614: ConvergenceWarning: Stochastic Optimizer: Maximum iterations (100) reached and the optimization hasn't converged yet.\n",
      "  warnings.warn(\n"
     ]
    },
    {
     "name": "stdout",
     "output_type": "stream",
     "text": [
      "\n",
      "neural net with (25, 25, 25) layers, logistic activation, 0.01 alpha, 100 max iternations, and adam type of solver\n",
      "\taccuracy on valid: 82.0%\n",
      "\tprecision on valid: 56.1%\n",
      "\trecall on valid: 10.6%\n",
      "\tf1 on valid: 17.9%\n",
      "\tseconds to predict valid: 23.4 seconds\n"
     ]
    },
    {
     "name": "stderr",
     "output_type": "stream",
     "text": [
      "c:\\Users\\matth\\anaconda3\\lib\\site-packages\\sklearn\\metrics\\_classification.py:1248: UndefinedMetricWarning: Precision is ill-defined and being set to 0.0 due to no predicted samples. Use `zero_division` parameter to control this behavior.\n",
      "  _warn_prf(average, modifier, msg_start, len(result))\n"
     ]
    },
    {
     "name": "stdout",
     "output_type": "stream",
     "text": [
      "\n",
      "neural net with (25, 25, 25) layers, logistic activation, 0.01 alpha, 200 max iternations, and sgd type of solver\n",
      "\taccuracy on valid: 81.6%\n",
      "\tprecision on valid: 0.0%\n",
      "\trecall on valid: 0.0%\n",
      "\tf1 on valid: 0.0%\n",
      "\tseconds to predict valid: 14.3 seconds\n",
      "\n",
      "neural net with (25, 25, 25) layers, logistic activation, 0.01 alpha, 200 max iternations, and adam type of solver\n",
      "\taccuracy on valid: 82.1%\n",
      "\tprecision on valid: 59.4%\n",
      "\trecall on valid: 8.8%\n",
      "\tf1 on valid: 15.4%\n",
      "\tseconds to predict valid: 26.0 seconds\n"
     ]
    },
    {
     "name": "stderr",
     "output_type": "stream",
     "text": [
      "c:\\Users\\matth\\anaconda3\\lib\\site-packages\\sklearn\\metrics\\_classification.py:1248: UndefinedMetricWarning: Precision is ill-defined and being set to 0.0 due to no predicted samples. Use `zero_division` parameter to control this behavior.\n",
      "  _warn_prf(average, modifier, msg_start, len(result))\n"
     ]
    },
    {
     "name": "stdout",
     "output_type": "stream",
     "text": [
      "\n",
      "neural net with (25, 25, 25) layers, logistic activation, 0.01 alpha, 500 max iternations, and sgd type of solver\n",
      "\taccuracy on valid: 81.6%\n",
      "\tprecision on valid: 0.0%\n",
      "\trecall on valid: 0.0%\n",
      "\tf1 on valid: 0.0%\n",
      "\tseconds to predict valid: 15.1 seconds\n",
      "\n",
      "neural net with (25, 25, 25) layers, logistic activation, 0.01 alpha, 500 max iternations, and adam type of solver\n",
      "\taccuracy on valid: 82.1%\n",
      "\tprecision on valid: 59.4%\n",
      "\trecall on valid: 8.8%\n",
      "\tf1 on valid: 15.4%\n",
      "\tseconds to predict valid: 26.2 seconds\n"
     ]
    },
    {
     "name": "stderr",
     "output_type": "stream",
     "text": [
      "c:\\Users\\matth\\anaconda3\\lib\\site-packages\\sklearn\\neural_network\\_multilayer_perceptron.py:614: ConvergenceWarning: Stochastic Optimizer: Maximum iterations (100) reached and the optimization hasn't converged yet.\n",
      "  warnings.warn(\n"
     ]
    },
    {
     "name": "stdout",
     "output_type": "stream",
     "text": [
      "\n",
      "neural net with (10, 9, 8) layers, relu activation, 0.0001 alpha, 100 max iternations, and sgd type of solver\n",
      "\taccuracy on valid: 82.0%\n",
      "\tprecision on valid: 56.5%\n",
      "\trecall on valid: 10.0%\n",
      "\tf1 on valid: 17.0%\n",
      "\tseconds to predict valid: 12.2 seconds\n",
      "\n",
      "neural net with (10, 9, 8) layers, relu activation, 0.0001 alpha, 100 max iternations, and adam type of solver\n",
      "\taccuracy on valid: 82.1%\n",
      "\tprecision on valid: 58.0%\n",
      "\trecall on valid: 10.1%\n",
      "\tf1 on valid: 17.3%\n",
      "\tseconds to predict valid: 13.4 seconds\n"
     ]
    },
    {
     "name": "stderr",
     "output_type": "stream",
     "text": [
      "c:\\Users\\matth\\anaconda3\\lib\\site-packages\\sklearn\\neural_network\\_multilayer_perceptron.py:614: ConvergenceWarning: Stochastic Optimizer: Maximum iterations (200) reached and the optimization hasn't converged yet.\n",
      "  warnings.warn(\n"
     ]
    },
    {
     "name": "stdout",
     "output_type": "stream",
     "text": [
      "\n",
      "neural net with (10, 9, 8) layers, relu activation, 0.0001 alpha, 200 max iternations, and sgd type of solver\n",
      "\taccuracy on valid: 82.0%\n",
      "\tprecision on valid: 55.8%\n",
      "\trecall on valid: 10.3%\n",
      "\tf1 on valid: 17.4%\n",
      "\tseconds to predict valid: 23.8 seconds\n",
      "\n",
      "neural net with (10, 9, 8) layers, relu activation, 0.0001 alpha, 200 max iternations, and adam type of solver\n",
      "\taccuracy on valid: 82.1%\n",
      "\tprecision on valid: 58.0%\n",
      "\trecall on valid: 10.1%\n",
      "\tf1 on valid: 17.3%\n",
      "\tseconds to predict valid: 13.2 seconds\n",
      "\n",
      "neural net with (10, 9, 8) layers, relu activation, 0.0001 alpha, 500 max iternations, and sgd type of solver\n",
      "\taccuracy on valid: 82.0%\n",
      "\tprecision on valid: 55.8%\n",
      "\trecall on valid: 10.3%\n",
      "\tf1 on valid: 17.4%\n",
      "\tseconds to predict valid: 25.8 seconds\n",
      "\n",
      "neural net with (10, 9, 8) layers, relu activation, 0.0001 alpha, 500 max iternations, and adam type of solver\n",
      "\taccuracy on valid: 82.1%\n",
      "\tprecision on valid: 58.0%\n",
      "\trecall on valid: 10.1%\n",
      "\tf1 on valid: 17.3%\n",
      "\tseconds to predict valid: 13.2 seconds\n"
     ]
    },
    {
     "name": "stderr",
     "output_type": "stream",
     "text": [
      "c:\\Users\\matth\\anaconda3\\lib\\site-packages\\sklearn\\neural_network\\_multilayer_perceptron.py:614: ConvergenceWarning: Stochastic Optimizer: Maximum iterations (100) reached and the optimization hasn't converged yet.\n",
      "  warnings.warn(\n"
     ]
    },
    {
     "name": "stdout",
     "output_type": "stream",
     "text": [
      "\n",
      "neural net with (10, 9, 8) layers, relu activation, 0.001 alpha, 100 max iternations, and sgd type of solver\n",
      "\taccuracy on valid: 82.0%\n",
      "\tprecision on valid: 57.0%\n",
      "\trecall on valid: 10.1%\n",
      "\tf1 on valid: 17.1%\n",
      "\tseconds to predict valid: 11.8 seconds\n"
     ]
    },
    {
     "name": "stderr",
     "output_type": "stream",
     "text": [
      "c:\\Users\\matth\\anaconda3\\lib\\site-packages\\sklearn\\neural_network\\_multilayer_perceptron.py:614: ConvergenceWarning: Stochastic Optimizer: Maximum iterations (100) reached and the optimization hasn't converged yet.\n",
      "  warnings.warn(\n"
     ]
    },
    {
     "name": "stdout",
     "output_type": "stream",
     "text": [
      "\n",
      "neural net with (10, 9, 8) layers, relu activation, 0.001 alpha, 100 max iternations, and adam type of solver\n",
      "\taccuracy on valid: 82.1%\n",
      "\tprecision on valid: 58.2%\n",
      "\trecall on valid: 10.0%\n",
      "\tf1 on valid: 17.0%\n",
      "\tseconds to predict valid: 13.4 seconds\n"
     ]
    },
    {
     "name": "stderr",
     "output_type": "stream",
     "text": [
      "c:\\Users\\matth\\anaconda3\\lib\\site-packages\\sklearn\\neural_network\\_multilayer_perceptron.py:614: ConvergenceWarning: Stochastic Optimizer: Maximum iterations (200) reached and the optimization hasn't converged yet.\n",
      "  warnings.warn(\n"
     ]
    },
    {
     "name": "stdout",
     "output_type": "stream",
     "text": [
      "\n",
      "neural net with (10, 9, 8) layers, relu activation, 0.001 alpha, 200 max iternations, and sgd type of solver\n",
      "\taccuracy on valid: 82.0%\n",
      "\tprecision on valid: 55.9%\n",
      "\trecall on valid: 10.2%\n",
      "\tf1 on valid: 17.3%\n",
      "\tseconds to predict valid: 23.4 seconds\n",
      "\n",
      "neural net with (10, 9, 8) layers, relu activation, 0.001 alpha, 200 max iternations, and adam type of solver\n",
      "\taccuracy on valid: 82.0%\n",
      "\tprecision on valid: 56.2%\n",
      "\trecall on valid: 11.2%\n",
      "\tf1 on valid: 18.7%\n",
      "\tseconds to predict valid: 21.5 seconds\n",
      "\n",
      "neural net with (10, 9, 8) layers, relu activation, 0.001 alpha, 500 max iternations, and sgd type of solver\n",
      "\taccuracy on valid: 82.0%\n",
      "\tprecision on valid: 55.9%\n",
      "\trecall on valid: 10.2%\n",
      "\tf1 on valid: 17.3%\n",
      "\tseconds to predict valid: 24.8 seconds\n",
      "\n",
      "neural net with (10, 9, 8) layers, relu activation, 0.001 alpha, 500 max iternations, and adam type of solver\n",
      "\taccuracy on valid: 82.0%\n",
      "\tprecision on valid: 56.2%\n",
      "\trecall on valid: 11.2%\n",
      "\tf1 on valid: 18.7%\n",
      "\tseconds to predict valid: 20.6 seconds\n"
     ]
    },
    {
     "name": "stderr",
     "output_type": "stream",
     "text": [
      "c:\\Users\\matth\\anaconda3\\lib\\site-packages\\sklearn\\neural_network\\_multilayer_perceptron.py:614: ConvergenceWarning: Stochastic Optimizer: Maximum iterations (100) reached and the optimization hasn't converged yet.\n",
      "  warnings.warn(\n"
     ]
    },
    {
     "name": "stdout",
     "output_type": "stream",
     "text": [
      "\n",
      "neural net with (10, 9, 8) layers, relu activation, 0.01 alpha, 100 max iternations, and sgd type of solver\n",
      "\taccuracy on valid: 82.0%\n",
      "\tprecision on valid: 56.2%\n",
      "\trecall on valid: 10.1%\n",
      "\tf1 on valid: 17.2%\n",
      "\tseconds to predict valid: 11.3 seconds\n",
      "\n",
      "neural net with (10, 9, 8) layers, relu activation, 0.01 alpha, 100 max iternations, and adam type of solver\n",
      "\taccuracy on valid: 82.2%\n",
      "\tprecision on valid: 60.2%\n",
      "\trecall on valid: 9.5%\n",
      "\tf1 on valid: 16.4%\n",
      "\tseconds to predict valid: 13.6 seconds\n"
     ]
    },
    {
     "name": "stderr",
     "output_type": "stream",
     "text": [
      "c:\\Users\\matth\\anaconda3\\lib\\site-packages\\sklearn\\neural_network\\_multilayer_perceptron.py:614: ConvergenceWarning: Stochastic Optimizer: Maximum iterations (200) reached and the optimization hasn't converged yet.\n",
      "  warnings.warn(\n"
     ]
    },
    {
     "name": "stdout",
     "output_type": "stream",
     "text": [
      "\n",
      "neural net with (10, 9, 8) layers, relu activation, 0.01 alpha, 200 max iternations, and sgd type of solver\n",
      "\taccuracy on valid: 82.0%\n",
      "\tprecision on valid: 56.4%\n",
      "\trecall on valid: 10.6%\n",
      "\tf1 on valid: 17.8%\n",
      "\tseconds to predict valid: 24.2 seconds\n",
      "\n",
      "neural net with (10, 9, 8) layers, relu activation, 0.01 alpha, 200 max iternations, and adam type of solver\n",
      "\taccuracy on valid: 82.2%\n",
      "\tprecision on valid: 60.2%\n",
      "\trecall on valid: 9.5%\n",
      "\tf1 on valid: 16.4%\n",
      "\tseconds to predict valid: 13.4 seconds\n",
      "\n",
      "neural net with (10, 9, 8) layers, relu activation, 0.01 alpha, 500 max iternations, and sgd type of solver\n",
      "\taccuracy on valid: 82.0%\n",
      "\tprecision on valid: 56.6%\n",
      "\trecall on valid: 10.6%\n",
      "\tf1 on valid: 17.8%\n",
      "\tseconds to predict valid: 25.8 seconds\n",
      "\n",
      "neural net with (10, 9, 8) layers, relu activation, 0.01 alpha, 500 max iternations, and adam type of solver\n",
      "\taccuracy on valid: 82.2%\n",
      "\tprecision on valid: 60.2%\n",
      "\trecall on valid: 9.5%\n",
      "\tf1 on valid: 16.4%\n",
      "\tseconds to predict valid: 13.4 seconds\n"
     ]
    },
    {
     "name": "stderr",
     "output_type": "stream",
     "text": [
      "c:\\Users\\matth\\anaconda3\\lib\\site-packages\\sklearn\\neural_network\\_multilayer_perceptron.py:614: ConvergenceWarning: Stochastic Optimizer: Maximum iterations (100) reached and the optimization hasn't converged yet.\n",
      "  warnings.warn(\n"
     ]
    },
    {
     "name": "stdout",
     "output_type": "stream",
     "text": [
      "\n",
      "neural net with (10, 9, 8) layers, tanh activation, 0.0001 alpha, 100 max iternations, and sgd type of solver\n",
      "\taccuracy on valid: 81.9%\n",
      "\tprecision on valid: 57.2%\n",
      "\trecall on valid: 7.8%\n",
      "\tf1 on valid: 13.8%\n",
      "\tseconds to predict valid: 13.9 seconds\n"
     ]
    },
    {
     "name": "stderr",
     "output_type": "stream",
     "text": [
      "c:\\Users\\matth\\anaconda3\\lib\\site-packages\\sklearn\\neural_network\\_multilayer_perceptron.py:614: ConvergenceWarning: Stochastic Optimizer: Maximum iterations (100) reached and the optimization hasn't converged yet.\n",
      "  warnings.warn(\n"
     ]
    },
    {
     "name": "stdout",
     "output_type": "stream",
     "text": [
      "\n",
      "neural net with (10, 9, 8) layers, tanh activation, 0.0001 alpha, 100 max iternations, and adam type of solver\n",
      "\taccuracy on valid: 82.0%\n",
      "\tprecision on valid: 58.4%\n",
      "\trecall on valid: 7.2%\n",
      "\tf1 on valid: 12.8%\n",
      "\tseconds to predict valid: 16.1 seconds\n"
     ]
    },
    {
     "name": "stderr",
     "output_type": "stream",
     "text": [
      "c:\\Users\\matth\\anaconda3\\lib\\site-packages\\sklearn\\neural_network\\_multilayer_perceptron.py:614: ConvergenceWarning: Stochastic Optimizer: Maximum iterations (200) reached and the optimization hasn't converged yet.\n",
      "  warnings.warn(\n"
     ]
    },
    {
     "name": "stdout",
     "output_type": "stream",
     "text": [
      "\n",
      "neural net with (10, 9, 8) layers, tanh activation, 0.0001 alpha, 200 max iternations, and sgd type of solver\n",
      "\taccuracy on valid: 82.0%\n",
      "\tprecision on valid: 58.4%\n",
      "\trecall on valid: 8.6%\n",
      "\tf1 on valid: 15.0%\n",
      "\tseconds to predict valid: 27.8 seconds\n",
      "\n",
      "neural net with (10, 9, 8) layers, tanh activation, 0.0001 alpha, 200 max iternations, and adam type of solver\n",
      "\taccuracy on valid: 82.0%\n",
      "\tprecision on valid: 58.0%\n",
      "\trecall on valid: 7.5%\n",
      "\tf1 on valid: 13.3%\n",
      "\tseconds to predict valid: 14.1 seconds\n",
      "\n",
      "neural net with (10, 9, 8) layers, tanh activation, 0.0001 alpha, 500 max iternations, and sgd type of solver\n",
      "\taccuracy on valid: 82.0%\n",
      "\tprecision on valid: 58.4%\n",
      "\trecall on valid: 8.6%\n",
      "\tf1 on valid: 15.0%\n",
      "\tseconds to predict valid: 26.2 seconds\n",
      "\n",
      "neural net with (10, 9, 8) layers, tanh activation, 0.0001 alpha, 500 max iternations, and adam type of solver\n",
      "\taccuracy on valid: 82.0%\n",
      "\tprecision on valid: 58.0%\n",
      "\trecall on valid: 7.5%\n",
      "\tf1 on valid: 13.3%\n",
      "\tseconds to predict valid: 14.9 seconds\n"
     ]
    },
    {
     "name": "stderr",
     "output_type": "stream",
     "text": [
      "c:\\Users\\matth\\anaconda3\\lib\\site-packages\\sklearn\\neural_network\\_multilayer_perceptron.py:614: ConvergenceWarning: Stochastic Optimizer: Maximum iterations (100) reached and the optimization hasn't converged yet.\n",
      "  warnings.warn(\n"
     ]
    },
    {
     "name": "stdout",
     "output_type": "stream",
     "text": [
      "\n",
      "neural net with (10, 9, 8) layers, tanh activation, 0.001 alpha, 100 max iternations, and sgd type of solver\n",
      "\taccuracy on valid: 81.9%\n",
      "\tprecision on valid: 57.2%\n",
      "\trecall on valid: 7.8%\n",
      "\tf1 on valid: 13.8%\n",
      "\tseconds to predict valid: 13.2 seconds\n"
     ]
    },
    {
     "name": "stderr",
     "output_type": "stream",
     "text": [
      "c:\\Users\\matth\\anaconda3\\lib\\site-packages\\sklearn\\neural_network\\_multilayer_perceptron.py:614: ConvergenceWarning: Stochastic Optimizer: Maximum iterations (100) reached and the optimization hasn't converged yet.\n",
      "  warnings.warn(\n"
     ]
    },
    {
     "name": "stdout",
     "output_type": "stream",
     "text": [
      "\n",
      "neural net with (10, 9, 8) layers, tanh activation, 0.001 alpha, 100 max iternations, and adam type of solver\n",
      "\taccuracy on valid: 82.0%\n",
      "\tprecision on valid: 58.9%\n",
      "\trecall on valid: 7.1%\n",
      "\tf1 on valid: 12.7%\n",
      "\tseconds to predict valid: 14.7 seconds\n"
     ]
    },
    {
     "name": "stderr",
     "output_type": "stream",
     "text": [
      "c:\\Users\\matth\\anaconda3\\lib\\site-packages\\sklearn\\neural_network\\_multilayer_perceptron.py:614: ConvergenceWarning: Stochastic Optimizer: Maximum iterations (200) reached and the optimization hasn't converged yet.\n",
      "  warnings.warn(\n"
     ]
    },
    {
     "name": "stdout",
     "output_type": "stream",
     "text": [
      "\n",
      "neural net with (10, 9, 8) layers, tanh activation, 0.001 alpha, 200 max iternations, and sgd type of solver\n",
      "\taccuracy on valid: 82.0%\n",
      "\tprecision on valid: 58.4%\n",
      "\trecall on valid: 8.6%\n",
      "\tf1 on valid: 15.0%\n",
      "\tseconds to predict valid: 26.2 seconds\n",
      "\n",
      "neural net with (10, 9, 8) layers, tanh activation, 0.001 alpha, 200 max iternations, and adam type of solver\n",
      "\taccuracy on valid: 82.0%\n",
      "\tprecision on valid: 58.6%\n",
      "\trecall on valid: 7.6%\n",
      "\tf1 on valid: 13.4%\n",
      "\tseconds to predict valid: 14.9 seconds\n",
      "\n",
      "neural net with (10, 9, 8) layers, tanh activation, 0.001 alpha, 500 max iternations, and sgd type of solver\n",
      "\taccuracy on valid: 82.0%\n",
      "\tprecision on valid: 58.4%\n",
      "\trecall on valid: 8.6%\n",
      "\tf1 on valid: 15.0%\n",
      "\tseconds to predict valid: 28.8 seconds\n",
      "\n",
      "neural net with (10, 9, 8) layers, tanh activation, 0.001 alpha, 500 max iternations, and adam type of solver\n",
      "\taccuracy on valid: 82.0%\n",
      "\tprecision on valid: 58.6%\n",
      "\trecall on valid: 7.6%\n",
      "\tf1 on valid: 13.4%\n",
      "\tseconds to predict valid: 14.8 seconds\n"
     ]
    },
    {
     "name": "stderr",
     "output_type": "stream",
     "text": [
      "c:\\Users\\matth\\anaconda3\\lib\\site-packages\\sklearn\\neural_network\\_multilayer_perceptron.py:614: ConvergenceWarning: Stochastic Optimizer: Maximum iterations (100) reached and the optimization hasn't converged yet.\n",
      "  warnings.warn(\n"
     ]
    },
    {
     "name": "stdout",
     "output_type": "stream",
     "text": [
      "\n",
      "neural net with (10, 9, 8) layers, tanh activation, 0.01 alpha, 100 max iternations, and sgd type of solver\n",
      "\taccuracy on valid: 82.0%\n",
      "\tprecision on valid: 57.8%\n",
      "\trecall on valid: 8.2%\n",
      "\tf1 on valid: 14.4%\n",
      "\tseconds to predict valid: 13.0 seconds\n"
     ]
    },
    {
     "name": "stderr",
     "output_type": "stream",
     "text": [
      "c:\\Users\\matth\\anaconda3\\lib\\site-packages\\sklearn\\neural_network\\_multilayer_perceptron.py:614: ConvergenceWarning: Stochastic Optimizer: Maximum iterations (100) reached and the optimization hasn't converged yet.\n",
      "  warnings.warn(\n"
     ]
    },
    {
     "name": "stdout",
     "output_type": "stream",
     "text": [
      "\n",
      "neural net with (10, 9, 8) layers, tanh activation, 0.01 alpha, 100 max iternations, and adam type of solver\n",
      "\taccuracy on valid: 81.9%\n",
      "\tprecision on valid: 57.8%\n",
      "\trecall on valid: 7.0%\n",
      "\tf1 on valid: 12.5%\n",
      "\tseconds to predict valid: 14.5 seconds\n"
     ]
    },
    {
     "name": "stderr",
     "output_type": "stream",
     "text": [
      "c:\\Users\\matth\\anaconda3\\lib\\site-packages\\sklearn\\neural_network\\_multilayer_perceptron.py:614: ConvergenceWarning: Stochastic Optimizer: Maximum iterations (200) reached and the optimization hasn't converged yet.\n",
      "  warnings.warn(\n"
     ]
    },
    {
     "name": "stdout",
     "output_type": "stream",
     "text": [
      "\n",
      "neural net with (10, 9, 8) layers, tanh activation, 0.01 alpha, 200 max iternations, and sgd type of solver\n",
      "\taccuracy on valid: 82.0%\n",
      "\tprecision on valid: 58.1%\n",
      "\trecall on valid: 8.6%\n",
      "\tf1 on valid: 14.9%\n",
      "\tseconds to predict valid: 26.1 seconds\n",
      "\n",
      "neural net with (10, 9, 8) layers, tanh activation, 0.01 alpha, 200 max iternations, and adam type of solver\n",
      "\taccuracy on valid: 82.0%\n",
      "\tprecision on valid: 58.4%\n",
      "\trecall on valid: 7.2%\n",
      "\tf1 on valid: 12.8%\n",
      "\tseconds to predict valid: 13.1 seconds\n",
      "\n",
      "neural net with (10, 9, 8) layers, tanh activation, 0.01 alpha, 500 max iternations, and sgd type of solver\n",
      "\taccuracy on valid: 82.0%\n",
      "\tprecision on valid: 58.1%\n",
      "\trecall on valid: 8.6%\n",
      "\tf1 on valid: 14.9%\n",
      "\tseconds to predict valid: 24.5 seconds\n",
      "\n",
      "neural net with (10, 9, 8) layers, tanh activation, 0.01 alpha, 500 max iternations, and adam type of solver\n",
      "\taccuracy on valid: 82.0%\n",
      "\tprecision on valid: 58.4%\n",
      "\trecall on valid: 7.2%\n",
      "\tf1 on valid: 12.8%\n",
      "\tseconds to predict valid: 12.9 seconds\n"
     ]
    },
    {
     "name": "stderr",
     "output_type": "stream",
     "text": [
      "c:\\Users\\matth\\anaconda3\\lib\\site-packages\\sklearn\\metrics\\_classification.py:1248: UndefinedMetricWarning: Precision is ill-defined and being set to 0.0 due to no predicted samples. Use `zero_division` parameter to control this behavior.\n",
      "  _warn_prf(average, modifier, msg_start, len(result))\n"
     ]
    },
    {
     "name": "stdout",
     "output_type": "stream",
     "text": [
      "\n",
      "neural net with (10, 9, 8) layers, logistic activation, 0.0001 alpha, 100 max iternations, and sgd type of solver\n",
      "\taccuracy on valid: 81.6%\n",
      "\tprecision on valid: 0.0%\n",
      "\trecall on valid: 0.0%\n",
      "\tf1 on valid: 0.0%\n",
      "\tseconds to predict valid: 7.0 seconds\n"
     ]
    },
    {
     "name": "stderr",
     "output_type": "stream",
     "text": [
      "c:\\Users\\matth\\anaconda3\\lib\\site-packages\\sklearn\\neural_network\\_multilayer_perceptron.py:614: ConvergenceWarning: Stochastic Optimizer: Maximum iterations (100) reached and the optimization hasn't converged yet.\n",
      "  warnings.warn(\n"
     ]
    },
    {
     "name": "stdout",
     "output_type": "stream",
     "text": [
      "\n",
      "neural net with (10, 9, 8) layers, logistic activation, 0.0001 alpha, 100 max iternations, and adam type of solver\n",
      "\taccuracy on valid: 82.2%\n",
      "\tprecision on valid: 59.9%\n",
      "\trecall on valid: 10.0%\n",
      "\tf1 on valid: 17.1%\n",
      "\tseconds to predict valid: 11.2 seconds\n"
     ]
    },
    {
     "name": "stderr",
     "output_type": "stream",
     "text": [
      "c:\\Users\\matth\\anaconda3\\lib\\site-packages\\sklearn\\metrics\\_classification.py:1248: UndefinedMetricWarning: Precision is ill-defined and being set to 0.0 due to no predicted samples. Use `zero_division` parameter to control this behavior.\n",
      "  _warn_prf(average, modifier, msg_start, len(result))\n"
     ]
    },
    {
     "name": "stdout",
     "output_type": "stream",
     "text": [
      "\n",
      "neural net with (10, 9, 8) layers, logistic activation, 0.0001 alpha, 200 max iternations, and sgd type of solver\n",
      "\taccuracy on valid: 81.6%\n",
      "\tprecision on valid: 0.0%\n",
      "\trecall on valid: 0.0%\n",
      "\tf1 on valid: 0.0%\n",
      "\tseconds to predict valid: 7.1 seconds\n",
      "\n",
      "neural net with (10, 9, 8) layers, logistic activation, 0.0001 alpha, 200 max iternations, and adam type of solver\n",
      "\taccuracy on valid: 82.1%\n",
      "\tprecision on valid: 60.9%\n",
      "\trecall on valid: 8.5%\n",
      "\tf1 on valid: 14.9%\n",
      "\tseconds to predict valid: 14.2 seconds\n"
     ]
    },
    {
     "name": "stderr",
     "output_type": "stream",
     "text": [
      "c:\\Users\\matth\\anaconda3\\lib\\site-packages\\sklearn\\metrics\\_classification.py:1248: UndefinedMetricWarning: Precision is ill-defined and being set to 0.0 due to no predicted samples. Use `zero_division` parameter to control this behavior.\n",
      "  _warn_prf(average, modifier, msg_start, len(result))\n"
     ]
    },
    {
     "name": "stdout",
     "output_type": "stream",
     "text": [
      "\n",
      "neural net with (10, 9, 8) layers, logistic activation, 0.0001 alpha, 500 max iternations, and sgd type of solver\n",
      "\taccuracy on valid: 81.6%\n",
      "\tprecision on valid: 0.0%\n",
      "\trecall on valid: 0.0%\n",
      "\tf1 on valid: 0.0%\n",
      "\tseconds to predict valid: 7.0 seconds\n",
      "\n",
      "neural net with (10, 9, 8) layers, logistic activation, 0.0001 alpha, 500 max iternations, and adam type of solver\n",
      "\taccuracy on valid: 82.1%\n",
      "\tprecision on valid: 60.9%\n",
      "\trecall on valid: 8.5%\n",
      "\tf1 on valid: 14.9%\n",
      "\tseconds to predict valid: 14.1 seconds\n"
     ]
    },
    {
     "name": "stderr",
     "output_type": "stream",
     "text": [
      "c:\\Users\\matth\\anaconda3\\lib\\site-packages\\sklearn\\metrics\\_classification.py:1248: UndefinedMetricWarning: Precision is ill-defined and being set to 0.0 due to no predicted samples. Use `zero_division` parameter to control this behavior.\n",
      "  _warn_prf(average, modifier, msg_start, len(result))\n"
     ]
    },
    {
     "name": "stdout",
     "output_type": "stream",
     "text": [
      "\n",
      "neural net with (10, 9, 8) layers, logistic activation, 0.001 alpha, 100 max iternations, and sgd type of solver\n",
      "\taccuracy on valid: 81.6%\n",
      "\tprecision on valid: 0.0%\n",
      "\trecall on valid: 0.0%\n",
      "\tf1 on valid: 0.0%\n",
      "\tseconds to predict valid: 7.1 seconds\n",
      "\n",
      "neural net with (10, 9, 8) layers, logistic activation, 0.001 alpha, 100 max iternations, and adam type of solver\n",
      "\taccuracy on valid: 82.1%\n",
      "\tprecision on valid: 61.3%\n",
      "\trecall on valid: 7.8%\n",
      "\tf1 on valid: 13.9%\n",
      "\tseconds to predict valid: 9.0 seconds\n"
     ]
    },
    {
     "name": "stderr",
     "output_type": "stream",
     "text": [
      "c:\\Users\\matth\\anaconda3\\lib\\site-packages\\sklearn\\metrics\\_classification.py:1248: UndefinedMetricWarning: Precision is ill-defined and being set to 0.0 due to no predicted samples. Use `zero_division` parameter to control this behavior.\n",
      "  _warn_prf(average, modifier, msg_start, len(result))\n"
     ]
    },
    {
     "name": "stdout",
     "output_type": "stream",
     "text": [
      "\n",
      "neural net with (10, 9, 8) layers, logistic activation, 0.001 alpha, 200 max iternations, and sgd type of solver\n",
      "\taccuracy on valid: 81.6%\n",
      "\tprecision on valid: 0.0%\n",
      "\trecall on valid: 0.0%\n",
      "\tf1 on valid: 0.0%\n",
      "\tseconds to predict valid: 6.9 seconds\n",
      "\n",
      "neural net with (10, 9, 8) layers, logistic activation, 0.001 alpha, 200 max iternations, and adam type of solver\n",
      "\taccuracy on valid: 82.1%\n",
      "\tprecision on valid: 61.3%\n",
      "\trecall on valid: 7.8%\n",
      "\tf1 on valid: 13.9%\n",
      "\tseconds to predict valid: 8.9 seconds\n"
     ]
    },
    {
     "name": "stderr",
     "output_type": "stream",
     "text": [
      "c:\\Users\\matth\\anaconda3\\lib\\site-packages\\sklearn\\metrics\\_classification.py:1248: UndefinedMetricWarning: Precision is ill-defined and being set to 0.0 due to no predicted samples. Use `zero_division` parameter to control this behavior.\n",
      "  _warn_prf(average, modifier, msg_start, len(result))\n"
     ]
    },
    {
     "name": "stdout",
     "output_type": "stream",
     "text": [
      "\n",
      "neural net with (10, 9, 8) layers, logistic activation, 0.001 alpha, 500 max iternations, and sgd type of solver\n",
      "\taccuracy on valid: 81.6%\n",
      "\tprecision on valid: 0.0%\n",
      "\trecall on valid: 0.0%\n",
      "\tf1 on valid: 0.0%\n",
      "\tseconds to predict valid: 6.9 seconds\n",
      "\n",
      "neural net with (10, 9, 8) layers, logistic activation, 0.001 alpha, 500 max iternations, and adam type of solver\n",
      "\taccuracy on valid: 82.1%\n",
      "\tprecision on valid: 61.3%\n",
      "\trecall on valid: 7.8%\n",
      "\tf1 on valid: 13.9%\n",
      "\tseconds to predict valid: 8.8 seconds\n"
     ]
    },
    {
     "name": "stderr",
     "output_type": "stream",
     "text": [
      "c:\\Users\\matth\\anaconda3\\lib\\site-packages\\sklearn\\metrics\\_classification.py:1248: UndefinedMetricWarning: Precision is ill-defined and being set to 0.0 due to no predicted samples. Use `zero_division` parameter to control this behavior.\n",
      "  _warn_prf(average, modifier, msg_start, len(result))\n"
     ]
    },
    {
     "name": "stdout",
     "output_type": "stream",
     "text": [
      "\n",
      "neural net with (10, 9, 8) layers, logistic activation, 0.01 alpha, 100 max iternations, and sgd type of solver\n",
      "\taccuracy on valid: 81.6%\n",
      "\tprecision on valid: 0.0%\n",
      "\trecall on valid: 0.0%\n",
      "\tf1 on valid: 0.0%\n",
      "\tseconds to predict valid: 6.9 seconds\n"
     ]
    },
    {
     "name": "stderr",
     "output_type": "stream",
     "text": [
      "c:\\Users\\matth\\anaconda3\\lib\\site-packages\\sklearn\\neural_network\\_multilayer_perceptron.py:614: ConvergenceWarning: Stochastic Optimizer: Maximum iterations (100) reached and the optimization hasn't converged yet.\n",
      "  warnings.warn(\n"
     ]
    },
    {
     "name": "stdout",
     "output_type": "stream",
     "text": [
      "\n",
      "neural net with (10, 9, 8) layers, logistic activation, 0.01 alpha, 100 max iternations, and adam type of solver\n",
      "\taccuracy on valid: 82.0%\n",
      "\tprecision on valid: 57.9%\n",
      "\trecall on valid: 9.1%\n",
      "\tf1 on valid: 15.7%\n",
      "\tseconds to predict valid: 11.0 seconds\n"
     ]
    },
    {
     "name": "stderr",
     "output_type": "stream",
     "text": [
      "c:\\Users\\matth\\anaconda3\\lib\\site-packages\\sklearn\\metrics\\_classification.py:1248: UndefinedMetricWarning: Precision is ill-defined and being set to 0.0 due to no predicted samples. Use `zero_division` parameter to control this behavior.\n",
      "  _warn_prf(average, modifier, msg_start, len(result))\n"
     ]
    },
    {
     "name": "stdout",
     "output_type": "stream",
     "text": [
      "\n",
      "neural net with (10, 9, 8) layers, logistic activation, 0.01 alpha, 200 max iternations, and sgd type of solver\n",
      "\taccuracy on valid: 81.6%\n",
      "\tprecision on valid: 0.0%\n",
      "\trecall on valid: 0.0%\n",
      "\tf1 on valid: 0.0%\n",
      "\tseconds to predict valid: 6.9 seconds\n",
      "\n",
      "neural net with (10, 9, 8) layers, logistic activation, 0.01 alpha, 200 max iternations, and adam type of solver\n",
      "\taccuracy on valid: 82.1%\n",
      "\tprecision on valid: 60.6%\n",
      "\trecall on valid: 8.5%\n",
      "\tf1 on valid: 14.9%\n",
      "\tseconds to predict valid: 11.3 seconds\n"
     ]
    },
    {
     "name": "stderr",
     "output_type": "stream",
     "text": [
      "c:\\Users\\matth\\anaconda3\\lib\\site-packages\\sklearn\\metrics\\_classification.py:1248: UndefinedMetricWarning: Precision is ill-defined and being set to 0.0 due to no predicted samples. Use `zero_division` parameter to control this behavior.\n",
      "  _warn_prf(average, modifier, msg_start, len(result))\n"
     ]
    },
    {
     "name": "stdout",
     "output_type": "stream",
     "text": [
      "\n",
      "neural net with (10, 9, 8) layers, logistic activation, 0.01 alpha, 500 max iternations, and sgd type of solver\n",
      "\taccuracy on valid: 81.6%\n",
      "\tprecision on valid: 0.0%\n",
      "\trecall on valid: 0.0%\n",
      "\tf1 on valid: 0.0%\n",
      "\tseconds to predict valid: 7.0 seconds\n",
      "\n",
      "neural net with (10, 9, 8) layers, logistic activation, 0.01 alpha, 500 max iternations, and adam type of solver\n",
      "\taccuracy on valid: 82.1%\n",
      "\tprecision on valid: 60.6%\n",
      "\trecall on valid: 8.5%\n",
      "\tf1 on valid: 14.9%\n",
      "\tseconds to predict valid: 11.6 seconds\n"
     ]
    },
    {
     "name": "stderr",
     "output_type": "stream",
     "text": [
      "c:\\Users\\matth\\anaconda3\\lib\\site-packages\\sklearn\\neural_network\\_multilayer_perceptron.py:614: ConvergenceWarning: Stochastic Optimizer: Maximum iterations (100) reached and the optimization hasn't converged yet.\n",
      "  warnings.warn(\n"
     ]
    },
    {
     "name": "stdout",
     "output_type": "stream",
     "text": [
      "\n",
      "neural net with (10, 5) layers, relu activation, 0.0001 alpha, 100 max iternations, and sgd type of solver\n",
      "\taccuracy on valid: 81.8%\n",
      "\tprecision on valid: 62.5%\n",
      "\trecall on valid: 2.9%\n",
      "\tf1 on valid: 5.5%\n",
      "\tseconds to predict valid: 8.6 seconds\n",
      "\n",
      "neural net with (10, 5) layers, relu activation, 0.0001 alpha, 100 max iternations, and adam type of solver\n",
      "\taccuracy on valid: 81.9%\n",
      "\tprecision on valid: 59.8%\n",
      "\trecall on valid: 5.3%\n",
      "\tf1 on valid: 9.7%\n",
      "\tseconds to predict valid: 8.3 seconds\n"
     ]
    },
    {
     "name": "stderr",
     "output_type": "stream",
     "text": [
      "c:\\Users\\matth\\anaconda3\\lib\\site-packages\\sklearn\\neural_network\\_multilayer_perceptron.py:614: ConvergenceWarning: Stochastic Optimizer: Maximum iterations (200) reached and the optimization hasn't converged yet.\n",
      "  warnings.warn(\n"
     ]
    },
    {
     "name": "stdout",
     "output_type": "stream",
     "text": [
      "\n",
      "neural net with (10, 5) layers, relu activation, 0.0001 alpha, 200 max iternations, and sgd type of solver\n",
      "\taccuracy on valid: 82.0%\n",
      "\tprecision on valid: 55.7%\n",
      "\trecall on valid: 10.1%\n",
      "\tf1 on valid: 17.2%\n",
      "\tseconds to predict valid: 19.2 seconds\n",
      "\n",
      "neural net with (10, 5) layers, relu activation, 0.0001 alpha, 200 max iternations, and adam type of solver\n",
      "\taccuracy on valid: 81.9%\n",
      "\tprecision on valid: 59.8%\n",
      "\trecall on valid: 5.3%\n",
      "\tf1 on valid: 9.7%\n",
      "\tseconds to predict valid: 8.9 seconds\n",
      "\n",
      "neural net with (10, 5) layers, relu activation, 0.0001 alpha, 500 max iternations, and sgd type of solver\n",
      "\taccuracy on valid: 82.0%\n",
      "\tprecision on valid: 55.7%\n",
      "\trecall on valid: 10.1%\n",
      "\tf1 on valid: 17.2%\n",
      "\tseconds to predict valid: 20.3 seconds\n",
      "\n",
      "neural net with (10, 5) layers, relu activation, 0.0001 alpha, 500 max iternations, and adam type of solver\n",
      "\taccuracy on valid: 81.9%\n",
      "\tprecision on valid: 59.8%\n",
      "\trecall on valid: 5.3%\n",
      "\tf1 on valid: 9.7%\n",
      "\tseconds to predict valid: 8.2 seconds\n"
     ]
    },
    {
     "name": "stderr",
     "output_type": "stream",
     "text": [
      "c:\\Users\\matth\\anaconda3\\lib\\site-packages\\sklearn\\neural_network\\_multilayer_perceptron.py:614: ConvergenceWarning: Stochastic Optimizer: Maximum iterations (100) reached and the optimization hasn't converged yet.\n",
      "  warnings.warn(\n"
     ]
    },
    {
     "name": "stdout",
     "output_type": "stream",
     "text": [
      "\n",
      "neural net with (10, 5) layers, relu activation, 0.001 alpha, 100 max iternations, and sgd type of solver\n",
      "\taccuracy on valid: 81.8%\n",
      "\tprecision on valid: 62.5%\n",
      "\trecall on valid: 2.9%\n",
      "\tf1 on valid: 5.5%\n",
      "\tseconds to predict valid: 8.5 seconds\n",
      "\n",
      "neural net with (10, 5) layers, relu activation, 0.001 alpha, 100 max iternations, and adam type of solver\n",
      "\taccuracy on valid: 81.9%\n",
      "\tprecision on valid: 60.4%\n",
      "\trecall on valid: 5.3%\n",
      "\tf1 on valid: 9.7%\n",
      "\tseconds to predict valid: 7.7 seconds\n"
     ]
    },
    {
     "name": "stderr",
     "output_type": "stream",
     "text": [
      "c:\\Users\\matth\\anaconda3\\lib\\site-packages\\sklearn\\neural_network\\_multilayer_perceptron.py:614: ConvergenceWarning: Stochastic Optimizer: Maximum iterations (200) reached and the optimization hasn't converged yet.\n",
      "  warnings.warn(\n"
     ]
    },
    {
     "name": "stdout",
     "output_type": "stream",
     "text": [
      "\n",
      "neural net with (10, 5) layers, relu activation, 0.001 alpha, 200 max iternations, and sgd type of solver\n",
      "\taccuracy on valid: 82.0%\n",
      "\tprecision on valid: 56.2%\n",
      "\trecall on valid: 10.1%\n",
      "\tf1 on valid: 17.2%\n",
      "\tseconds to predict valid: 18.2 seconds\n",
      "\n",
      "neural net with (10, 5) layers, relu activation, 0.001 alpha, 200 max iternations, and adam type of solver\n",
      "\taccuracy on valid: 81.9%\n",
      "\tprecision on valid: 60.4%\n",
      "\trecall on valid: 5.3%\n",
      "\tf1 on valid: 9.7%\n",
      "\tseconds to predict valid: 9.0 seconds\n",
      "\n",
      "neural net with (10, 5) layers, relu activation, 0.001 alpha, 500 max iternations, and sgd type of solver\n",
      "\taccuracy on valid: 82.0%\n",
      "\tprecision on valid: 56.2%\n",
      "\trecall on valid: 10.1%\n",
      "\tf1 on valid: 17.2%\n",
      "\tseconds to predict valid: 18.1 seconds\n",
      "\n",
      "neural net with (10, 5) layers, relu activation, 0.001 alpha, 500 max iternations, and adam type of solver\n",
      "\taccuracy on valid: 81.9%\n",
      "\tprecision on valid: 60.4%\n",
      "\trecall on valid: 5.3%\n",
      "\tf1 on valid: 9.7%\n",
      "\tseconds to predict valid: 8.4 seconds\n"
     ]
    },
    {
     "name": "stderr",
     "output_type": "stream",
     "text": [
      "c:\\Users\\matth\\anaconda3\\lib\\site-packages\\sklearn\\neural_network\\_multilayer_perceptron.py:614: ConvergenceWarning: Stochastic Optimizer: Maximum iterations (100) reached and the optimization hasn't converged yet.\n",
      "  warnings.warn(\n"
     ]
    },
    {
     "name": "stdout",
     "output_type": "stream",
     "text": [
      "\n",
      "neural net with (10, 5) layers, relu activation, 0.01 alpha, 100 max iternations, and sgd type of solver\n",
      "\taccuracy on valid: 81.8%\n",
      "\tprecision on valid: 62.5%\n",
      "\trecall on valid: 2.9%\n",
      "\tf1 on valid: 5.5%\n",
      "\tseconds to predict valid: 8.6 seconds\n",
      "\n",
      "neural net with (10, 5) layers, relu activation, 0.01 alpha, 100 max iternations, and adam type of solver\n",
      "\taccuracy on valid: 81.9%\n",
      "\tprecision on valid: 54.9%\n",
      "\trecall on valid: 9.3%\n",
      "\tf1 on valid: 15.9%\n",
      "\tseconds to predict valid: 7.3 seconds\n"
     ]
    },
    {
     "name": "stderr",
     "output_type": "stream",
     "text": [
      "c:\\Users\\matth\\anaconda3\\lib\\site-packages\\sklearn\\neural_network\\_multilayer_perceptron.py:614: ConvergenceWarning: Stochastic Optimizer: Maximum iterations (200) reached and the optimization hasn't converged yet.\n",
      "  warnings.warn(\n"
     ]
    },
    {
     "name": "stdout",
     "output_type": "stream",
     "text": [
      "\n",
      "neural net with (10, 5) layers, relu activation, 0.01 alpha, 200 max iternations, and sgd type of solver\n",
      "\taccuracy on valid: 82.0%\n",
      "\tprecision on valid: 55.7%\n",
      "\trecall on valid: 10.1%\n",
      "\tf1 on valid: 17.2%\n",
      "\tseconds to predict valid: 17.7 seconds\n",
      "\n",
      "neural net with (10, 5) layers, relu activation, 0.01 alpha, 200 max iternations, and adam type of solver\n",
      "\taccuracy on valid: 81.9%\n",
      "\tprecision on valid: 54.9%\n",
      "\trecall on valid: 9.3%\n",
      "\tf1 on valid: 15.9%\n",
      "\tseconds to predict valid: 6.6 seconds\n",
      "\n",
      "neural net with (10, 5) layers, relu activation, 0.01 alpha, 500 max iternations, and sgd type of solver\n",
      "\taccuracy on valid: 82.0%\n",
      "\tprecision on valid: 55.7%\n",
      "\trecall on valid: 10.1%\n",
      "\tf1 on valid: 17.2%\n",
      "\tseconds to predict valid: 19.2 seconds\n",
      "\n",
      "neural net with (10, 5) layers, relu activation, 0.01 alpha, 500 max iternations, and adam type of solver\n",
      "\taccuracy on valid: 81.9%\n",
      "\tprecision on valid: 54.9%\n",
      "\trecall on valid: 9.3%\n",
      "\tf1 on valid: 15.9%\n",
      "\tseconds to predict valid: 6.5 seconds\n"
     ]
    },
    {
     "name": "stderr",
     "output_type": "stream",
     "text": [
      "c:\\Users\\matth\\anaconda3\\lib\\site-packages\\sklearn\\neural_network\\_multilayer_perceptron.py:614: ConvergenceWarning: Stochastic Optimizer: Maximum iterations (100) reached and the optimization hasn't converged yet.\n",
      "  warnings.warn(\n"
     ]
    },
    {
     "name": "stdout",
     "output_type": "stream",
     "text": [
      "\n",
      "neural net with (10, 5) layers, tanh activation, 0.0001 alpha, 100 max iternations, and sgd type of solver\n",
      "\taccuracy on valid: 81.8%\n",
      "\tprecision on valid: 57.1%\n",
      "\trecall on valid: 3.6%\n",
      "\tf1 on valid: 6.8%\n",
      "\tseconds to predict valid: 9.4 seconds\n",
      "\n",
      "neural net with (10, 5) layers, tanh activation, 0.0001 alpha, 100 max iternations, and adam type of solver\n",
      "\taccuracy on valid: 82.0%\n",
      "\tprecision on valid: 57.5%\n",
      "\trecall on valid: 8.8%\n",
      "\tf1 on valid: 15.3%\n",
      "\tseconds to predict valid: 10.7 seconds\n"
     ]
    },
    {
     "name": "stderr",
     "output_type": "stream",
     "text": [
      "c:\\Users\\matth\\anaconda3\\lib\\site-packages\\sklearn\\neural_network\\_multilayer_perceptron.py:614: ConvergenceWarning: Stochastic Optimizer: Maximum iterations (200) reached and the optimization hasn't converged yet.\n",
      "  warnings.warn(\n"
     ]
    },
    {
     "name": "stdout",
     "output_type": "stream",
     "text": [
      "\n",
      "neural net with (10, 5) layers, tanh activation, 0.0001 alpha, 200 max iternations, and sgd type of solver\n",
      "\taccuracy on valid: 81.9%\n",
      "\tprecision on valid: 56.6%\n",
      "\trecall on valid: 8.1%\n",
      "\tf1 on valid: 14.1%\n",
      "\tseconds to predict valid: 20.4 seconds\n",
      "\n",
      "neural net with (10, 5) layers, tanh activation, 0.0001 alpha, 200 max iternations, and adam type of solver\n",
      "\taccuracy on valid: 82.0%\n",
      "\tprecision on valid: 57.5%\n",
      "\trecall on valid: 8.8%\n",
      "\tf1 on valid: 15.3%\n",
      "\tseconds to predict valid: 10.3 seconds\n",
      "\n",
      "neural net with (10, 5) layers, tanh activation, 0.0001 alpha, 500 max iternations, and sgd type of solver\n",
      "\taccuracy on valid: 81.9%\n",
      "\tprecision on valid: 57.0%\n",
      "\trecall on valid: 8.1%\n",
      "\tf1 on valid: 14.2%\n",
      "\tseconds to predict valid: 20.5 seconds\n",
      "\n",
      "neural net with (10, 5) layers, tanh activation, 0.0001 alpha, 500 max iternations, and adam type of solver\n",
      "\taccuracy on valid: 82.0%\n",
      "\tprecision on valid: 57.5%\n",
      "\trecall on valid: 8.8%\n",
      "\tf1 on valid: 15.3%\n",
      "\tseconds to predict valid: 10.2 seconds\n"
     ]
    },
    {
     "name": "stderr",
     "output_type": "stream",
     "text": [
      "c:\\Users\\matth\\anaconda3\\lib\\site-packages\\sklearn\\neural_network\\_multilayer_perceptron.py:614: ConvergenceWarning: Stochastic Optimizer: Maximum iterations (100) reached and the optimization hasn't converged yet.\n",
      "  warnings.warn(\n"
     ]
    },
    {
     "name": "stdout",
     "output_type": "stream",
     "text": [
      "\n",
      "neural net with (10, 5) layers, tanh activation, 0.001 alpha, 100 max iternations, and sgd type of solver\n",
      "\taccuracy on valid: 81.8%\n",
      "\tprecision on valid: 57.1%\n",
      "\trecall on valid: 3.6%\n",
      "\tf1 on valid: 6.8%\n",
      "\tseconds to predict valid: 9.6 seconds\n",
      "\n",
      "neural net with (10, 5) layers, tanh activation, 0.001 alpha, 100 max iternations, and adam type of solver\n",
      "\taccuracy on valid: 82.0%\n",
      "\tprecision on valid: 57.9%\n",
      "\trecall on valid: 9.1%\n",
      "\tf1 on valid: 15.7%\n",
      "\tseconds to predict valid: 11.3 seconds\n"
     ]
    },
    {
     "name": "stderr",
     "output_type": "stream",
     "text": [
      "c:\\Users\\matth\\anaconda3\\lib\\site-packages\\sklearn\\neural_network\\_multilayer_perceptron.py:614: ConvergenceWarning: Stochastic Optimizer: Maximum iterations (200) reached and the optimization hasn't converged yet.\n",
      "  warnings.warn(\n"
     ]
    },
    {
     "name": "stdout",
     "output_type": "stream",
     "text": [
      "\n",
      "neural net with (10, 5) layers, tanh activation, 0.001 alpha, 200 max iternations, and sgd type of solver\n",
      "\taccuracy on valid: 82.0%\n",
      "\tprecision on valid: 57.2%\n",
      "\trecall on valid: 8.2%\n",
      "\tf1 on valid: 14.3%\n",
      "\tseconds to predict valid: 20.5 seconds\n",
      "\n",
      "neural net with (10, 5) layers, tanh activation, 0.001 alpha, 200 max iternations, and adam type of solver\n",
      "\taccuracy on valid: 82.0%\n",
      "\tprecision on valid: 57.9%\n",
      "\trecall on valid: 9.1%\n",
      "\tf1 on valid: 15.7%\n",
      "\tseconds to predict valid: 11.2 seconds\n",
      "\n",
      "neural net with (10, 5) layers, tanh activation, 0.001 alpha, 500 max iternations, and sgd type of solver\n",
      "\taccuracy on valid: 81.9%\n",
      "\tprecision on valid: 57.0%\n",
      "\trecall on valid: 8.1%\n",
      "\tf1 on valid: 14.2%\n",
      "\tseconds to predict valid: 22.5 seconds\n",
      "\n",
      "neural net with (10, 5) layers, tanh activation, 0.001 alpha, 500 max iternations, and adam type of solver\n",
      "\taccuracy on valid: 82.0%\n",
      "\tprecision on valid: 57.9%\n",
      "\trecall on valid: 9.1%\n",
      "\tf1 on valid: 15.7%\n",
      "\tseconds to predict valid: 10.0 seconds\n"
     ]
    },
    {
     "name": "stderr",
     "output_type": "stream",
     "text": [
      "c:\\Users\\matth\\anaconda3\\lib\\site-packages\\sklearn\\neural_network\\_multilayer_perceptron.py:614: ConvergenceWarning: Stochastic Optimizer: Maximum iterations (100) reached and the optimization hasn't converged yet.\n",
      "  warnings.warn(\n"
     ]
    },
    {
     "name": "stdout",
     "output_type": "stream",
     "text": [
      "\n",
      "neural net with (10, 5) layers, tanh activation, 0.01 alpha, 100 max iternations, and sgd type of solver\n",
      "\taccuracy on valid: 81.8%\n",
      "\tprecision on valid: 58.4%\n",
      "\trecall on valid: 3.7%\n",
      "\tf1 on valid: 7.0%\n",
      "\tseconds to predict valid: 9.3 seconds\n",
      "\n",
      "neural net with (10, 5) layers, tanh activation, 0.01 alpha, 100 max iternations, and adam type of solver\n",
      "\taccuracy on valid: 82.0%\n",
      "\tprecision on valid: 57.6%\n",
      "\trecall on valid: 9.1%\n",
      "\tf1 on valid: 15.7%\n",
      "\tseconds to predict valid: 10.3 seconds\n"
     ]
    },
    {
     "name": "stderr",
     "output_type": "stream",
     "text": [
      "c:\\Users\\matth\\anaconda3\\lib\\site-packages\\sklearn\\neural_network\\_multilayer_perceptron.py:614: ConvergenceWarning: Stochastic Optimizer: Maximum iterations (200) reached and the optimization hasn't converged yet.\n",
      "  warnings.warn(\n"
     ]
    },
    {
     "name": "stdout",
     "output_type": "stream",
     "text": [
      "\n",
      "neural net with (10, 5) layers, tanh activation, 0.01 alpha, 200 max iternations, and sgd type of solver\n",
      "\taccuracy on valid: 82.0%\n",
      "\tprecision on valid: 57.2%\n",
      "\trecall on valid: 8.2%\n",
      "\tf1 on valid: 14.3%\n",
      "\tseconds to predict valid: 20.1 seconds\n",
      "\n",
      "neural net with (10, 5) layers, tanh activation, 0.01 alpha, 200 max iternations, and adam type of solver\n",
      "\taccuracy on valid: 82.0%\n",
      "\tprecision on valid: 57.6%\n",
      "\trecall on valid: 9.1%\n",
      "\tf1 on valid: 15.7%\n",
      "\tseconds to predict valid: 10.7 seconds\n",
      "\n",
      "neural net with (10, 5) layers, tanh activation, 0.01 alpha, 500 max iternations, and sgd type of solver\n",
      "\taccuracy on valid: 82.0%\n",
      "\tprecision on valid: 57.2%\n",
      "\trecall on valid: 8.2%\n",
      "\tf1 on valid: 14.3%\n",
      "\tseconds to predict valid: 22.2 seconds\n",
      "\n",
      "neural net with (10, 5) layers, tanh activation, 0.01 alpha, 500 max iternations, and adam type of solver\n",
      "\taccuracy on valid: 82.0%\n",
      "\tprecision on valid: 57.6%\n",
      "\trecall on valid: 9.1%\n",
      "\tf1 on valid: 15.7%\n",
      "\tseconds to predict valid: 10.9 seconds\n"
     ]
    },
    {
     "name": "stderr",
     "output_type": "stream",
     "text": [
      "c:\\Users\\matth\\anaconda3\\lib\\site-packages\\sklearn\\metrics\\_classification.py:1248: UndefinedMetricWarning: Precision is ill-defined and being set to 0.0 due to no predicted samples. Use `zero_division` parameter to control this behavior.\n",
      "  _warn_prf(average, modifier, msg_start, len(result))\n"
     ]
    },
    {
     "name": "stdout",
     "output_type": "stream",
     "text": [
      "\n",
      "neural net with (10, 5) layers, logistic activation, 0.0001 alpha, 100 max iternations, and sgd type of solver\n",
      "\taccuracy on valid: 81.6%\n",
      "\tprecision on valid: 0.0%\n",
      "\trecall on valid: 0.0%\n",
      "\tf1 on valid: 0.0%\n",
      "\tseconds to predict valid: 6.6 seconds\n",
      "\n",
      "neural net with (10, 5) layers, logistic activation, 0.0001 alpha, 100 max iternations, and adam type of solver\n",
      "\taccuracy on valid: 82.2%\n",
      "\tprecision on valid: 59.7%\n",
      "\trecall on valid: 9.6%\n",
      "\tf1 on valid: 16.6%\n",
      "\tseconds to predict valid: 9.6 seconds\n"
     ]
    },
    {
     "name": "stderr",
     "output_type": "stream",
     "text": [
      "c:\\Users\\matth\\anaconda3\\lib\\site-packages\\sklearn\\metrics\\_classification.py:1248: UndefinedMetricWarning: Precision is ill-defined and being set to 0.0 due to no predicted samples. Use `zero_division` parameter to control this behavior.\n",
      "  _warn_prf(average, modifier, msg_start, len(result))\n"
     ]
    },
    {
     "name": "stdout",
     "output_type": "stream",
     "text": [
      "\n",
      "neural net with (10, 5) layers, logistic activation, 0.0001 alpha, 200 max iternations, and sgd type of solver\n",
      "\taccuracy on valid: 81.6%\n",
      "\tprecision on valid: 0.0%\n",
      "\trecall on valid: 0.0%\n",
      "\tf1 on valid: 0.0%\n",
      "\tseconds to predict valid: 6.3 seconds\n",
      "\n",
      "neural net with (10, 5) layers, logistic activation, 0.0001 alpha, 200 max iternations, and adam type of solver\n",
      "\taccuracy on valid: 82.2%\n",
      "\tprecision on valid: 59.7%\n",
      "\trecall on valid: 9.6%\n",
      "\tf1 on valid: 16.6%\n",
      "\tseconds to predict valid: 10.1 seconds\n"
     ]
    },
    {
     "name": "stderr",
     "output_type": "stream",
     "text": [
      "c:\\Users\\matth\\anaconda3\\lib\\site-packages\\sklearn\\metrics\\_classification.py:1248: UndefinedMetricWarning: Precision is ill-defined and being set to 0.0 due to no predicted samples. Use `zero_division` parameter to control this behavior.\n",
      "  _warn_prf(average, modifier, msg_start, len(result))\n"
     ]
    },
    {
     "name": "stdout",
     "output_type": "stream",
     "text": [
      "\n",
      "neural net with (10, 5) layers, logistic activation, 0.0001 alpha, 500 max iternations, and sgd type of solver\n",
      "\taccuracy on valid: 81.6%\n",
      "\tprecision on valid: 0.0%\n",
      "\trecall on valid: 0.0%\n",
      "\tf1 on valid: 0.0%\n",
      "\tseconds to predict valid: 6.5 seconds\n",
      "\n",
      "neural net with (10, 5) layers, logistic activation, 0.0001 alpha, 500 max iternations, and adam type of solver\n",
      "\taccuracy on valid: 82.2%\n",
      "\tprecision on valid: 59.7%\n",
      "\trecall on valid: 9.6%\n",
      "\tf1 on valid: 16.6%\n",
      "\tseconds to predict valid: 10.3 seconds\n"
     ]
    },
    {
     "name": "stderr",
     "output_type": "stream",
     "text": [
      "c:\\Users\\matth\\anaconda3\\lib\\site-packages\\sklearn\\metrics\\_classification.py:1248: UndefinedMetricWarning: Precision is ill-defined and being set to 0.0 due to no predicted samples. Use `zero_division` parameter to control this behavior.\n",
      "  _warn_prf(average, modifier, msg_start, len(result))\n"
     ]
    },
    {
     "name": "stdout",
     "output_type": "stream",
     "text": [
      "\n",
      "neural net with (10, 5) layers, logistic activation, 0.001 alpha, 100 max iternations, and sgd type of solver\n",
      "\taccuracy on valid: 81.6%\n",
      "\tprecision on valid: 0.0%\n",
      "\trecall on valid: 0.0%\n",
      "\tf1 on valid: 0.0%\n",
      "\tseconds to predict valid: 6.1 seconds\n",
      "\n",
      "neural net with (10, 5) layers, logistic activation, 0.001 alpha, 100 max iternations, and adam type of solver\n",
      "\taccuracy on valid: 82.3%\n",
      "\tprecision on valid: 61.5%\n",
      "\trecall on valid: 9.7%\n",
      "\tf1 on valid: 16.8%\n",
      "\tseconds to predict valid: 9.2 seconds\n"
     ]
    },
    {
     "name": "stderr",
     "output_type": "stream",
     "text": [
      "c:\\Users\\matth\\anaconda3\\lib\\site-packages\\sklearn\\metrics\\_classification.py:1248: UndefinedMetricWarning: Precision is ill-defined and being set to 0.0 due to no predicted samples. Use `zero_division` parameter to control this behavior.\n",
      "  _warn_prf(average, modifier, msg_start, len(result))\n"
     ]
    },
    {
     "name": "stdout",
     "output_type": "stream",
     "text": [
      "\n",
      "neural net with (10, 5) layers, logistic activation, 0.001 alpha, 200 max iternations, and sgd type of solver\n",
      "\taccuracy on valid: 81.6%\n",
      "\tprecision on valid: 0.0%\n",
      "\trecall on valid: 0.0%\n",
      "\tf1 on valid: 0.0%\n",
      "\tseconds to predict valid: 6.1 seconds\n",
      "\n",
      "neural net with (10, 5) layers, logistic activation, 0.001 alpha, 200 max iternations, and adam type of solver\n",
      "\taccuracy on valid: 82.3%\n",
      "\tprecision on valid: 61.5%\n",
      "\trecall on valid: 9.7%\n",
      "\tf1 on valid: 16.8%\n",
      "\tseconds to predict valid: 9.4 seconds\n"
     ]
    },
    {
     "name": "stderr",
     "output_type": "stream",
     "text": [
      "c:\\Users\\matth\\anaconda3\\lib\\site-packages\\sklearn\\metrics\\_classification.py:1248: UndefinedMetricWarning: Precision is ill-defined and being set to 0.0 due to no predicted samples. Use `zero_division` parameter to control this behavior.\n",
      "  _warn_prf(average, modifier, msg_start, len(result))\n"
     ]
    },
    {
     "name": "stdout",
     "output_type": "stream",
     "text": [
      "\n",
      "neural net with (10, 5) layers, logistic activation, 0.001 alpha, 500 max iternations, and sgd type of solver\n",
      "\taccuracy on valid: 81.6%\n",
      "\tprecision on valid: 0.0%\n",
      "\trecall on valid: 0.0%\n",
      "\tf1 on valid: 0.0%\n",
      "\tseconds to predict valid: 5.9 seconds\n",
      "\n",
      "neural net with (10, 5) layers, logistic activation, 0.001 alpha, 500 max iternations, and adam type of solver\n",
      "\taccuracy on valid: 82.3%\n",
      "\tprecision on valid: 61.5%\n",
      "\trecall on valid: 9.7%\n",
      "\tf1 on valid: 16.8%\n",
      "\tseconds to predict valid: 9.0 seconds\n"
     ]
    },
    {
     "name": "stderr",
     "output_type": "stream",
     "text": [
      "c:\\Users\\matth\\anaconda3\\lib\\site-packages\\sklearn\\metrics\\_classification.py:1248: UndefinedMetricWarning: Precision is ill-defined and being set to 0.0 due to no predicted samples. Use `zero_division` parameter to control this behavior.\n",
      "  _warn_prf(average, modifier, msg_start, len(result))\n"
     ]
    },
    {
     "name": "stdout",
     "output_type": "stream",
     "text": [
      "\n",
      "neural net with (10, 5) layers, logistic activation, 0.01 alpha, 100 max iternations, and sgd type of solver\n",
      "\taccuracy on valid: 81.6%\n",
      "\tprecision on valid: 0.0%\n",
      "\trecall on valid: 0.0%\n",
      "\tf1 on valid: 0.0%\n",
      "\tseconds to predict valid: 6.0 seconds\n",
      "\n",
      "neural net with (10, 5) layers, logistic activation, 0.01 alpha, 100 max iternations, and adam type of solver\n",
      "\taccuracy on valid: 82.1%\n",
      "\tprecision on valid: 59.7%\n",
      "\trecall on valid: 9.4%\n",
      "\tf1 on valid: 16.2%\n",
      "\tseconds to predict valid: 9.1 seconds\n"
     ]
    },
    {
     "name": "stderr",
     "output_type": "stream",
     "text": [
      "c:\\Users\\matth\\anaconda3\\lib\\site-packages\\sklearn\\metrics\\_classification.py:1248: UndefinedMetricWarning: Precision is ill-defined and being set to 0.0 due to no predicted samples. Use `zero_division` parameter to control this behavior.\n",
      "  _warn_prf(average, modifier, msg_start, len(result))\n"
     ]
    },
    {
     "name": "stdout",
     "output_type": "stream",
     "text": [
      "\n",
      "neural net with (10, 5) layers, logistic activation, 0.01 alpha, 200 max iternations, and sgd type of solver\n",
      "\taccuracy on valid: 81.6%\n",
      "\tprecision on valid: 0.0%\n",
      "\trecall on valid: 0.0%\n",
      "\tf1 on valid: 0.0%\n",
      "\tseconds to predict valid: 5.3 seconds\n",
      "\n",
      "neural net with (10, 5) layers, logistic activation, 0.01 alpha, 200 max iternations, and adam type of solver\n",
      "\taccuracy on valid: 82.1%\n",
      "\tprecision on valid: 59.7%\n",
      "\trecall on valid: 9.4%\n",
      "\tf1 on valid: 16.2%\n",
      "\tseconds to predict valid: 8.2 seconds\n"
     ]
    },
    {
     "name": "stderr",
     "output_type": "stream",
     "text": [
      "c:\\Users\\matth\\anaconda3\\lib\\site-packages\\sklearn\\metrics\\_classification.py:1248: UndefinedMetricWarning: Precision is ill-defined and being set to 0.0 due to no predicted samples. Use `zero_division` parameter to control this behavior.\n",
      "  _warn_prf(average, modifier, msg_start, len(result))\n"
     ]
    },
    {
     "name": "stdout",
     "output_type": "stream",
     "text": [
      "\n",
      "neural net with (10, 5) layers, logistic activation, 0.01 alpha, 500 max iternations, and sgd type of solver\n",
      "\taccuracy on valid: 81.6%\n",
      "\tprecision on valid: 0.0%\n",
      "\trecall on valid: 0.0%\n",
      "\tf1 on valid: 0.0%\n",
      "\tseconds to predict valid: 5.4 seconds\n",
      "\n",
      "neural net with (10, 5) layers, logistic activation, 0.01 alpha, 500 max iternations, and adam type of solver\n",
      "\taccuracy on valid: 82.1%\n",
      "\tprecision on valid: 59.7%\n",
      "\trecall on valid: 9.4%\n",
      "\tf1 on valid: 16.2%\n",
      "\tseconds to predict valid: 8.7 seconds\n"
     ]
    },
    {
     "name": "stderr",
     "output_type": "stream",
     "text": [
      "c:\\Users\\matth\\anaconda3\\lib\\site-packages\\sklearn\\neural_network\\_multilayer_perceptron.py:614: ConvergenceWarning: Stochastic Optimizer: Maximum iterations (100) reached and the optimization hasn't converged yet.\n",
      "  warnings.warn(\n"
     ]
    },
    {
     "name": "stdout",
     "output_type": "stream",
     "text": [
      "\n",
      "neural net with (100, 25) layers, relu activation, 0.0001 alpha, 100 max iternations, and sgd type of solver\n",
      "\taccuracy on valid: 82.1%\n",
      "\tprecision on valid: 60.4%\n",
      "\trecall on valid: 7.7%\n",
      "\tf1 on valid: 13.6%\n",
      "\tseconds to predict valid: 21.0 seconds\n"
     ]
    },
    {
     "name": "stderr",
     "output_type": "stream",
     "text": [
      "c:\\Users\\matth\\anaconda3\\lib\\site-packages\\sklearn\\neural_network\\_multilayer_perceptron.py:614: ConvergenceWarning: Stochastic Optimizer: Maximum iterations (100) reached and the optimization hasn't converged yet.\n",
      "  warnings.warn(\n"
     ]
    },
    {
     "name": "stdout",
     "output_type": "stream",
     "text": [
      "\n",
      "neural net with (100, 25) layers, relu activation, 0.0001 alpha, 100 max iternations, and adam type of solver\n",
      "\taccuracy on valid: 82.0%\n",
      "\tprecision on valid: 55.6%\n",
      "\trecall on valid: 10.2%\n",
      "\tf1 on valid: 17.3%\n",
      "\tseconds to predict valid: 24.2 seconds\n",
      "\n",
      "neural net with (100, 25) layers, relu activation, 0.0001 alpha, 200 max iternations, and sgd type of solver\n",
      "\taccuracy on valid: 82.2%\n",
      "\tprecision on valid: 59.2%\n",
      "\trecall on valid: 10.3%\n",
      "\tf1 on valid: 17.6%\n",
      "\tseconds to predict valid: 38.8 seconds\n"
     ]
    },
    {
     "name": "stderr",
     "output_type": "stream",
     "text": [
      "c:\\Users\\matth\\anaconda3\\lib\\site-packages\\sklearn\\neural_network\\_multilayer_perceptron.py:614: ConvergenceWarning: Stochastic Optimizer: Maximum iterations (200) reached and the optimization hasn't converged yet.\n",
      "  warnings.warn(\n"
     ]
    },
    {
     "name": "stdout",
     "output_type": "stream",
     "text": [
      "\n",
      "neural net with (100, 25) layers, relu activation, 0.0001 alpha, 200 max iternations, and adam type of solver\n",
      "\taccuracy on valid: 80.8%\n",
      "\tprecision on valid: 43.9%\n",
      "\trecall on valid: 15.3%\n",
      "\tf1 on valid: 22.6%\n",
      "\tseconds to predict valid: 65.0 seconds\n",
      "\n",
      "neural net with (100, 25) layers, relu activation, 0.0001 alpha, 500 max iternations, and sgd type of solver\n",
      "\taccuracy on valid: 82.2%\n",
      "\tprecision on valid: 59.2%\n",
      "\trecall on valid: 10.3%\n",
      "\tf1 on valid: 17.6%\n",
      "\tseconds to predict valid: 51.1 seconds\n",
      "\n",
      "neural net with (100, 25) layers, relu activation, 0.0001 alpha, 500 max iternations, and adam type of solver\n",
      "\taccuracy on valid: 80.6%\n",
      "\tprecision on valid: 41.0%\n",
      "\trecall on valid: 12.0%\n",
      "\tf1 on valid: 18.6%\n",
      "\tseconds to predict valid: 108.1 seconds\n"
     ]
    },
    {
     "name": "stderr",
     "output_type": "stream",
     "text": [
      "c:\\Users\\matth\\anaconda3\\lib\\site-packages\\sklearn\\neural_network\\_multilayer_perceptron.py:614: ConvergenceWarning: Stochastic Optimizer: Maximum iterations (100) reached and the optimization hasn't converged yet.\n",
      "  warnings.warn(\n"
     ]
    },
    {
     "name": "stdout",
     "output_type": "stream",
     "text": [
      "\n",
      "neural net with (100, 25) layers, relu activation, 0.001 alpha, 100 max iternations, and sgd type of solver\n",
      "\taccuracy on valid: 82.0%\n",
      "\tprecision on valid: 59.9%\n",
      "\trecall on valid: 7.5%\n",
      "\tf1 on valid: 13.3%\n",
      "\tseconds to predict valid: 27.2 seconds\n"
     ]
    },
    {
     "name": "stderr",
     "output_type": "stream",
     "text": [
      "c:\\Users\\matth\\anaconda3\\lib\\site-packages\\sklearn\\neural_network\\_multilayer_perceptron.py:614: ConvergenceWarning: Stochastic Optimizer: Maximum iterations (100) reached and the optimization hasn't converged yet.\n",
      "  warnings.warn(\n"
     ]
    },
    {
     "name": "stdout",
     "output_type": "stream",
     "text": [
      "\n",
      "neural net with (100, 25) layers, relu activation, 0.001 alpha, 100 max iternations, and adam type of solver\n",
      "\taccuracy on valid: 81.8%\n",
      "\tprecision on valid: 52.8%\n",
      "\trecall on valid: 11.0%\n",
      "\tf1 on valid: 18.3%\n",
      "\tseconds to predict valid: 29.6 seconds\n",
      "\n",
      "neural net with (100, 25) layers, relu activation, 0.001 alpha, 200 max iternations, and sgd type of solver\n",
      "\taccuracy on valid: 82.2%\n",
      "\tprecision on valid: 59.3%\n",
      "\trecall on valid: 10.5%\n",
      "\tf1 on valid: 17.8%\n",
      "\tseconds to predict valid: 50.2 seconds\n"
     ]
    },
    {
     "name": "stderr",
     "output_type": "stream",
     "text": [
      "c:\\Users\\matth\\anaconda3\\lib\\site-packages\\sklearn\\neural_network\\_multilayer_perceptron.py:614: ConvergenceWarning: Stochastic Optimizer: Maximum iterations (200) reached and the optimization hasn't converged yet.\n",
      "  warnings.warn(\n"
     ]
    },
    {
     "name": "stdout",
     "output_type": "stream",
     "text": [
      "\n",
      "neural net with (100, 25) layers, relu activation, 0.001 alpha, 200 max iternations, and adam type of solver\n",
      "\taccuracy on valid: 81.2%\n",
      "\tprecision on valid: 46.5%\n",
      "\trecall on valid: 13.8%\n",
      "\tf1 on valid: 21.3%\n",
      "\tseconds to predict valid: 63.2 seconds\n",
      "\n",
      "neural net with (100, 25) layers, relu activation, 0.001 alpha, 500 max iternations, and sgd type of solver\n",
      "\taccuracy on valid: 82.2%\n",
      "\tprecision on valid: 59.3%\n",
      "\trecall on valid: 10.5%\n",
      "\tf1 on valid: 17.8%\n",
      "\tseconds to predict valid: 49.9 seconds\n",
      "\n",
      "neural net with (100, 25) layers, relu activation, 0.001 alpha, 500 max iternations, and adam type of solver\n",
      "\taccuracy on valid: 80.7%\n",
      "\tprecision on valid: 41.1%\n",
      "\trecall on valid: 10.8%\n",
      "\tf1 on valid: 17.1%\n",
      "\tseconds to predict valid: 132.9 seconds\n"
     ]
    },
    {
     "name": "stderr",
     "output_type": "stream",
     "text": [
      "c:\\Users\\matth\\anaconda3\\lib\\site-packages\\sklearn\\neural_network\\_multilayer_perceptron.py:614: ConvergenceWarning: Stochastic Optimizer: Maximum iterations (100) reached and the optimization hasn't converged yet.\n",
      "  warnings.warn(\n"
     ]
    },
    {
     "name": "stdout",
     "output_type": "stream",
     "text": [
      "\n",
      "neural net with (100, 25) layers, relu activation, 0.01 alpha, 100 max iternations, and sgd type of solver\n",
      "\taccuracy on valid: 82.0%\n",
      "\tprecision on valid: 59.6%\n",
      "\trecall on valid: 7.4%\n",
      "\tf1 on valid: 13.2%\n",
      "\tseconds to predict valid: 21.7 seconds\n"
     ]
    },
    {
     "name": "stderr",
     "output_type": "stream",
     "text": [
      "c:\\Users\\matth\\anaconda3\\lib\\site-packages\\sklearn\\neural_network\\_multilayer_perceptron.py:614: ConvergenceWarning: Stochastic Optimizer: Maximum iterations (100) reached and the optimization hasn't converged yet.\n",
      "  warnings.warn(\n"
     ]
    },
    {
     "name": "stdout",
     "output_type": "stream",
     "text": [
      "\n",
      "neural net with (100, 25) layers, relu activation, 0.01 alpha, 100 max iternations, and adam type of solver\n",
      "\taccuracy on valid: 82.4%\n",
      "\tprecision on valid: 62.0%\n",
      "\trecall on valid: 10.9%\n",
      "\tf1 on valid: 18.5%\n",
      "\tseconds to predict valid: 28.0 seconds\n",
      "\n",
      "neural net with (100, 25) layers, relu activation, 0.01 alpha, 200 max iternations, and sgd type of solver\n",
      "\taccuracy on valid: 82.3%\n",
      "\tprecision on valid: 60.4%\n",
      "\trecall on valid: 10.8%\n",
      "\tf1 on valid: 18.3%\n",
      "\tseconds to predict valid: 45.1 seconds\n"
     ]
    },
    {
     "name": "stderr",
     "output_type": "stream",
     "text": [
      "c:\\Users\\matth\\anaconda3\\lib\\site-packages\\sklearn\\neural_network\\_multilayer_perceptron.py:614: ConvergenceWarning: Stochastic Optimizer: Maximum iterations (200) reached and the optimization hasn't converged yet.\n",
      "  warnings.warn(\n"
     ]
    },
    {
     "name": "stdout",
     "output_type": "stream",
     "text": [
      "\n",
      "neural net with (100, 25) layers, relu activation, 0.01 alpha, 200 max iternations, and adam type of solver\n",
      "\taccuracy on valid: 81.7%\n",
      "\tprecision on valid: 51.5%\n",
      "\trecall on valid: 14.3%\n",
      "\tf1 on valid: 22.3%\n",
      "\tseconds to predict valid: 78.1 seconds\n",
      "\n",
      "neural net with (100, 25) layers, relu activation, 0.01 alpha, 500 max iternations, and sgd type of solver\n",
      "\taccuracy on valid: 82.3%\n",
      "\tprecision on valid: 60.4%\n",
      "\trecall on valid: 10.8%\n",
      "\tf1 on valid: 18.3%\n",
      "\tseconds to predict valid: 41.9 seconds\n",
      "\n",
      "neural net with (100, 25) layers, relu activation, 0.01 alpha, 500 max iternations, and adam type of solver\n",
      "\taccuracy on valid: 81.7%\n",
      "\tprecision on valid: 51.2%\n",
      "\trecall on valid: 12.4%\n",
      "\tf1 on valid: 19.9%\n",
      "\tseconds to predict valid: 98.5 seconds\n"
     ]
    },
    {
     "name": "stderr",
     "output_type": "stream",
     "text": [
      "c:\\Users\\matth\\anaconda3\\lib\\site-packages\\sklearn\\neural_network\\_multilayer_perceptron.py:614: ConvergenceWarning: Stochastic Optimizer: Maximum iterations (100) reached and the optimization hasn't converged yet.\n",
      "  warnings.warn(\n"
     ]
    },
    {
     "name": "stdout",
     "output_type": "stream",
     "text": [
      "\n",
      "neural net with (100, 25) layers, tanh activation, 0.0001 alpha, 100 max iternations, and sgd type of solver\n",
      "\taccuracy on valid: 82.0%\n",
      "\tprecision on valid: 59.2%\n",
      "\trecall on valid: 7.7%\n",
      "\tf1 on valid: 13.6%\n",
      "\tseconds to predict valid: 30.0 seconds\n"
     ]
    },
    {
     "name": "stderr",
     "output_type": "stream",
     "text": [
      "c:\\Users\\matth\\anaconda3\\lib\\site-packages\\sklearn\\neural_network\\_multilayer_perceptron.py:614: ConvergenceWarning: Stochastic Optimizer: Maximum iterations (100) reached and the optimization hasn't converged yet.\n",
      "  warnings.warn(\n"
     ]
    },
    {
     "name": "stdout",
     "output_type": "stream",
     "text": [
      "\n",
      "neural net with (100, 25) layers, tanh activation, 0.0001 alpha, 100 max iternations, and adam type of solver\n",
      "\taccuracy on valid: 81.8%\n",
      "\tprecision on valid: 53.2%\n",
      "\trecall on valid: 10.4%\n",
      "\tf1 on valid: 17.4%\n",
      "\tseconds to predict valid: 33.2 seconds\n",
      "\n",
      "neural net with (100, 25) layers, tanh activation, 0.0001 alpha, 200 max iternations, and sgd type of solver\n",
      "\taccuracy on valid: 82.1%\n",
      "\tprecision on valid: 57.8%\n",
      "\trecall on valid: 10.4%\n",
      "\tf1 on valid: 17.6%\n",
      "\tseconds to predict valid: 53.9 seconds\n"
     ]
    },
    {
     "name": "stderr",
     "output_type": "stream",
     "text": [
      "c:\\Users\\matth\\anaconda3\\lib\\site-packages\\sklearn\\neural_network\\_multilayer_perceptron.py:614: ConvergenceWarning: Stochastic Optimizer: Maximum iterations (200) reached and the optimization hasn't converged yet.\n",
      "  warnings.warn(\n"
     ]
    },
    {
     "name": "stdout",
     "output_type": "stream",
     "text": [
      "\n",
      "neural net with (100, 25) layers, tanh activation, 0.0001 alpha, 200 max iternations, and adam type of solver\n",
      "\taccuracy on valid: 80.4%\n",
      "\tprecision on valid: 42.2%\n",
      "\trecall on valid: 16.9%\n",
      "\tf1 on valid: 24.1%\n",
      "\tseconds to predict valid: 68.6 seconds\n",
      "\n",
      "neural net with (100, 25) layers, tanh activation, 0.0001 alpha, 500 max iternations, and sgd type of solver\n",
      "\taccuracy on valid: 82.1%\n",
      "\tprecision on valid: 57.8%\n",
      "\trecall on valid: 10.4%\n",
      "\tf1 on valid: 17.6%\n",
      "\tseconds to predict valid: 56.1 seconds\n"
     ]
    },
    {
     "name": "stderr",
     "output_type": "stream",
     "text": [
      "c:\\Users\\matth\\anaconda3\\lib\\site-packages\\sklearn\\neural_network\\_multilayer_perceptron.py:614: ConvergenceWarning: Stochastic Optimizer: Maximum iterations (500) reached and the optimization hasn't converged yet.\n",
      "  warnings.warn(\n"
     ]
    },
    {
     "name": "stdout",
     "output_type": "stream",
     "text": [
      "\n",
      "neural net with (100, 25) layers, tanh activation, 0.0001 alpha, 500 max iternations, and adam type of solver\n",
      "\taccuracy on valid: 79.3%\n",
      "\tprecision on valid: 38.2%\n",
      "\trecall on valid: 20.0%\n",
      "\tf1 on valid: 26.2%\n",
      "\tseconds to predict valid: 168.6 seconds\n"
     ]
    },
    {
     "name": "stderr",
     "output_type": "stream",
     "text": [
      "c:\\Users\\matth\\anaconda3\\lib\\site-packages\\sklearn\\neural_network\\_multilayer_perceptron.py:614: ConvergenceWarning: Stochastic Optimizer: Maximum iterations (100) reached and the optimization hasn't converged yet.\n",
      "  warnings.warn(\n"
     ]
    },
    {
     "name": "stdout",
     "output_type": "stream",
     "text": [
      "\n",
      "neural net with (100, 25) layers, tanh activation, 0.001 alpha, 100 max iternations, and sgd type of solver\n",
      "\taccuracy on valid: 82.0%\n",
      "\tprecision on valid: 59.2%\n",
      "\trecall on valid: 7.7%\n",
      "\tf1 on valid: 13.6%\n",
      "\tseconds to predict valid: 31.2 seconds\n"
     ]
    },
    {
     "name": "stderr",
     "output_type": "stream",
     "text": [
      "c:\\Users\\matth\\anaconda3\\lib\\site-packages\\sklearn\\neural_network\\_multilayer_perceptron.py:614: ConvergenceWarning: Stochastic Optimizer: Maximum iterations (100) reached and the optimization hasn't converged yet.\n",
      "  warnings.warn(\n"
     ]
    },
    {
     "name": "stdout",
     "output_type": "stream",
     "text": [
      "\n",
      "neural net with (100, 25) layers, tanh activation, 0.001 alpha, 100 max iternations, and adam type of solver\n",
      "\taccuracy on valid: 81.8%\n",
      "\tprecision on valid: 53.5%\n",
      "\trecall on valid: 10.1%\n",
      "\tf1 on valid: 16.9%\n",
      "\tseconds to predict valid: 32.1 seconds\n",
      "\n",
      "neural net with (100, 25) layers, tanh activation, 0.001 alpha, 200 max iternations, and sgd type of solver\n",
      "\taccuracy on valid: 82.1%\n",
      "\tprecision on valid: 57.7%\n",
      "\trecall on valid: 10.5%\n",
      "\tf1 on valid: 17.7%\n",
      "\tseconds to predict valid: 51.4 seconds\n"
     ]
    },
    {
     "name": "stderr",
     "output_type": "stream",
     "text": [
      "c:\\Users\\matth\\anaconda3\\lib\\site-packages\\sklearn\\neural_network\\_multilayer_perceptron.py:614: ConvergenceWarning: Stochastic Optimizer: Maximum iterations (200) reached and the optimization hasn't converged yet.\n",
      "  warnings.warn(\n"
     ]
    },
    {
     "name": "stdout",
     "output_type": "stream",
     "text": [
      "\n",
      "neural net with (100, 25) layers, tanh activation, 0.001 alpha, 200 max iternations, and adam type of solver\n",
      "\taccuracy on valid: 80.5%\n",
      "\tprecision on valid: 42.8%\n",
      "\trecall on valid: 17.1%\n",
      "\tf1 on valid: 24.4%\n",
      "\tseconds to predict valid: 59.1 seconds\n",
      "\n",
      "neural net with (100, 25) layers, tanh activation, 0.001 alpha, 500 max iternations, and sgd type of solver\n",
      "\taccuracy on valid: 82.1%\n",
      "\tprecision on valid: 57.7%\n",
      "\trecall on valid: 10.5%\n",
      "\tf1 on valid: 17.7%\n",
      "\tseconds to predict valid: 49.0 seconds\n"
     ]
    },
    {
     "name": "stderr",
     "output_type": "stream",
     "text": [
      "c:\\Users\\matth\\anaconda3\\lib\\site-packages\\sklearn\\neural_network\\_multilayer_perceptron.py:614: ConvergenceWarning: Stochastic Optimizer: Maximum iterations (500) reached and the optimization hasn't converged yet.\n",
      "  warnings.warn(\n"
     ]
    },
    {
     "name": "stdout",
     "output_type": "stream",
     "text": [
      "\n",
      "neural net with (100, 25) layers, tanh activation, 0.001 alpha, 500 max iternations, and adam type of solver\n",
      "\taccuracy on valid: 79.2%\n",
      "\tprecision on valid: 37.3%\n",
      "\trecall on valid: 18.8%\n",
      "\tf1 on valid: 25.0%\n",
      "\tseconds to predict valid: 148.0 seconds\n"
     ]
    },
    {
     "name": "stderr",
     "output_type": "stream",
     "text": [
      "c:\\Users\\matth\\anaconda3\\lib\\site-packages\\sklearn\\neural_network\\_multilayer_perceptron.py:614: ConvergenceWarning: Stochastic Optimizer: Maximum iterations (100) reached and the optimization hasn't converged yet.\n",
      "  warnings.warn(\n"
     ]
    },
    {
     "name": "stdout",
     "output_type": "stream",
     "text": [
      "\n",
      "neural net with (100, 25) layers, tanh activation, 0.01 alpha, 100 max iternations, and sgd type of solver\n",
      "\taccuracy on valid: 82.0%\n",
      "\tprecision on valid: 58.9%\n",
      "\trecall on valid: 7.7%\n",
      "\tf1 on valid: 13.6%\n",
      "\tseconds to predict valid: 26.3 seconds\n"
     ]
    },
    {
     "name": "stderr",
     "output_type": "stream",
     "text": [
      "c:\\Users\\matth\\anaconda3\\lib\\site-packages\\sklearn\\neural_network\\_multilayer_perceptron.py:614: ConvergenceWarning: Stochastic Optimizer: Maximum iterations (100) reached and the optimization hasn't converged yet.\n",
      "  warnings.warn(\n"
     ]
    },
    {
     "name": "stdout",
     "output_type": "stream",
     "text": [
      "\n",
      "neural net with (100, 25) layers, tanh activation, 0.01 alpha, 100 max iternations, and adam type of solver\n",
      "\taccuracy on valid: 82.0%\n",
      "\tprecision on valid: 56.6%\n",
      "\trecall on valid: 9.6%\n",
      "\tf1 on valid: 16.4%\n",
      "\tseconds to predict valid: 28.7 seconds\n",
      "\n",
      "neural net with (100, 25) layers, tanh activation, 0.01 alpha, 200 max iternations, and sgd type of solver\n",
      "\taccuracy on valid: 82.1%\n",
      "\tprecision on valid: 57.5%\n",
      "\trecall on valid: 10.4%\n",
      "\tf1 on valid: 17.6%\n",
      "\tseconds to predict valid: 49.1 seconds\n"
     ]
    },
    {
     "name": "stderr",
     "output_type": "stream",
     "text": [
      "c:\\Users\\matth\\anaconda3\\lib\\site-packages\\sklearn\\neural_network\\_multilayer_perceptron.py:614: ConvergenceWarning: Stochastic Optimizer: Maximum iterations (200) reached and the optimization hasn't converged yet.\n",
      "  warnings.warn(\n"
     ]
    },
    {
     "name": "stdout",
     "output_type": "stream",
     "text": [
      "\n",
      "neural net with (100, 25) layers, tanh activation, 0.01 alpha, 200 max iternations, and adam type of solver\n",
      "\taccuracy on valid: 81.0%\n",
      "\tprecision on valid: 45.5%\n",
      "\trecall on valid: 15.9%\n",
      "\tf1 on valid: 23.6%\n",
      "\tseconds to predict valid: 58.0 seconds\n",
      "\n",
      "neural net with (100, 25) layers, tanh activation, 0.01 alpha, 500 max iternations, and sgd type of solver\n",
      "\taccuracy on valid: 82.1%\n",
      "\tprecision on valid: 57.5%\n",
      "\trecall on valid: 10.4%\n",
      "\tf1 on valid: 17.6%\n",
      "\tseconds to predict valid: 49.2 seconds\n",
      "\n",
      "neural net with (100, 25) layers, tanh activation, 0.01 alpha, 500 max iternations, and adam type of solver\n",
      "\taccuracy on valid: 80.8%\n",
      "\tprecision on valid: 44.2%\n",
      "\trecall on valid: 15.3%\n",
      "\tf1 on valid: 22.8%\n",
      "\tseconds to predict valid: 110.9 seconds\n"
     ]
    },
    {
     "name": "stderr",
     "output_type": "stream",
     "text": [
      "c:\\Users\\matth\\anaconda3\\lib\\site-packages\\sklearn\\neural_network\\_multilayer_perceptron.py:614: ConvergenceWarning: Stochastic Optimizer: Maximum iterations (100) reached and the optimization hasn't converged yet.\n",
      "  warnings.warn(\n",
      "c:\\Users\\matth\\anaconda3\\lib\\site-packages\\sklearn\\metrics\\_classification.py:1248: UndefinedMetricWarning: Precision is ill-defined and being set to 0.0 due to no predicted samples. Use `zero_division` parameter to control this behavior.\n",
      "  _warn_prf(average, modifier, msg_start, len(result))\n"
     ]
    },
    {
     "name": "stdout",
     "output_type": "stream",
     "text": [
      "\n",
      "neural net with (100, 25) layers, logistic activation, 0.0001 alpha, 100 max iternations, and sgd type of solver\n",
      "\taccuracy on valid: 81.6%\n",
      "\tprecision on valid: 0.0%\n",
      "\trecall on valid: 0.0%\n",
      "\tf1 on valid: 0.0%\n",
      "\tseconds to predict valid: 19.3 seconds\n"
     ]
    },
    {
     "name": "stderr",
     "output_type": "stream",
     "text": [
      "c:\\Users\\matth\\anaconda3\\lib\\site-packages\\sklearn\\neural_network\\_multilayer_perceptron.py:614: ConvergenceWarning: Stochastic Optimizer: Maximum iterations (100) reached and the optimization hasn't converged yet.\n",
      "  warnings.warn(\n"
     ]
    },
    {
     "name": "stdout",
     "output_type": "stream",
     "text": [
      "\n",
      "neural net with (100, 25) layers, logistic activation, 0.0001 alpha, 100 max iternations, and adam type of solver\n",
      "\taccuracy on valid: 82.1%\n",
      "\tprecision on valid: 59.4%\n",
      "\trecall on valid: 8.8%\n",
      "\tf1 on valid: 15.4%\n",
      "\tseconds to predict valid: 20.7 seconds\n"
     ]
    },
    {
     "name": "stderr",
     "output_type": "stream",
     "text": [
      "c:\\Users\\matth\\anaconda3\\lib\\site-packages\\sklearn\\metrics\\_classification.py:1248: UndefinedMetricWarning: Precision is ill-defined and being set to 0.0 due to no predicted samples. Use `zero_division` parameter to control this behavior.\n",
      "  _warn_prf(average, modifier, msg_start, len(result))\n"
     ]
    },
    {
     "name": "stdout",
     "output_type": "stream",
     "text": [
      "\n",
      "neural net with (100, 25) layers, logistic activation, 0.0001 alpha, 200 max iternations, and sgd type of solver\n",
      "\taccuracy on valid: 81.6%\n",
      "\tprecision on valid: 0.0%\n",
      "\trecall on valid: 0.0%\n",
      "\tf1 on valid: 0.0%\n",
      "\tseconds to predict valid: 25.2 seconds\n"
     ]
    },
    {
     "name": "stderr",
     "output_type": "stream",
     "text": [
      "c:\\Users\\matth\\anaconda3\\lib\\site-packages\\sklearn\\neural_network\\_multilayer_perceptron.py:614: ConvergenceWarning: Stochastic Optimizer: Maximum iterations (200) reached and the optimization hasn't converged yet.\n",
      "  warnings.warn(\n"
     ]
    },
    {
     "name": "stdout",
     "output_type": "stream",
     "text": [
      "\n",
      "neural net with (100, 25) layers, logistic activation, 0.0001 alpha, 200 max iternations, and adam type of solver\n",
      "\taccuracy on valid: 82.0%\n",
      "\tprecision on valid: 55.7%\n",
      "\trecall on valid: 11.2%\n",
      "\tf1 on valid: 18.7%\n",
      "\tseconds to predict valid: 41.4 seconds\n"
     ]
    },
    {
     "name": "stderr",
     "output_type": "stream",
     "text": [
      "c:\\Users\\matth\\anaconda3\\lib\\site-packages\\sklearn\\metrics\\_classification.py:1248: UndefinedMetricWarning: Precision is ill-defined and being set to 0.0 due to no predicted samples. Use `zero_division` parameter to control this behavior.\n",
      "  _warn_prf(average, modifier, msg_start, len(result))\n"
     ]
    },
    {
     "name": "stdout",
     "output_type": "stream",
     "text": [
      "\n",
      "neural net with (100, 25) layers, logistic activation, 0.0001 alpha, 500 max iternations, and sgd type of solver\n",
      "\taccuracy on valid: 81.6%\n",
      "\tprecision on valid: 0.0%\n",
      "\trecall on valid: 0.0%\n",
      "\tf1 on valid: 0.0%\n",
      "\tseconds to predict valid: 25.5 seconds\n",
      "\n",
      "neural net with (100, 25) layers, logistic activation, 0.0001 alpha, 500 max iternations, and adam type of solver\n",
      "\taccuracy on valid: 82.0%\n",
      "\tprecision on valid: 55.7%\n",
      "\trecall on valid: 10.1%\n",
      "\tf1 on valid: 17.0%\n",
      "\tseconds to predict valid: 53.2 seconds\n"
     ]
    },
    {
     "name": "stderr",
     "output_type": "stream",
     "text": [
      "c:\\Users\\matth\\anaconda3\\lib\\site-packages\\sklearn\\neural_network\\_multilayer_perceptron.py:614: ConvergenceWarning: Stochastic Optimizer: Maximum iterations (100) reached and the optimization hasn't converged yet.\n",
      "  warnings.warn(\n",
      "c:\\Users\\matth\\anaconda3\\lib\\site-packages\\sklearn\\metrics\\_classification.py:1248: UndefinedMetricWarning: Precision is ill-defined and being set to 0.0 due to no predicted samples. Use `zero_division` parameter to control this behavior.\n",
      "  _warn_prf(average, modifier, msg_start, len(result))\n"
     ]
    },
    {
     "name": "stdout",
     "output_type": "stream",
     "text": [
      "\n",
      "neural net with (100, 25) layers, logistic activation, 0.001 alpha, 100 max iternations, and sgd type of solver\n",
      "\taccuracy on valid: 81.6%\n",
      "\tprecision on valid: 0.0%\n",
      "\trecall on valid: 0.0%\n",
      "\tf1 on valid: 0.0%\n",
      "\tseconds to predict valid: 19.6 seconds\n"
     ]
    },
    {
     "name": "stderr",
     "output_type": "stream",
     "text": [
      "c:\\Users\\matth\\anaconda3\\lib\\site-packages\\sklearn\\neural_network\\_multilayer_perceptron.py:614: ConvergenceWarning: Stochastic Optimizer: Maximum iterations (100) reached and the optimization hasn't converged yet.\n",
      "  warnings.warn(\n"
     ]
    },
    {
     "name": "stdout",
     "output_type": "stream",
     "text": [
      "\n",
      "neural net with (100, 25) layers, logistic activation, 0.001 alpha, 100 max iternations, and adam type of solver\n",
      "\taccuracy on valid: 82.1%\n",
      "\tprecision on valid: 59.2%\n",
      "\trecall on valid: 8.7%\n",
      "\tf1 on valid: 15.2%\n",
      "\tseconds to predict valid: 20.7 seconds\n"
     ]
    },
    {
     "name": "stderr",
     "output_type": "stream",
     "text": [
      "c:\\Users\\matth\\anaconda3\\lib\\site-packages\\sklearn\\metrics\\_classification.py:1248: UndefinedMetricWarning: Precision is ill-defined and being set to 0.0 due to no predicted samples. Use `zero_division` parameter to control this behavior.\n",
      "  _warn_prf(average, modifier, msg_start, len(result))\n"
     ]
    },
    {
     "name": "stdout",
     "output_type": "stream",
     "text": [
      "\n",
      "neural net with (100, 25) layers, logistic activation, 0.001 alpha, 200 max iternations, and sgd type of solver\n",
      "\taccuracy on valid: 81.6%\n",
      "\tprecision on valid: 0.0%\n",
      "\trecall on valid: 0.0%\n",
      "\tf1 on valid: 0.0%\n",
      "\tseconds to predict valid: 25.0 seconds\n",
      "\n",
      "neural net with (100, 25) layers, logistic activation, 0.001 alpha, 200 max iternations, and adam type of solver\n",
      "\taccuracy on valid: 82.3%\n",
      "\tprecision on valid: 60.8%\n",
      "\trecall on valid: 10.5%\n",
      "\tf1 on valid: 17.9%\n",
      "\tseconds to predict valid: 26.1 seconds\n"
     ]
    },
    {
     "name": "stderr",
     "output_type": "stream",
     "text": [
      "c:\\Users\\matth\\anaconda3\\lib\\site-packages\\sklearn\\metrics\\_classification.py:1248: UndefinedMetricWarning: Precision is ill-defined and being set to 0.0 due to no predicted samples. Use `zero_division` parameter to control this behavior.\n",
      "  _warn_prf(average, modifier, msg_start, len(result))\n"
     ]
    },
    {
     "name": "stdout",
     "output_type": "stream",
     "text": [
      "\n",
      "neural net with (100, 25) layers, logistic activation, 0.001 alpha, 500 max iternations, and sgd type of solver\n",
      "\taccuracy on valid: 81.6%\n",
      "\tprecision on valid: 0.0%\n",
      "\trecall on valid: 0.0%\n",
      "\tf1 on valid: 0.0%\n",
      "\tseconds to predict valid: 25.4 seconds\n",
      "\n",
      "neural net with (100, 25) layers, logistic activation, 0.001 alpha, 500 max iternations, and adam type of solver\n",
      "\taccuracy on valid: 82.3%\n",
      "\tprecision on valid: 60.8%\n",
      "\trecall on valid: 10.5%\n",
      "\tf1 on valid: 17.9%\n",
      "\tseconds to predict valid: 26.0 seconds\n"
     ]
    },
    {
     "name": "stderr",
     "output_type": "stream",
     "text": [
      "c:\\Users\\matth\\anaconda3\\lib\\site-packages\\sklearn\\neural_network\\_multilayer_perceptron.py:614: ConvergenceWarning: Stochastic Optimizer: Maximum iterations (100) reached and the optimization hasn't converged yet.\n",
      "  warnings.warn(\n",
      "c:\\Users\\matth\\anaconda3\\lib\\site-packages\\sklearn\\metrics\\_classification.py:1248: UndefinedMetricWarning: Precision is ill-defined and being set to 0.0 due to no predicted samples. Use `zero_division` parameter to control this behavior.\n",
      "  _warn_prf(average, modifier, msg_start, len(result))\n"
     ]
    },
    {
     "name": "stdout",
     "output_type": "stream",
     "text": [
      "\n",
      "neural net with (100, 25) layers, logistic activation, 0.01 alpha, 100 max iternations, and sgd type of solver\n",
      "\taccuracy on valid: 81.6%\n",
      "\tprecision on valid: 0.0%\n",
      "\trecall on valid: 0.0%\n",
      "\tf1 on valid: 0.0%\n",
      "\tseconds to predict valid: 19.1 seconds\n",
      "\n",
      "neural net with (100, 25) layers, logistic activation, 0.01 alpha, 100 max iternations, and adam type of solver\n",
      "\taccuracy on valid: 82.2%\n",
      "\tprecision on valid: 62.1%\n",
      "\trecall on valid: 8.7%\n",
      "\tf1 on valid: 15.2%\n",
      "\tseconds to predict valid: 17.2 seconds\n"
     ]
    },
    {
     "name": "stderr",
     "output_type": "stream",
     "text": [
      "c:\\Users\\matth\\anaconda3\\lib\\site-packages\\sklearn\\metrics\\_classification.py:1248: UndefinedMetricWarning: Precision is ill-defined and being set to 0.0 due to no predicted samples. Use `zero_division` parameter to control this behavior.\n",
      "  _warn_prf(average, modifier, msg_start, len(result))\n"
     ]
    },
    {
     "name": "stdout",
     "output_type": "stream",
     "text": [
      "\n",
      "neural net with (100, 25) layers, logistic activation, 0.01 alpha, 200 max iternations, and sgd type of solver\n",
      "\taccuracy on valid: 81.6%\n",
      "\tprecision on valid: 0.0%\n",
      "\trecall on valid: 0.0%\n",
      "\tf1 on valid: 0.0%\n",
      "\tseconds to predict valid: 25.1 seconds\n",
      "\n",
      "neural net with (100, 25) layers, logistic activation, 0.01 alpha, 200 max iternations, and adam type of solver\n",
      "\taccuracy on valid: 82.2%\n",
      "\tprecision on valid: 62.1%\n",
      "\trecall on valid: 8.7%\n",
      "\tf1 on valid: 15.2%\n",
      "\tseconds to predict valid: 17.0 seconds\n"
     ]
    },
    {
     "name": "stderr",
     "output_type": "stream",
     "text": [
      "c:\\Users\\matth\\anaconda3\\lib\\site-packages\\sklearn\\metrics\\_classification.py:1248: UndefinedMetricWarning: Precision is ill-defined and being set to 0.0 due to no predicted samples. Use `zero_division` parameter to control this behavior.\n",
      "  _warn_prf(average, modifier, msg_start, len(result))\n"
     ]
    },
    {
     "name": "stdout",
     "output_type": "stream",
     "text": [
      "\n",
      "neural net with (100, 25) layers, logistic activation, 0.01 alpha, 500 max iternations, and sgd type of solver\n",
      "\taccuracy on valid: 81.6%\n",
      "\tprecision on valid: 0.0%\n",
      "\trecall on valid: 0.0%\n",
      "\tf1 on valid: 0.0%\n",
      "\tseconds to predict valid: 25.2 seconds\n",
      "\n",
      "neural net with (100, 25) layers, logistic activation, 0.01 alpha, 500 max iternations, and adam type of solver\n",
      "\taccuracy on valid: 82.2%\n",
      "\tprecision on valid: 62.1%\n",
      "\trecall on valid: 8.7%\n",
      "\tf1 on valid: 15.2%\n",
      "\tseconds to predict valid: 17.6 seconds\n"
     ]
    }
   ],
   "source": [
    "### Model 4-Neural Net ###\n",
    "nn_times = []\n",
    "nn_accuracy_scores = []\n",
    "nn_precision_scores = []\n",
    "nn_recall_scores = []\n",
    "nn_f1_scores = []\n",
    "for layers in [(100,50,25), (10, 5, 2), (25, 25, 25), (10, 9, 8), (10, 5), (100, 25)]:\n",
    "    for active_func in ['relu', 'tanh', 'logistic']:\n",
    "        for alpha_val in [0.0001, 0.001, .01]:\n",
    "            for max_iterations in [100, 200, 500]:\n",
    "                for type_of_solver in ['sgd', 'adam']:\n",
    "                    start_time = time.time()\n",
    "                    if type_of_solver == 'sgd':\n",
    "                        clf = MLPClassifier(hidden_layer_sizes = layers,\n",
    "                                            activation = active_func,\n",
    "                                            alpha = alpha_val,\n",
    "                                            solver = type_of_solver,\n",
    "                                            learning_rate = 'adaptive',\n",
    "                                            max_iter = max_iterations,\n",
    "                                            shuffle = True,\n",
    "                                            random_state=1).fit(X_train, y_train)\n",
    "                    if type_of_solver == 'adam':\n",
    "                        clf = MLPClassifier(hidden_layer_sizes = layers,\n",
    "                                            activation = active_func,\n",
    "                                            alpha = alpha_val,\n",
    "                                            solver = type_of_solver,\n",
    "                                            max_iter = max_iterations,\n",
    "                                            shuffle = True,\n",
    "                                            random_state=1).fit(X_train, y_train)\n",
    "                    y_predict = clf.predict(X_valid)\n",
    "\n",
    "                    nn_time = time.time() - start_time\n",
    "                    nn_accuracy = accuracy_score(y_valid, y_predict)\n",
    "                    nn_precision = precision_score(y_valid, y_predict)\n",
    "                    nn_recall = recall_score(y_valid, y_predict)\n",
    "                    nn_f1 = f1_score(y_valid, y_predict)\n",
    "\n",
    "                    nn_times.append(nn_time)\n",
    "                    nn_accuracy_scores.append(nn_accuracy)\n",
    "                    nn_precision_scores.append(nn_precision)\n",
    "                    nn_recall_scores.append(nn_recall)\n",
    "                    nn_f1_scores.append(nn_f1)\n",
    "\n",
    "                    print(f\"\\nneural net with {layers} layers, {active_func} activation, {alpha_val} alpha, {max_iterations} max iternations, and {type_of_solver} solver method\")\n",
    "                    print(f\"\\taccuracy on valid: {nn_accuracy*100:.1f}%\")\n",
    "                    print(f\"\\tprecision on valid: {nn_precision*100:.1f}%\")\n",
    "                    print(f\"\\trecall on valid: {nn_recall*100:.1f}%\")\n",
    "                    print(f\"\\tf1 on valid: {nn_f1*100:.1f}%\")\n",
    "                    print(f'\\tseconds to predict valid: {nn_time:.1f} seconds')\n"
   ]
  },
  {
   "cell_type": "code",
   "execution_count": 10,
   "metadata": {},
   "outputs": [
    {
     "name": "stdout",
     "output_type": "stream",
     "text": [
      "\n",
      "Ada accuracy with learning rate of 0.01 and number estimators 100:\n",
      "\taccuracy on valid: 82.8%\n",
      "\tprecision on valid: 100.0%\n",
      "\trecall on valid: 6.8%\n",
      "\tf1 on valid: 12.7%\n",
      "\tseconds to predict valid: 1344.7 seconds\n",
      "\n",
      "Ada accuracy with learning rate of 0.01 and number estimators 200:\n",
      "\taccuracy on valid: 82.8%\n",
      "\tprecision on valid: 100.0%\n",
      "\trecall on valid: 6.8%\n",
      "\tf1 on valid: 12.7%\n",
      "\tseconds to predict valid: 1353.3 seconds\n",
      "\n",
      "Ada accuracy with learning rate of 0.01 and number estimators 500:\n",
      "\taccuracy on valid: 82.8%\n",
      "\tprecision on valid: 100.0%\n",
      "\trecall on valid: 6.8%\n",
      "\tf1 on valid: 12.7%\n",
      "\tseconds to predict valid: 1373.9 seconds\n",
      "\n",
      "Ada accuracy with learning rate of 0.01 and number estimators 1000:\n",
      "\taccuracy on valid: 83.1%\n",
      "\tprecision on valid: 83.1%\n",
      "\trecall on valid: 10.1%\n",
      "\tf1 on valid: 18.1%\n",
      "\tseconds to predict valid: 1422.0 seconds\n",
      "\n",
      "Ada accuracy with learning rate of 0.05 and number estimators 100:\n",
      "\taccuracy on valid: 82.8%\n",
      "\tprecision on valid: 100.0%\n",
      "\trecall on valid: 6.8%\n",
      "\tf1 on valid: 12.7%\n",
      "\tseconds to predict valid: 1426.2 seconds\n",
      "\n",
      "Ada accuracy with learning rate of 0.05 and number estimators 200:\n",
      "\taccuracy on valid: 83.0%\n",
      "\tprecision on valid: 81.6%\n",
      "\trecall on valid: 10.2%\n",
      "\tf1 on valid: 18.2%\n",
      "\tseconds to predict valid: 1434.3 seconds\n",
      "\n",
      "Ada accuracy with learning rate of 0.05 and number estimators 500:\n",
      "\taccuracy on valid: 83.2%\n",
      "\tprecision on valid: 72.6%\n",
      "\trecall on valid: 14.0%\n",
      "\tf1 on valid: 23.5%\n",
      "\tseconds to predict valid: 1454.5 seconds\n",
      "\n",
      "Ada accuracy with learning rate of 0.05 and number estimators 1000:\n",
      "\taccuracy on valid: 83.4%\n",
      "\tprecision on valid: 71.7%\n",
      "\trecall on valid: 15.9%\n",
      "\tf1 on valid: 26.0%\n",
      "\tseconds to predict valid: 1492.0 seconds\n",
      "\n",
      "Ada accuracy with learning rate of 0.1 and number estimators 100:\n",
      "\taccuracy on valid: 83.1%\n",
      "\tprecision on valid: 81.3%\n",
      "\trecall on valid: 10.4%\n",
      "\tf1 on valid: 18.4%\n",
      "\tseconds to predict valid: 1495.9 seconds\n",
      "\n",
      "Ada accuracy with learning rate of 0.1 and number estimators 200:\n",
      "\taccuracy on valid: 83.3%\n",
      "\tprecision on valid: 74.8%\n",
      "\trecall on valid: 13.7%\n",
      "\tf1 on valid: 23.1%\n",
      "\tseconds to predict valid: 1503.7 seconds\n",
      "\n",
      "Ada accuracy with learning rate of 0.1 and number estimators 500:\n",
      "\taccuracy on valid: 83.4%\n",
      "\tprecision on valid: 72.1%\n",
      "\trecall on valid: 16.0%\n",
      "\tf1 on valid: 26.2%\n",
      "\tseconds to predict valid: 1523.4 seconds\n",
      "\n",
      "Ada accuracy with learning rate of 0.1 and number estimators 1000:\n",
      "\taccuracy on valid: 83.4%\n",
      "\tprecision on valid: 70.1%\n",
      "\trecall on valid: 17.0%\n",
      "\tf1 on valid: 27.3%\n",
      "\tseconds to predict valid: 1561.9 seconds\n",
      "\n",
      "Ada accuracy with learning rate of 0.2 and number estimators 100:\n",
      "\taccuracy on valid: 83.3%\n",
      "\tprecision on valid: 74.3%\n",
      "\trecall on valid: 13.8%\n",
      "\tf1 on valid: 23.3%\n",
      "\tseconds to predict valid: 1565.7 seconds\n",
      "\n",
      "Ada accuracy with learning rate of 0.2 and number estimators 200:\n",
      "\taccuracy on valid: 83.3%\n",
      "\tprecision on valid: 71.2%\n",
      "\trecall on valid: 15.7%\n",
      "\tf1 on valid: 25.7%\n",
      "\tseconds to predict valid: 1573.7 seconds\n",
      "\n",
      "Ada accuracy with learning rate of 0.2 and number estimators 500:\n",
      "\taccuracy on valid: 83.4%\n",
      "\tprecision on valid: 70.0%\n",
      "\trecall on valid: 16.9%\n",
      "\tf1 on valid: 27.2%\n",
      "\tseconds to predict valid: 1594.9 seconds\n",
      "\n",
      "Ada accuracy with learning rate of 0.2 and number estimators 1000:\n",
      "\taccuracy on valid: 83.3%\n",
      "\tprecision on valid: 68.7%\n",
      "\trecall on valid: 17.4%\n",
      "\tf1 on valid: 27.8%\n",
      "\tseconds to predict valid: 1637.7 seconds\n"
     ]
    }
   ],
   "source": [
    "### Model 5-Ada Boost ###\n",
    "ada_boost_times = []\n",
    "ada_boost_accuracy_scores = []\n",
    "ada_boost_precision_scores = []\n",
    "ada_boost_recall_scores = []\n",
    "ada_boost_f1_scores = []\n",
    "for learning_rate in [0.01, .05, 0.1, 0.2]:\n",
    "    for n in [100, 200, 500, 1000]:\n",
    "        ada_boost = AdaBoostClassifier(n_estimators=n, learning_rate=learning_rate, algorithm='SAMME.R', random_state=1).fit(X_train, y_train)\n",
    "        y_predict = ada_boost.predict(X_valid)\n",
    "\n",
    "        ada_boost_time = time.time() - start_time\n",
    "        ada_boost_accuracy = accuracy_score(y_valid, y_predict)\n",
    "        ada_boost_precision = precision_score(y_valid, y_predict)\n",
    "        ada_boost_recall = recall_score(y_valid, y_predict)\n",
    "        ada_boost_f1 = f1_score(y_valid, y_predict)\n",
    "\n",
    "        ada_boost_times.append(ada_boost_time)\n",
    "        ada_boost_accuracy_scores.append(ada_boost_accuracy)\n",
    "        ada_boost_precision_scores.append(ada_boost_precision)\n",
    "        ada_boost_recall_scores.append(ada_boost_recall)\n",
    "        ada_boost_f1_scores.append(ada_boost_f1)\n",
    "\n",
    "        print(f\"\\nAda accuracy with learning rate of {learning_rate} and number estimators {n}:\")\n",
    "        print(f\"\\taccuracy on valid: {ada_boost_accuracy*100:.1f}%\")\n",
    "        print(f\"\\tprecision on valid: {ada_boost_precision*100:.1f}%\")\n",
    "        print(f\"\\trecall on valid: {ada_boost_recall*100:.1f}%\")\n",
    "        print(f\"\\tf1 on valid: {ada_boost_f1*100:.1f}%\")\n",
    "        print(f'\\tseconds to predict valid: {ada_boost_time:.1f} seconds')"
   ]
  },
  {
   "cell_type": "code",
   "execution_count": 13,
   "metadata": {},
   "outputs": [],
   "source": [
    "# Write nn lists to csv so we don't have to run this again\n",
    "with open('valid_nn_info.csv', 'w') as f:\n",
    "    write = csv.writer(f)\n",
    "    write.writerow(nn_times)\n",
    "    write.writerow(nn_accuracy_scores)\n",
    "    write.writerow(nn_precision_scores)\n",
    "    write.writerow(nn_recall_scores)\n",
    "    write.writerow(nn_f1_scores)\n",
    "\n",
    "with open('valid_ada_boost_info.csv', 'w') as f:\n",
    "    write = csv.writer(f)\n",
    "    write.writerow(ada_boost_times)\n",
    "    write.writerow(ada_boost_accuracy_scores)\n",
    "    write.writerow(ada_boost_precision_scores)\n",
    "    write.writerow(ada_boost_recall_scores)\n",
    "    write.writerow(ada_boost_f1_scores)"
   ]
  },
  {
   "cell_type": "code",
   "execution_count": 54,
   "metadata": {},
   "outputs": [
    {
     "data": {
      "image/png": "[encoded data removed]",
      "text/plain": [
       "<Figure size 1440x720 with 1 Axes>"
      ]
     },
     "metadata": {
      "needs_background": "light"
     },
     "output_type": "display_data"
    },
    {
     "data": {
      "image/png": "[encoded data removed]",
      "text/plain": [
       "<Figure size 1440x720 with 1 Axes>"
      ]
     },
     "metadata": {
      "needs_background": "light"
     },
     "output_type": "display_data"
    }
   ],
   "source": [
    "# Let's graph the range of models associated with accuracy\n",
    "barwidth = 0.25\n",
    "n = 6\n",
    "x = np.arange(n)\n",
    "minimums_accuracy = [baseline_majority_accuracy_valid, log_reg_accuracy, decision_tree_accuracy, min(random_forest_accuracy_scores), min(nn_accuracy_scores), min(ada_boost_accuracy_scores)]\n",
    "maximums_accuracy = [baseline_majority_accuracy_valid, log_reg_accuracy, decision_tree_accuracy, max(random_forest_accuracy_scores), max(nn_accuracy_scores), max(ada_boost_accuracy_scores)]\n",
    "time_associated_with_min_accuracy = [log_reg_time, decision_tree_time, \n",
    "                                   random_forest_times[random_forest_accuracy_scores.index(min(random_forest_accuracy_scores))],\n",
    "                                   nn_times[nn_accuracy_scores.index(min(nn_accuracy_scores))],\n",
    "                                   ada_boost_times[ada_boost_accuracy_scores.index(min(ada_boost_accuracy_scores))]]\n",
    "time_associated_with_max_accuracy = [log_reg_time, decision_tree_time, \n",
    "                                   random_forest_times[random_forest_accuracy_scores.index(max(random_forest_accuracy_scores))],\n",
    "                                   nn_times[nn_accuracy_scores.index(max(nn_accuracy_scores))],\n",
    "                                   ada_boost_times[ada_boost_accuracy_scores.index(max(ada_boost_accuracy_scores))]]\n",
    "fig = plt.subplots(figsize=(20,10))\n",
    "br1 = x\n",
    "br2 = [x + barwidth for x in br1]\n",
    "plt.bar(br1, minimums_accuracy, width=barwidth, color='grey', label='min accuracy')\n",
    "plt.bar(br2, maximums_accuracy, width=barwidth, color='steelblue', label='max accuracy')\n",
    "plt.ylabel('Best and worst accuracy model')\n",
    "plt.title('Comparing accuracy across model types')\n",
    "plt.yticks(np.arange(0, 1.01, 0.05))\n",
    "plt.xticks(x, ('baseline acc (1 run)', 'logistic (1 run)', 'decision tree (1 run)', 'random forest', 'neural net', 'ada boost'))\n",
    "plt.legend()\n",
    "plt.show()\n",
    "\n",
    "n = 5\n",
    "x = np.arange(n)\n",
    "fig = plt.subplots(figsize=(20,10))\n",
    "br1 = x\n",
    "br2 = [x + barwidth for x in br1]\n",
    "plt.bar(br1, time_associated_with_min_accuracy, width=barwidth, color='grey', label='time associated with min performance')\n",
    "plt.bar(br2, time_associated_with_max_accuracy, width=barwidth, color='steelblue', label='time associated with max performance')\n",
    "plt.ylabel('Best and worst accuracy model time to run')\n",
    "plt.title('Comparing time to run for best and worst accuracy across model types')\n",
    "plt.xticks(x, ('logistic (1 run)', 'decision tree (1 run)', 'random forest', 'neural net', 'ada boost'))\n",
    "plt.legend()\n",
    "plt.show()\n"
   ]
  },
  {
   "cell_type": "code",
   "execution_count": 60,
   "metadata": {},
   "outputs": [
    {
     "data": {
      "image/png": "[encoded data removed]",
      "text/plain": [
       "<Figure size 1440x720 with 1 Axes>"
      ]
     },
     "metadata": {
      "needs_background": "light"
     },
     "output_type": "display_data"
    },
    {
     "data": {
      "image/png": "[encoded data removed]",
      "text/plain": [
       "<Figure size 1440x720 with 1 Axes>"
      ]
     },
     "metadata": {
      "needs_background": "light"
     },
     "output_type": "display_data"
    }
   ],
   "source": [
    "# Let's graph the range of models associated with recall\n",
    "barwidth = 0.25\n",
    "n = 6\n",
    "x = np.arange(n)\n",
    "minimums_recall = [baseline_majority_accuracy_valid, log_reg_recall, decision_tree_recall, min(random_forest_recall_scores), min(nn_recall_scores), min(ada_boost_recall_scores)]\n",
    "maximums_recall = [baseline_majority_accuracy_valid, log_reg_recall, decision_tree_recall, max(random_forest_recall_scores), max(nn_recall_scores), max(ada_boost_recall_scores)]\n",
    "time_associated_with_min_recall = [log_reg_time, decision_tree_time, \n",
    "                                   random_forest_times[random_forest_recall_scores.index(min(random_forest_recall_scores))],\n",
    "                                   nn_times[nn_recall_scores.index(min(nn_recall_scores))],\n",
    "                                   ada_boost_times[ada_boost_recall_scores.index(min(ada_boost_recall_scores))]]\n",
    "time_associated_with_max_recall = [log_reg_time, decision_tree_time, \n",
    "                                   random_forest_times[random_forest_recall_scores.index(max(random_forest_recall_scores))],\n",
    "                                   nn_times[nn_recall_scores.index(max(nn_recall_scores))],\n",
    "                                   ada_boost_times[ada_boost_recall_scores.index(max(ada_boost_recall_scores))]]\n",
    "fig = plt.subplots(figsize=(20,10))\n",
    "br1 = x\n",
    "br2 = [x + barwidth for x in br1]\n",
    "plt.bar(br1, minimums_recall, width=barwidth, color='grey', label='min recall')\n",
    "plt.bar(br2, maximums_recall, width=barwidth, color='steelblue', label='max recall')\n",
    "plt.ylabel('Best and worst recall model')\n",
    "plt.title('Comparing recall across model types')\n",
    "plt.yticks(np.arange(0, 0.41, 0.05))\n",
    "plt.xticks(x, ('baseline acc (1 run)', 'logistic (1 run)', 'decision tree (1 run)', 'random forest', 'neural net', 'ada boost'))\n",
    "plt.legend()\n",
    "plt.show()\n",
    "\n",
    "n = 5\n",
    "x = np.arange(n)\n",
    "fig = plt.subplots(figsize=(20,10))\n",
    "br1 = x\n",
    "br2 = [x + barwidth for x in br1]\n",
    "plt.bar(br1, time_associated_with_min_recall, width=barwidth, color='grey', label='time associated with min performance')\n",
    "plt.bar(br2, time_associated_with_max_recall, width=barwidth, color='steelblue', label='time associated with max performance')\n",
    "plt.ylabel('Best and worst recall model time to run')\n",
    "plt.title('Comparing time to run for best and worst recall across model types')\n",
    "plt.xticks(x, ('logistic (1 run)', 'decision tree (1 run)', 'random forest', 'neural net', 'ada boost'))\n",
    "plt.legend()\n",
    "plt.show()\n"
   ]
  },
  {
   "cell_type": "code",
   "execution_count": 65,
   "metadata": {},
   "outputs": [
    {
     "data": {
      "image/png": "[encoded data removed]",
      "text/plain": [
       "<Figure size 1440x720 with 1 Axes>"
      ]
     },
     "metadata": {
      "needs_background": "light"
     },
     "output_type": "display_data"
    },
    {
     "data": {
      "image/png": "[encoded data removed]",
      "text/plain": [
       "<Figure size 1440x720 with 1 Axes>"
      ]
     },
     "metadata": {
      "needs_background": "light"
     },
     "output_type": "display_data"
    }
   ],
   "source": [
    "# Let's graph the range of models associated with precision\n",
    "barwidth = 0.25\n",
    "n = 6\n",
    "x = np.arange(n)\n",
    "minimums_precision = [baseline_majority_accuracy_valid, log_reg_precision, decision_tree_precision, min(random_forest_precision_scores), min(nn_precision_scores), min(ada_boost_precision_scores)]\n",
    "maximums_precision = [baseline_majority_accuracy_valid, log_reg_precision, decision_tree_precision, max(random_forest_precision_scores), max(nn_precision_scores), max(ada_boost_precision_scores)]\n",
    "time_associated_with_min_precision = [log_reg_time, decision_tree_time, \n",
    "                                   random_forest_times[random_forest_precision_scores.index(min(random_forest_precision_scores))],\n",
    "                                   nn_times[nn_precision_scores.index(min(nn_precision_scores))],\n",
    "                                   ada_boost_times[ada_boost_precision_scores.index(min(ada_boost_precision_scores))]]\n",
    "time_associated_with_max_precision = [log_reg_time, decision_tree_time, \n",
    "                                   random_forest_times[random_forest_precision_scores.index(max(random_forest_precision_scores))],\n",
    "                                   nn_times[nn_precision_scores.index(max(nn_precision_scores))],\n",
    "                                   ada_boost_times[ada_boost_precision_scores.index(max(ada_boost_precision_scores))]]\n",
    "fig = plt.subplots(figsize=(20,10))\n",
    "br1 = x\n",
    "br2 = [x + barwidth for x in br1]\n",
    "plt.bar(br1, minimums_precision, width=barwidth, color='grey', label='min precision')\n",
    "plt.bar(br2, maximums_precision, width=barwidth, color='steelblue', label='max precision')\n",
    "plt.ylabel('Best and worst precision model')\n",
    "plt.title('Comparing precision across model types')\n",
    "plt.yticks(np.arange(0, 1.01, 0.05))\n",
    "plt.xticks(x, ('baseline acc (1 run)', 'logistic (1 run)', 'decision tree (1 run)', 'random forest', 'neural net', 'ada boost'))\n",
    "plt.legend()\n",
    "plt.show()\n",
    "\n",
    "n = 5\n",
    "x = np.arange(n)\n",
    "fig = plt.subplots(figsize=(20,10))\n",
    "br1 = x\n",
    "br2 = [x + barwidth for x in br1]\n",
    "plt.bar(br1, time_associated_with_min_precision, width=barwidth, color='grey', label='time associated with min performance')\n",
    "plt.bar(br2, time_associated_with_max_precision, width=barwidth, color='steelblue', label='time associated with max performance')\n",
    "plt.ylabel('Best and worst precision model time to run')\n",
    "plt.title('Comparing time to run for best and worst precision across model types')\n",
    "plt.xticks(x, ('logistic (1 run)', 'decision tree (1 run)', 'random forest', 'neural net', 'ada boost'))\n",
    "plt.legend()\n",
    "plt.show()\n"
   ]
  },
  {
   "cell_type": "code",
   "execution_count": 67,
   "metadata": {},
   "outputs": [
    {
     "data": {
      "image/png": "[encoded data removed]",
      "text/plain": [
       "<Figure size 1440x720 with 1 Axes>"
      ]
     },
     "metadata": {
      "needs_background": "light"
     },
     "output_type": "display_data"
    },
    {
     "data": {
      "image/png": "[encoded data removed]",
      "text/plain": [
       "<Figure size 1440x720 with 1 Axes>"
      ]
     },
     "metadata": {
      "needs_background": "light"
     },
     "output_type": "display_data"
    }
   ],
   "source": [
    "# Let's graph the range of models associated with f1\n",
    "barwidth = 0.25\n",
    "n = 6\n",
    "x = np.arange(n)\n",
    "minimums_f1 = [baseline_majority_accuracy_valid, log_reg_f1, decision_tree_f1, min(random_forest_f1_scores), min(nn_f1_scores), min(ada_boost_f1_scores)]\n",
    "maximums_f1 = [baseline_majority_accuracy_valid, log_reg_f1, decision_tree_f1, max(random_forest_f1_scores), max(nn_f1_scores), max(ada_boost_f1_scores)]\n",
    "time_associated_with_min_f1 = [log_reg_time, decision_tree_time, \n",
    "                                   random_forest_times[random_forest_f1_scores.index(min(random_forest_f1_scores))],\n",
    "                                   nn_times[nn_f1_scores.index(min(nn_f1_scores))],\n",
    "                                   ada_boost_times[ada_boost_f1_scores.index(min(ada_boost_f1_scores))]]\n",
    "time_associated_with_max_f1 = [log_reg_time, decision_tree_time, \n",
    "                                   random_forest_times[random_forest_f1_scores.index(max(random_forest_f1_scores))],\n",
    "                                   nn_times[nn_f1_scores.index(max(nn_f1_scores))],\n",
    "                                   ada_boost_times[ada_boost_f1_scores.index(max(ada_boost_f1_scores))]]\n",
    "fig = plt.subplots(figsize=(20,10))\n",
    "br1 = x\n",
    "br2 = [x + barwidth for x in br1]\n",
    "plt.bar(br1, minimums_f1, width=barwidth, color='grey', label='min precision')\n",
    "plt.bar(br2, maximums_f1, width=barwidth, color='steelblue', label='max precision')\n",
    "plt.ylabel('Best and worst f1 model')\n",
    "plt.title('Comparing f1 across model types')\n",
    "plt.yticks(np.arange(0, 0.41, 0.05))\n",
    "plt.xticks(x, ('baseline acc (1 run)', 'logistic (1 run)', 'decision tree (1 run)', 'random forest', 'neural net', 'ada boost'))\n",
    "plt.legend()\n",
    "plt.show()\n",
    "\n",
    "n = 5\n",
    "x = np.arange(n)\n",
    "fig = plt.subplots(figsize=(20,10))\n",
    "br1 = x\n",
    "br2 = [x + barwidth for x in br1]\n",
    "plt.bar(br1, time_associated_with_min_f1, width=barwidth, color='grey', label='time associated with min performance')\n",
    "plt.bar(br2, time_associated_with_max_f1, width=barwidth, color='steelblue', label='time associated with max performance')\n",
    "plt.ylabel('Best and worst f1 model time to run')\n",
    "plt.title('Comparing time to run for best and worst f1 across model types')\n",
    "plt.xticks(x, ('logistic (1 run)', 'decision tree (1 run)', 'random forest', 'neural net', 'ada boost'))\n",
    "plt.legend()\n",
    "plt.show()\n"
   ]
  },
  {
   "cell_type": "code",
   "execution_count": null,
   "metadata": {},
   "outputs": [],
   "source": [
    "# Pick best one and run for y_test for each"
   ]
  }
 ],
 "metadata": {
  "interpreter": {
   "hash": "aaa4e27cc958bf62ca052de7225fbf65095eaa201d1da4b8bece64389f105fcc"
  },
  "kernelspec": {
   "display_name": "Python 3.9.7 ('base')",
   "language": "python",
   "name": "python3"
  },
  "language_info": {
   "codemirror_mode": {
    "name": "ipython",
    "version": 3
   },
   "file_extension": ".py",
   "mimetype": "text/x-python",
   "name": "python",
   "nbconvert_exporter": "python",
   "pygments_lexer": "ipython3",
   "version": "3.9.7"
  }
 },
 "nbformat": 4,
 "nbformat_minor": 2
}
