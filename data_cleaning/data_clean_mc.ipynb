{
 "cells": [
  {
   "cell_type": "markdown",
   "metadata": {},
   "source": [
    "# Data Cleaning: MEPS Medical Conditions Data (2014-2019)"
   ]
  },
  {
   "cell_type": "markdown",
   "metadata": {},
   "source": [
    "## Import packages and read data"
   ]
  },
  {
   "cell_type": "code",
   "execution_count": 1,
   "metadata": {},
   "outputs": [],
   "source": [
    "# Import statements\n",
    "import pandas as pd\n",
    "import numpy as np\n",
    "\n",
    "# To show all lines of output\n",
    "from IPython.core.interactiveshell import InteractiveShell\n",
    "InteractiveShell.ast_node_interactivity = \"all\""
   ]
  },
  {
   "cell_type": "code",
   "execution_count": 80,
   "metadata": {},
   "outputs": [],
   "source": [
    "# Reading in the data\n",
    "data_to_read = ['MC_14.csv', 'MC_15.csv', 'MC_16.csv', 'MC_17.csv', 'MC_18.csv', 'MC_19.csv']\n",
    "years_to_read = ['2014', '2015', '2016', '2017', '2018', '2019']\n",
    "mc_cols = ['DUPERSID', 'CONDN', 'INJURY']"
   ]
  },
  {
   "cell_type": "markdown",
   "metadata": {},
   "source": [
    "## View one data year"
   ]
  },
  {
   "cell_type": "code",
   "execution_count": 105,
   "metadata": {},
   "outputs": [],
   "source": [
    "data_raw = pd.read_csv('MC/MC_19.csv')"
   ]
  },
  {
   "cell_type": "code",
   "execution_count": 106,
   "metadata": {},
   "outputs": [
    {
     "data": {
      "text/html": [
       "<div>\n",
       "<style scoped>\n",
       "    .dataframe tbody tr th:only-of-type {\n",
       "        vertical-align: middle;\n",
       "    }\n",
       "\n",
       "    .dataframe tbody tr th {\n",
       "        vertical-align: top;\n",
       "    }\n",
       "\n",
       "    .dataframe thead th {\n",
       "        text-align: right;\n",
       "    }\n",
       "</style>\n",
       "<table border=\"1\" class=\"dataframe\">\n",
       "  <thead>\n",
       "    <tr style=\"text-align: right;\">\n",
       "      <th></th>\n",
       "      <th>DUID</th>\n",
       "      <th>PID</th>\n",
       "      <th>DUPERSID</th>\n",
       "      <th>CONDN</th>\n",
       "      <th>CONDIDX</th>\n",
       "      <th>HHNUM</th>\n",
       "      <th>IPNUM</th>\n",
       "      <th>OPNUM</th>\n",
       "      <th>OBNUM</th>\n",
       "      <th>ERNUM</th>\n",
       "      <th>RXNUM</th>\n",
       "      <th>PERWT_YEARF</th>\n",
       "      <th>VARSTR</th>\n",
       "      <th>VARPSU</th>\n",
       "      <th>year</th>\n",
       "    </tr>\n",
       "  </thead>\n",
       "  <tbody>\n",
       "    <tr>\n",
       "      <th>count</th>\n",
       "      <td>8.756100e+04</td>\n",
       "      <td>87561.000000</td>\n",
       "      <td>8.756100e+04</td>\n",
       "      <td>87561.000000</td>\n",
       "      <td>8.756100e+04</td>\n",
       "      <td>87561.000000</td>\n",
       "      <td>87561.000000</td>\n",
       "      <td>87561.000000</td>\n",
       "      <td>87561.000000</td>\n",
       "      <td>87561.000000</td>\n",
       "      <td>87561.000000</td>\n",
       "      <td>87561.000000</td>\n",
       "      <td>87561.000000</td>\n",
       "      <td>87561.000000</td>\n",
       "      <td>87561.0</td>\n",
       "    </tr>\n",
       "    <tr>\n",
       "      <th>mean</th>\n",
       "      <td>2.391797e+06</td>\n",
       "      <td>102.762588</td>\n",
       "      <td>2.391797e+09</td>\n",
       "      <td>6.187252</td>\n",
       "      <td>2.391797e+12</td>\n",
       "      <td>0.173742</td>\n",
       "      <td>0.040223</td>\n",
       "      <td>0.264970</td>\n",
       "      <td>2.302395</td>\n",
       "      <td>0.079864</td>\n",
       "      <td>1.626375</td>\n",
       "      <td>10934.329965</td>\n",
       "      <td>2055.463563</td>\n",
       "      <td>1.851772</td>\n",
       "      <td>19.0</td>\n",
       "    </tr>\n",
       "    <tr>\n",
       "      <th>std</th>\n",
       "      <td>6.995006e+04</td>\n",
       "      <td>12.319195</td>\n",
       "      <td>6.995006e+07</td>\n",
       "      <td>5.334625</td>\n",
       "      <td>6.995006e+10</td>\n",
       "      <td>1.237583</td>\n",
       "      <td>0.232921</td>\n",
       "      <td>2.093283</td>\n",
       "      <td>7.488539</td>\n",
       "      <td>0.348568</td>\n",
       "      <td>2.198368</td>\n",
       "      <td>6711.337645</td>\n",
       "      <td>33.712282</td>\n",
       "      <td>0.904541</td>\n",
       "      <td>0.0</td>\n",
       "    </tr>\n",
       "    <tr>\n",
       "      <th>min</th>\n",
       "      <td>2.320002e+06</td>\n",
       "      <td>101.000000</td>\n",
       "      <td>2.320002e+09</td>\n",
       "      <td>1.000000</td>\n",
       "      <td>2.320002e+12</td>\n",
       "      <td>0.000000</td>\n",
       "      <td>0.000000</td>\n",
       "      <td>0.000000</td>\n",
       "      <td>0.000000</td>\n",
       "      <td>0.000000</td>\n",
       "      <td>0.000000</td>\n",
       "      <td>0.000000</td>\n",
       "      <td>2001.000000</td>\n",
       "      <td>1.000000</td>\n",
       "      <td>19.0</td>\n",
       "    </tr>\n",
       "    <tr>\n",
       "      <th>25%</th>\n",
       "      <td>2.324788e+06</td>\n",
       "      <td>101.000000</td>\n",
       "      <td>2.324788e+09</td>\n",
       "      <td>2.000000</td>\n",
       "      <td>2.324788e+12</td>\n",
       "      <td>0.000000</td>\n",
       "      <td>0.000000</td>\n",
       "      <td>0.000000</td>\n",
       "      <td>0.000000</td>\n",
       "      <td>0.000000</td>\n",
       "      <td>0.000000</td>\n",
       "      <td>6640.465438</td>\n",
       "      <td>2026.000000</td>\n",
       "      <td>1.000000</td>\n",
       "      <td>19.0</td>\n",
       "    </tr>\n",
       "    <tr>\n",
       "      <th>50%</th>\n",
       "      <td>2.329271e+06</td>\n",
       "      <td>101.000000</td>\n",
       "      <td>2.329271e+09</td>\n",
       "      <td>5.000000</td>\n",
       "      <td>2.329271e+12</td>\n",
       "      <td>0.000000</td>\n",
       "      <td>0.000000</td>\n",
       "      <td>0.000000</td>\n",
       "      <td>1.000000</td>\n",
       "      <td>0.000000</td>\n",
       "      <td>1.000000</td>\n",
       "      <td>9564.524517</td>\n",
       "      <td>2052.000000</td>\n",
       "      <td>2.000000</td>\n",
       "      <td>19.0</td>\n",
       "    </tr>\n",
       "    <tr>\n",
       "      <th>75%</th>\n",
       "      <td>2.464603e+06</td>\n",
       "      <td>102.000000</td>\n",
       "      <td>2.464603e+09</td>\n",
       "      <td>8.000000</td>\n",
       "      <td>2.464603e+12</td>\n",
       "      <td>0.000000</td>\n",
       "      <td>0.000000</td>\n",
       "      <td>0.000000</td>\n",
       "      <td>2.000000</td>\n",
       "      <td>0.000000</td>\n",
       "      <td>2.000000</td>\n",
       "      <td>13629.531798</td>\n",
       "      <td>2084.000000</td>\n",
       "      <td>2.000000</td>\n",
       "      <td>19.0</td>\n",
       "    </tr>\n",
       "    <tr>\n",
       "      <th>max</th>\n",
       "      <td>2.469689e+06</td>\n",
       "      <td>503.000000</td>\n",
       "      <td>2.469689e+09</td>\n",
       "      <td>54.000000</td>\n",
       "      <td>2.469689e+12</td>\n",
       "      <td>60.000000</td>\n",
       "      <td>6.000000</td>\n",
       "      <td>141.000000</td>\n",
       "      <td>499.000000</td>\n",
       "      <td>15.000000</td>\n",
       "      <td>95.000000</td>\n",
       "      <td>77911.063903</td>\n",
       "      <td>2117.000000</td>\n",
       "      <td>6.000000</td>\n",
       "      <td>19.0</td>\n",
       "    </tr>\n",
       "  </tbody>\n",
       "</table>\n",
       "</div>"
      ],
      "text/plain": [
       "               DUID           PID      DUPERSID         CONDN       CONDIDX  \\\n",
       "count  8.756100e+04  87561.000000  8.756100e+04  87561.000000  8.756100e+04   \n",
       "mean   2.391797e+06    102.762588  2.391797e+09      6.187252  2.391797e+12   \n",
       "std    6.995006e+04     12.319195  6.995006e+07      5.334625  6.995006e+10   \n",
       "min    2.320002e+06    101.000000  2.320002e+09      1.000000  2.320002e+12   \n",
       "25%    2.324788e+06    101.000000  2.324788e+09      2.000000  2.324788e+12   \n",
       "50%    2.329271e+06    101.000000  2.329271e+09      5.000000  2.329271e+12   \n",
       "75%    2.464603e+06    102.000000  2.464603e+09      8.000000  2.464603e+12   \n",
       "max    2.469689e+06    503.000000  2.469689e+09     54.000000  2.469689e+12   \n",
       "\n",
       "              HHNUM         IPNUM         OPNUM         OBNUM         ERNUM  \\\n",
       "count  87561.000000  87561.000000  87561.000000  87561.000000  87561.000000   \n",
       "mean       0.173742      0.040223      0.264970      2.302395      0.079864   \n",
       "std        1.237583      0.232921      2.093283      7.488539      0.348568   \n",
       "min        0.000000      0.000000      0.000000      0.000000      0.000000   \n",
       "25%        0.000000      0.000000      0.000000      0.000000      0.000000   \n",
       "50%        0.000000      0.000000      0.000000      1.000000      0.000000   \n",
       "75%        0.000000      0.000000      0.000000      2.000000      0.000000   \n",
       "max       60.000000      6.000000    141.000000    499.000000     15.000000   \n",
       "\n",
       "              RXNUM   PERWT_YEARF        VARSTR        VARPSU     year  \n",
       "count  87561.000000  87561.000000  87561.000000  87561.000000  87561.0  \n",
       "mean       1.626375  10934.329965   2055.463563      1.851772     19.0  \n",
       "std        2.198368   6711.337645     33.712282      0.904541      0.0  \n",
       "min        0.000000      0.000000   2001.000000      1.000000     19.0  \n",
       "25%        0.000000   6640.465438   2026.000000      1.000000     19.0  \n",
       "50%        1.000000   9564.524517   2052.000000      2.000000     19.0  \n",
       "75%        2.000000  13629.531798   2084.000000      2.000000     19.0  \n",
       "max       95.000000  77911.063903   2117.000000      6.000000     19.0  "
      ]
     },
     "execution_count": 106,
     "metadata": {},
     "output_type": "execute_result"
    },
    {
     "data": {
      "text/plain": [
       "Index(['DUID', 'PID', 'DUPERSID', 'CONDN', 'CONDIDX', 'PANEL', 'CONDRN',\n",
       "       'AGEDIAG', 'CRND1', 'CRND2', 'CRND3', 'CRND4', 'CRND5', 'INJURY',\n",
       "       'ACCDNWRK', 'ICD10CDX', 'CCSR1X', 'CCSR2X', 'CCSR3X', 'HHNUM', 'IPNUM',\n",
       "       'OPNUM', 'OBNUM', 'ERNUM', 'RXNUM', 'PERWT_YEARF', 'VARSTR', 'VARPSU',\n",
       "       'year'],\n",
       "      dtype='object')"
      ]
     },
     "execution_count": 106,
     "metadata": {},
     "output_type": "execute_result"
    }
   ],
   "source": [
    "# Describing the data\n",
    "data_raw.describe()\n",
    "data_raw.columns\n",
    "\n",
    "# Filter out only columns we need\n",
    "df = data_raw[mc_cols]"
   ]
  },
  {
   "cell_type": "code",
   "execution_count": 107,
   "metadata": {},
   "outputs": [
    {
     "data": {
      "text/plain": [
       "['DUPERSID', 'CONDN', 'INJURY']"
      ]
     },
     "execution_count": 107,
     "metadata": {},
     "output_type": "execute_result"
    },
    {
     "name": "stdout",
     "output_type": "stream",
     "text": [
      "Num of unique DUPERSID: 19810\n",
      "Length of dataset: 87561\n",
      "Value counts for Injury:\n"
     ]
    },
    {
     "data": {
      "text/plain": [
       "2 NO     83051\n",
       "1 YES     4510\n",
       "Name: INJURY, dtype: int64"
      ]
     },
     "execution_count": 107,
     "metadata": {},
     "output_type": "execute_result"
    },
    {
     "name": "stdout",
     "output_type": "stream",
     "text": [
      "Class type for Injury var: <class 'str'>\n"
     ]
    }
   ],
   "source": [
    "# List of column names\n",
    "list(df.columns)\n",
    "\n",
    "# Number of unique IDs\n",
    "print(f\"Num of unique DUPERSID: {df['DUPERSID'].nunique()}\")\n",
    "\n",
    "# Length of original dataset\n",
    "print(f\"Length of dataset: {len(df)}\")\n",
    "\n",
    "# Check value counts of injury\n",
    "print(\"Value counts for Injury:\")\n",
    "df['INJURY'].value_counts(dropna=False)\n",
    "\n",
    "print(f\"Class type for Injury var: {type(df['INJURY'][0])}\")\n"
   ]
  },
  {
   "cell_type": "markdown",
   "metadata": {},
   "source": [
    "## Data cleaning (for one year)"
   ]
  },
  {
   "cell_type": "markdown",
   "metadata": {},
   "source": [
    "#### Recoding Injury from 1/2 to 1/0"
   ]
  },
  {
   "cell_type": "code",
   "execution_count": 108,
   "metadata": {},
   "outputs": [
    {
     "name": "stderr",
     "output_type": "stream",
     "text": [
      "<ipython-input-108-7f678b7c23da>:3: SettingWithCopyWarning: \n",
      "A value is trying to be set on a copy of a slice from a DataFrame.\n",
      "Try using .loc[row_indexer,col_indexer] = value instead\n",
      "\n",
      "See the caveats in the documentation: https://pandas.pydata.org/pandas-docs/stable/user_guide/indexing.html#returning-a-view-versus-a-copy\n",
      "  df['INJURY'] = df['INJURY'].apply(lambda x: 1 if x == \"1 YES\" else 0)\n"
     ]
    },
    {
     "data": {
      "text/plain": [
       "0    83051\n",
       "1     4510\n",
       "Name: INJURY, dtype: int64"
      ]
     },
     "execution_count": 108,
     "metadata": {},
     "output_type": "execute_result"
    }
   ],
   "source": [
    "# Change INJURY from 1/2 to 1/0\n",
    "# df['INJURY'] = df['INJURY'].apply(lambda x: 1 if x == 1 else 0)\n",
    "df['INJURY'] = df['INJURY'].apply(lambda x: 1 if x == \"1 YES\" else 0)\n",
    "\n",
    "# Check recoded value counts of injury - good\n",
    "df['INJURY'].value_counts(dropna=False)"
   ]
  },
  {
   "cell_type": "markdown",
   "metadata": {},
   "source": [
    "#### Aggregating data into a new dataframe"
   ]
  },
  {
   "cell_type": "code",
   "execution_count": 99,
   "metadata": {},
   "outputs": [],
   "source": [
    "# Aggregate data by DUPERSID\n",
    "df_agg = df.groupby(by=\"DUPERSID\", as_index=False).agg(\n",
    "    # Create new vars\n",
    "    NUM_CONDITIONS = ('CONDN', 'count'),\n",
    "    INJURY = ('INJURY', 'max'))"
   ]
  },
  {
   "cell_type": "markdown",
   "metadata": {},
   "source": [
    "#### Checking data cleaning"
   ]
  },
  {
   "cell_type": "code",
   "execution_count": 100,
   "metadata": {},
   "outputs": [
    {
     "data": {
      "text/plain": [
       "['DUPERSID', 'NUM_CONDITIONS', 'INJURY']"
      ]
     },
     "execution_count": 100,
     "metadata": {},
     "output_type": "execute_result"
    },
    {
     "data": {
      "text/plain": [
       "23936"
      ]
     },
     "execution_count": 100,
     "metadata": {},
     "output_type": "execute_result"
    },
    {
     "data": {
      "text/plain": [
       "23936"
      ]
     },
     "execution_count": 100,
     "metadata": {},
     "output_type": "execute_result"
    },
    {
     "data": {
      "text/plain": [
       "True"
      ]
     },
     "execution_count": 100,
     "metadata": {},
     "output_type": "execute_result"
    },
    {
     "data": {
      "text/plain": [
       "True"
      ]
     },
     "execution_count": 100,
     "metadata": {},
     "output_type": "execute_result"
    },
    {
     "data": {
      "text/plain": [
       "0    18906\n",
       "1     5030\n",
       "Name: INJURY, dtype: int64"
      ]
     },
     "execution_count": 100,
     "metadata": {},
     "output_type": "execute_result"
    },
    {
     "data": {
      "text/plain": [
       "5030"
      ]
     },
     "execution_count": 100,
     "metadata": {},
     "output_type": "execute_result"
    },
    {
     "data": {
      "text/plain": [
       "True"
      ]
     },
     "execution_count": 100,
     "metadata": {},
     "output_type": "execute_result"
    }
   ],
   "source": [
    "# Check new column names\n",
    "list(df_agg.columns)\n",
    "\n",
    "# Check length of agg df = # of unique ID's\n",
    "len(df_agg)\n",
    "df_agg['DUPERSID'].nunique()\n",
    "\n",
    "# Check that # unique IDs stayed the same in agg df\n",
    "df['DUPERSID'].nunique() == df_agg['DUPERSID'].nunique()\n",
    "\n",
    "# Check that sum of # conditions = number of rows of original df\n",
    "sum(df_agg[\"NUM_CONDITIONS\"]) == len(df)\n",
    "\n",
    "# See frequencies of \"INJURY\"\n",
    "df_agg['INJURY'].value_counts()\n",
    "\n",
    "# Checking against original injury var\n",
    "ct_inj_1 = df.loc[df['INJURY'] == 1]['DUPERSID'].nunique()\n",
    "ct_inj_1\n",
    "df_agg['INJURY'].value_counts()[1] == ct_inj_1"
   ]
  }
 ],
 "metadata": {
  "interpreter": {
   "hash": "31f2aee4e71d21fbe5cf8b01ff0e069b9275f58929596ceb00d14d90e3e16cd6"
  },
  "kernelspec": {
   "display_name": "Python 3.8.5 64-bit",
   "language": "python",
   "name": "python3"
  },
  "language_info": {
   "codemirror_mode": {
    "name": "ipython",
    "version": 3
   },
   "file_extension": ".py",
   "mimetype": "text/x-python",
   "name": "python",
   "nbconvert_exporter": "python",
   "pygments_lexer": "ipython3",
   "version": "3.8.5"
  },
  "orig_nbformat": 4
 },
 "nbformat": 4,
 "nbformat_minor": 2
}
