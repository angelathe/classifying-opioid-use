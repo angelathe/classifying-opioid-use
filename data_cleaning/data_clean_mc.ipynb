{
 "cells": [
  {
   "cell_type": "markdown",
   "metadata": {},
   "source": [
    "# Data Cleaning: MEPS Medical Conditions Data (2014-2019)"
   ]
  },
  {
   "cell_type": "markdown",
   "metadata": {},
   "source": [
    "## Import packages and read data"
   ]
  },
  {
   "cell_type": "code",
   "execution_count": 92,
   "metadata": {},
   "outputs": [],
   "source": [
    "# Import statements\n",
    "import pandas as pd\n",
    "import numpy as np\n",
    "\n",
    "# To show all lines of output\n",
    "from IPython.core.interactiveshell import InteractiveShell\n",
    "InteractiveShell.ast_node_interactivity = \"all\""
   ]
  },
  {
   "cell_type": "code",
   "execution_count": 93,
   "metadata": {},
   "outputs": [],
   "source": [
    "# Reading in the data\n",
    "data_raw = pd.read_excel('h199.xlsx')"
   ]
  },
  {
   "cell_type": "markdown",
   "metadata": {},
   "source": [
    "## View the data"
   ]
  },
  {
   "cell_type": "code",
   "execution_count": 94,
   "metadata": {},
   "outputs": [
    {
     "data": {
      "text/html": [
       "<div>\n",
       "<style scoped>\n",
       "    .dataframe tbody tr th:only-of-type {\n",
       "        vertical-align: middle;\n",
       "    }\n",
       "\n",
       "    .dataframe tbody tr th {\n",
       "        vertical-align: top;\n",
       "    }\n",
       "\n",
       "    .dataframe thead th {\n",
       "        text-align: right;\n",
       "    }\n",
       "</style>\n",
       "<table border=\"1\" class=\"dataframe\">\n",
       "  <thead>\n",
       "    <tr style=\"text-align: right;\">\n",
       "      <th></th>\n",
       "      <th>DUID</th>\n",
       "      <th>PID</th>\n",
       "      <th>DUPERSID</th>\n",
       "      <th>CONDN</th>\n",
       "      <th>CONDIDX</th>\n",
       "      <th>PANEL</th>\n",
       "      <th>CONDRN</th>\n",
       "      <th>AGEDIAG</th>\n",
       "      <th>CRND1</th>\n",
       "      <th>CRND2</th>\n",
       "      <th>...</th>\n",
       "      <th>ACCDNWRK</th>\n",
       "      <th>HHNUM</th>\n",
       "      <th>IPNUM</th>\n",
       "      <th>OPNUM</th>\n",
       "      <th>OBNUM</th>\n",
       "      <th>ERNUM</th>\n",
       "      <th>RXNUM</th>\n",
       "      <th>PERWT17F</th>\n",
       "      <th>VARSTR</th>\n",
       "      <th>VARPSU</th>\n",
       "    </tr>\n",
       "  </thead>\n",
       "  <tbody>\n",
       "    <tr>\n",
       "      <th>count</th>\n",
       "      <td>112630.000000</td>\n",
       "      <td>112630.000000</td>\n",
       "      <td>1.126300e+05</td>\n",
       "      <td>112630.000000</td>\n",
       "      <td>1.126300e+05</td>\n",
       "      <td>112630.000000</td>\n",
       "      <td>112630.000000</td>\n",
       "      <td>112630.000000</td>\n",
       "      <td>112630.000000</td>\n",
       "      <td>112630.000000</td>\n",
       "      <td>...</td>\n",
       "      <td>112630.000000</td>\n",
       "      <td>112630.000000</td>\n",
       "      <td>112630.000000</td>\n",
       "      <td>112630.000000</td>\n",
       "      <td>112630.000000</td>\n",
       "      <td>112630.000000</td>\n",
       "      <td>112630.000000</td>\n",
       "      <td>112630.000000</td>\n",
       "      <td>112630.000000</td>\n",
       "      <td>112630.000000</td>\n",
       "    </tr>\n",
       "    <tr>\n",
       "      <th>mean</th>\n",
       "      <td>54395.458599</td>\n",
       "      <td>103.138471</td>\n",
       "      <td>5.439556e+07</td>\n",
       "      <td>64.149925</td>\n",
       "      <td>5.439556e+11</td>\n",
       "      <td>21.494442</td>\n",
       "      <td>2.122587</td>\n",
       "      <td>7.899689</td>\n",
       "      <td>-0.266465</td>\n",
       "      <td>-0.216346</td>\n",
       "      <td>...</td>\n",
       "      <td>-0.841108</td>\n",
       "      <td>0.111675</td>\n",
       "      <td>0.031484</td>\n",
       "      <td>0.149383</td>\n",
       "      <td>1.687765</td>\n",
       "      <td>0.064796</td>\n",
       "      <td>1.285918</td>\n",
       "      <td>10850.060774</td>\n",
       "      <td>1565.930827</td>\n",
       "      <td>1.626503</td>\n",
       "    </tr>\n",
       "    <tr>\n",
       "      <th>std</th>\n",
       "      <td>40149.731440</td>\n",
       "      <td>13.468809</td>\n",
       "      <td>4.014973e+07</td>\n",
       "      <td>55.829979</td>\n",
       "      <td>4.014973e+11</td>\n",
       "      <td>0.499971</td>\n",
       "      <td>1.223972</td>\n",
       "      <td>20.469450</td>\n",
       "      <td>0.820764</td>\n",
       "      <td>0.864854</td>\n",
       "      <td>...</td>\n",
       "      <td>0.737240</td>\n",
       "      <td>0.945474</td>\n",
       "      <td>0.208545</td>\n",
       "      <td>1.476622</td>\n",
       "      <td>5.801767</td>\n",
       "      <td>0.303860</td>\n",
       "      <td>1.889144</td>\n",
       "      <td>8009.562354</td>\n",
       "      <td>487.947178</td>\n",
       "      <td>0.641028</td>\n",
       "    </tr>\n",
       "    <tr>\n",
       "      <th>min</th>\n",
       "      <td>10001.000000</td>\n",
       "      <td>101.000000</td>\n",
       "      <td>1.000110e+07</td>\n",
       "      <td>11.000000</td>\n",
       "      <td>1.000110e+11</td>\n",
       "      <td>21.000000</td>\n",
       "      <td>1.000000</td>\n",
       "      <td>-9.000000</td>\n",
       "      <td>-1.000000</td>\n",
       "      <td>-1.000000</td>\n",
       "      <td>...</td>\n",
       "      <td>-9.000000</td>\n",
       "      <td>0.000000</td>\n",
       "      <td>0.000000</td>\n",
       "      <td>0.000000</td>\n",
       "      <td>0.000000</td>\n",
       "      <td>0.000000</td>\n",
       "      <td>0.000000</td>\n",
       "      <td>0.000000</td>\n",
       "      <td>1001.000000</td>\n",
       "      <td>1.000000</td>\n",
       "    </tr>\n",
       "    <tr>\n",
       "      <th>25%</th>\n",
       "      <td>14667.000000</td>\n",
       "      <td>101.000000</td>\n",
       "      <td>1.466710e+07</td>\n",
       "      <td>21.000000</td>\n",
       "      <td>1.466710e+11</td>\n",
       "      <td>21.000000</td>\n",
       "      <td>1.000000</td>\n",
       "      <td>-1.000000</td>\n",
       "      <td>-1.000000</td>\n",
       "      <td>-1.000000</td>\n",
       "      <td>...</td>\n",
       "      <td>-1.000000</td>\n",
       "      <td>0.000000</td>\n",
       "      <td>0.000000</td>\n",
       "      <td>0.000000</td>\n",
       "      <td>0.000000</td>\n",
       "      <td>0.000000</td>\n",
       "      <td>0.000000</td>\n",
       "      <td>5602.930770</td>\n",
       "      <td>1086.000000</td>\n",
       "      <td>1.000000</td>\n",
       "    </tr>\n",
       "    <tr>\n",
       "      <th>50%</th>\n",
       "      <td>19569.000000</td>\n",
       "      <td>101.000000</td>\n",
       "      <td>1.956910e+07</td>\n",
       "      <td>51.000000</td>\n",
       "      <td>1.956910e+11</td>\n",
       "      <td>21.000000</td>\n",
       "      <td>2.000000</td>\n",
       "      <td>-1.000000</td>\n",
       "      <td>-1.000000</td>\n",
       "      <td>-1.000000</td>\n",
       "      <td>...</td>\n",
       "      <td>-1.000000</td>\n",
       "      <td>0.000000</td>\n",
       "      <td>0.000000</td>\n",
       "      <td>0.000000</td>\n",
       "      <td>0.000000</td>\n",
       "      <td>0.000000</td>\n",
       "      <td>1.000000</td>\n",
       "      <td>9112.861179</td>\n",
       "      <td>1163.000000</td>\n",
       "      <td>2.000000</td>\n",
       "    </tr>\n",
       "    <tr>\n",
       "      <th>75%</th>\n",
       "      <td>94866.000000</td>\n",
       "      <td>102.000000</td>\n",
       "      <td>9.486610e+07</td>\n",
       "      <td>91.000000</td>\n",
       "      <td>9.486610e+11</td>\n",
       "      <td>22.000000</td>\n",
       "      <td>3.000000</td>\n",
       "      <td>-1.000000</td>\n",
       "      <td>0.000000</td>\n",
       "      <td>1.000000</td>\n",
       "      <td>...</td>\n",
       "      <td>-1.000000</td>\n",
       "      <td>0.000000</td>\n",
       "      <td>0.000000</td>\n",
       "      <td>0.000000</td>\n",
       "      <td>1.000000</td>\n",
       "      <td>0.000000</td>\n",
       "      <td>2.000000</td>\n",
       "      <td>13760.992781</td>\n",
       "      <td>2056.000000</td>\n",
       "      <td>2.000000</td>\n",
       "    </tr>\n",
       "    <tr>\n",
       "      <th>max</th>\n",
       "      <td>99692.000000</td>\n",
       "      <td>503.000000</td>\n",
       "      <td>9.969210e+07</td>\n",
       "      <td>581.000000</td>\n",
       "      <td>9.969210e+11</td>\n",
       "      <td>22.000000</td>\n",
       "      <td>5.000000</td>\n",
       "      <td>85.000000</td>\n",
       "      <td>1.000000</td>\n",
       "      <td>1.000000</td>\n",
       "      <td>...</td>\n",
       "      <td>3.000000</td>\n",
       "      <td>43.000000</td>\n",
       "      <td>9.000000</td>\n",
       "      <td>140.000000</td>\n",
       "      <td>305.000000</td>\n",
       "      <td>11.000000</td>\n",
       "      <td>40.000000</td>\n",
       "      <td>98538.075709</td>\n",
       "      <td>2117.000000</td>\n",
       "      <td>3.000000</td>\n",
       "    </tr>\n",
       "  </tbody>\n",
       "</table>\n",
       "<p>8 rows × 24 columns</p>\n",
       "</div>"
      ],
      "text/plain": [
       "                DUID            PID      DUPERSID          CONDN  \\\n",
       "count  112630.000000  112630.000000  1.126300e+05  112630.000000   \n",
       "mean    54395.458599     103.138471  5.439556e+07      64.149925   \n",
       "std     40149.731440      13.468809  4.014973e+07      55.829979   \n",
       "min     10001.000000     101.000000  1.000110e+07      11.000000   \n",
       "25%     14667.000000     101.000000  1.466710e+07      21.000000   \n",
       "50%     19569.000000     101.000000  1.956910e+07      51.000000   \n",
       "75%     94866.000000     102.000000  9.486610e+07      91.000000   \n",
       "max     99692.000000     503.000000  9.969210e+07     581.000000   \n",
       "\n",
       "            CONDIDX          PANEL         CONDRN        AGEDIAG  \\\n",
       "count  1.126300e+05  112630.000000  112630.000000  112630.000000   \n",
       "mean   5.439556e+11      21.494442       2.122587       7.899689   \n",
       "std    4.014973e+11       0.499971       1.223972      20.469450   \n",
       "min    1.000110e+11      21.000000       1.000000      -9.000000   \n",
       "25%    1.466710e+11      21.000000       1.000000      -1.000000   \n",
       "50%    1.956910e+11      21.000000       2.000000      -1.000000   \n",
       "75%    9.486610e+11      22.000000       3.000000      -1.000000   \n",
       "max    9.969210e+11      22.000000       5.000000      85.000000   \n",
       "\n",
       "               CRND1          CRND2  ...       ACCDNWRK          HHNUM  \\\n",
       "count  112630.000000  112630.000000  ...  112630.000000  112630.000000   \n",
       "mean       -0.266465      -0.216346  ...      -0.841108       0.111675   \n",
       "std         0.820764       0.864854  ...       0.737240       0.945474   \n",
       "min        -1.000000      -1.000000  ...      -9.000000       0.000000   \n",
       "25%        -1.000000      -1.000000  ...      -1.000000       0.000000   \n",
       "50%        -1.000000      -1.000000  ...      -1.000000       0.000000   \n",
       "75%         0.000000       1.000000  ...      -1.000000       0.000000   \n",
       "max         1.000000       1.000000  ...       3.000000      43.000000   \n",
       "\n",
       "               IPNUM          OPNUM          OBNUM          ERNUM  \\\n",
       "count  112630.000000  112630.000000  112630.000000  112630.000000   \n",
       "mean        0.031484       0.149383       1.687765       0.064796   \n",
       "std         0.208545       1.476622       5.801767       0.303860   \n",
       "min         0.000000       0.000000       0.000000       0.000000   \n",
       "25%         0.000000       0.000000       0.000000       0.000000   \n",
       "50%         0.000000       0.000000       0.000000       0.000000   \n",
       "75%         0.000000       0.000000       1.000000       0.000000   \n",
       "max         9.000000     140.000000     305.000000      11.000000   \n",
       "\n",
       "               RXNUM       PERWT17F         VARSTR         VARPSU  \n",
       "count  112630.000000  112630.000000  112630.000000  112630.000000  \n",
       "mean        1.285918   10850.060774    1565.930827       1.626503  \n",
       "std         1.889144    8009.562354     487.947178       0.641028  \n",
       "min         0.000000       0.000000    1001.000000       1.000000  \n",
       "25%         0.000000    5602.930770    1086.000000       1.000000  \n",
       "50%         1.000000    9112.861179    1163.000000       2.000000  \n",
       "75%         2.000000   13760.992781    2056.000000       2.000000  \n",
       "max        40.000000   98538.075709    2117.000000       3.000000  \n",
       "\n",
       "[8 rows x 24 columns]"
      ]
     },
     "execution_count": 94,
     "metadata": {},
     "output_type": "execute_result"
    },
    {
     "data": {
      "text/plain": [
       "Index(['DUID', 'PID', 'DUPERSID', 'CONDN', 'CONDIDX', 'PANEL', 'CONDRN',\n",
       "       'AGEDIAG', 'CRND1', 'CRND2', 'CRND3', 'CRND4', 'CRND5', 'INJURY',\n",
       "       'ACCDNWRK', 'ICD10CDX', 'HHNUM', 'IPNUM', 'OPNUM', 'OBNUM', 'ERNUM',\n",
       "       'RXNUM', 'PERWT17F', 'VARSTR', 'VARPSU'],\n",
       "      dtype='object')"
      ]
     },
     "execution_count": 94,
     "metadata": {},
     "output_type": "execute_result"
    }
   ],
   "source": [
    "# Describing the data\n",
    "data_raw.describe()\n",
    "data_raw.columns\n",
    "\n",
    "# Filter out only columns we need\n",
    "df = data_raw[['DUPERSID', 'CONDN', 'INJURY']]"
   ]
  },
  {
   "cell_type": "code",
   "execution_count": 96,
   "metadata": {},
   "outputs": [
    {
     "data": {
      "text/plain": [
       "['DUPERSID', 'CONDN', 'INJURY']"
      ]
     },
     "execution_count": 96,
     "metadata": {},
     "output_type": "execute_result"
    },
    {
     "data": {
      "text/plain": [
       "23936"
      ]
     },
     "execution_count": 96,
     "metadata": {},
     "output_type": "execute_result"
    },
    {
     "data": {
      "text/plain": [
       "112630"
      ]
     },
     "execution_count": 96,
     "metadata": {},
     "output_type": "execute_result"
    },
    {
     "data": {
      "text/plain": [
       "2    105570\n",
       "1      7060\n",
       "Name: INJURY, dtype: int64"
      ]
     },
     "execution_count": 96,
     "metadata": {},
     "output_type": "execute_result"
    }
   ],
   "source": [
    "# List of column names\n",
    "list(df.columns)\n",
    "\n",
    "# Number of unique IDs\n",
    "df['DUPERSID'].nunique()\n",
    "\n",
    "# Length of original dataset\n",
    "len(df)\n",
    "\n",
    "# Check value counts of injury\n",
    "df['INJURY'].value_counts(dropna=False)"
   ]
  },
  {
   "cell_type": "markdown",
   "metadata": {},
   "source": [
    "## Data cleaning"
   ]
  },
  {
   "cell_type": "markdown",
   "metadata": {},
   "source": [
    "#### Recoding Injury from 1/2 to 1/0"
   ]
  },
  {
   "cell_type": "code",
   "execution_count": 126,
   "metadata": {},
   "outputs": [
    {
     "name": "stderr",
     "output_type": "stream",
     "text": [
      "<ipython-input-126-2eff85d87e2f>:2: SettingWithCopyWarning: \n",
      "A value is trying to be set on a copy of a slice from a DataFrame\n",
      "\n",
      "See the caveats in the documentation: https://pandas.pydata.org/pandas-docs/stable/user_guide/indexing.html#returning-a-view-versus-a-copy\n",
      "  df.loc[df['INJURY'] == 2] = 0\n"
     ]
    },
    {
     "data": {
      "text/plain": [
       "0    105570\n",
       "1      7060\n",
       "Name: INJURY, dtype: int64"
      ]
     },
     "execution_count": 126,
     "metadata": {},
     "output_type": "execute_result"
    }
   ],
   "source": [
    "# Change INJURY from 1/2 to 1/0\n",
    "df.loc[df['INJURY'] == 2] = 0\n",
    "\n",
    "# Check recoded value counts of injury - good\n",
    "df['INJURY'].value_counts(dropna=False)"
   ]
  },
  {
   "cell_type": "markdown",
   "metadata": {},
   "source": [
    "#### Aggregating data into a new dataframe"
   ]
  },
  {
   "cell_type": "code",
   "execution_count": 168,
   "metadata": {},
   "outputs": [],
   "source": [
    "# Aggregate data by DUPERSID\n",
    "df_agg = df.groupby(by=\"DUPERSID\", as_index=False).agg(\n",
    "    # Create new vars\n",
    "    NUM_CONDITIONS = ('CONDN', 'count'),\n",
    "    INJURY2 = ('INJURY', 'max')) # HERE IS THE PROBLEM"
   ]
  },
  {
   "cell_type": "markdown",
   "metadata": {},
   "source": [
    "#### Checking data cleaning"
   ]
  },
  {
   "cell_type": "code",
   "execution_count": 169,
   "metadata": {},
   "outputs": [
    {
     "data": {
      "text/plain": [
       "['DUPERSID', 'NUM_CONDITIONS', 'INJURY2']"
      ]
     },
     "execution_count": 169,
     "metadata": {},
     "output_type": "execute_result"
    },
    {
     "data": {
      "text/plain": [
       "5031"
      ]
     },
     "execution_count": 169,
     "metadata": {},
     "output_type": "execute_result"
    },
    {
     "data": {
      "text/plain": [
       "5031"
      ]
     },
     "execution_count": 169,
     "metadata": {},
     "output_type": "execute_result"
    },
    {
     "data": {
      "text/plain": [
       "True"
      ]
     },
     "execution_count": 169,
     "metadata": {},
     "output_type": "execute_result"
    },
    {
     "data": {
      "text/plain": [
       "True"
      ]
     },
     "execution_count": 169,
     "metadata": {},
     "output_type": "execute_result"
    },
    {
     "data": {
      "text/plain": [
       "1    5030\n",
       "0       1\n",
       "Name: INJURY2, dtype: int64"
      ]
     },
     "execution_count": 169,
     "metadata": {},
     "output_type": "execute_result"
    }
   ],
   "source": [
    "# Check new column names\n",
    "list(df_agg.columns)\n",
    "\n",
    "# Check length of agg df = # of unique ID's\n",
    "len(df_agg)\n",
    "df_agg['DUPERSID'].nunique()\n",
    "\n",
    "# Check that # unique IDs stayed the same in agg df\n",
    "df['DUPERSID'].nunique() == df_agg['DUPERSID'].nunique()\n",
    "\n",
    "# Check that sum of # conditions = number of rows of original df\n",
    "sum(df_agg[\"NUM_CONDITIONS\"]) == len(df)\n",
    "\n",
    "# See frequencies of \"INJURY\"\n",
    "df_agg['INJURY2'].value_counts()"
   ]
  },
  {
   "cell_type": "code",
   "execution_count": 164,
   "metadata": {},
   "outputs": [
    {
     "name": "stderr",
     "output_type": "stream",
     "text": [
      "<ipython-input-164-e9d4951b10da>:2: SettingWithCopyWarning: \n",
      "A value is trying to be set on a copy of a slice from a DataFrame\n",
      "\n",
      "See the caveats in the documentation: https://pandas.pydata.org/pandas-docs/stable/user_guide/indexing.html#returning-a-view-versus-a-copy\n",
      "  test.drop_duplicates(subset =\"DUPERSID\",\n"
     ]
    },
    {
     "data": {
      "text/plain": [
       "3804"
      ]
     },
     "execution_count": 164,
     "metadata": {},
     "output_type": "execute_result"
    }
   ],
   "source": [
    "# Checking against original injury var\n",
    "# Num of 1's should be 3804\n",
    "\n",
    "test = df.loc[df['INJURY'] == 1]\n",
    "test.drop_duplicates(subset =\"DUPERSID\",\n",
    "                     keep = False, inplace = True)\n",
    "len(test)"
   ]
  },
  {
   "cell_type": "markdown",
   "metadata": {},
   "source": [
    "## Next To Do"
   ]
  },
  {
   "cell_type": "code",
   "execution_count": null,
   "metadata": {},
   "outputs": [],
   "source": [
    "# ADD DUPERSID YEAR CODE\n",
    "# DO FOR ALL YEARS\n",
    "\n",
    "# CHECK NA's FOR ALL YEAR DATSETS FOR OUR COLUMNS"
   ]
  }
 ],
 "metadata": {
  "interpreter": {
   "hash": "31f2aee4e71d21fbe5cf8b01ff0e069b9275f58929596ceb00d14d90e3e16cd6"
  },
  "kernelspec": {
   "display_name": "Python 3.8.5 64-bit",
   "language": "python",
   "name": "python3"
  },
  "language_info": {
   "codemirror_mode": {
    "name": "ipython",
    "version": 3
   },
   "file_extension": ".py",
   "mimetype": "text/x-python",
   "name": "python",
   "nbconvert_exporter": "python",
   "pygments_lexer": "ipython3",
   "version": "3.8.5"
  },
  "orig_nbformat": 4
 },
 "nbformat": 4,
 "nbformat_minor": 2
}
